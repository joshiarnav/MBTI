{
  "cells": [
    {
      "cell_type": "markdown",
      "metadata": {
        "id": "EW9qN7mLjl77"
      },
      "source": [
        "#pLSA\n",
        "\n",
        "Using pLSA to find personality spreads within text and predict personalities as well!"
      ]
    },
    {
      "cell_type": "code",
      "execution_count": 3,
      "metadata": {
        "id": "0sMGfgYTjur2"
      },
      "outputs": [],
      "source": [
        "import pandas as pd\n",
        "import numpy as np\n",
        "import matplotlib.pyplot as plt\n",
        "import seaborn as sns"
      ]
    },
    {
      "cell_type": "code",
      "execution_count": null,
      "metadata": {
        "colab": {
          "base_uri": "https://localhost:8080/"
        },
        "id": "WHT0ogvRjuw1",
        "outputId": "173476c6-a79c-435c-f1d8-2dc07ebde224"
      },
      "outputs": [
        {
          "name": "stdout",
          "output_type": "stream",
          "text": [
            "The scikit-learn version is 1.0.2.\n"
          ]
        }
      ],
      "source": [
        "import sklearn\n",
        "print('The scikit-learn version is {}.'.format(sklearn.__version__))"
      ]
    },
    {
      "cell_type": "code",
      "execution_count": null,
      "metadata": {
        "colab": {
          "base_uri": "https://localhost:8080/"
        },
        "id": "qe-5PRT-vvbW",
        "outputId": "0e48814d-de13-427a-9592-63662adcdd4e"
      },
      "outputs": [
        {
          "name": "stdout",
          "output_type": "stream",
          "text": [
            "Drive already mounted at /content/drive; to attempt to forcibly remount, call drive.mount(\"/content/drive\", force_remount=True).\n"
          ]
        }
      ],
      "source": [
        "from google.colab import drive\n",
        "drive.mount('/content/drive')"
      ]
    },
    {
      "cell_type": "code",
      "execution_count": null,
      "metadata": {
        "colab": {
          "base_uri": "https://localhost:8080/",
          "height": 35
        },
        "id": "83Sbt4lGucTj",
        "outputId": "894ca098-d7ce-4472-b916-351ad069dbbb"
      },
      "outputs": [
        {
          "data": {
            "application/vnd.google.colaboratory.intrinsic+json": {
              "type": "string"
            },
            "text/plain": [
              "'/content/drive/MyDrive/'"
            ]
          },
          "execution_count": 4,
          "metadata": {},
          "output_type": "execute_result"
        }
      ],
      "source": [
        "path = '/content/drive/MyDrive/'\n",
        "path"
      ]
    },
    {
      "cell_type": "markdown",
      "metadata": {
        "id": "j5GAhJegoH0t"
      },
      "source": [
        "Uploading the text data into dataframes"
      ]
    },
    {
      "cell_type": "code",
      "execution_count": null,
      "metadata": {
        "colab": {
          "base_uri": "https://localhost:8080/",
          "height": 1000
        },
        "id": "k7SdLWP1juzv",
        "outputId": "e9fcce07-a644-4e53-9eaf-a5a3bf0bdf61"
      },
      "outputs": [
        {
          "name": "stdout",
          "output_type": "stream",
          "text": [
            "<class 'pandas.core.frame.DataFrame'>\n",
            "RangeIndex: 8675 entries, 0 to 8674\n",
            "Data columns (total 2 columns):\n",
            " #   Column  Non-Null Count  Dtype \n",
            "---  ------  --------------  ----- \n",
            " 0   type    8675 non-null   object\n",
            " 1   posts   8675 non-null   object\n",
            "dtypes: object(2)\n",
            "memory usage: 135.7+ KB\n"
          ]
        },
        {
          "data": {
            "text/html": [
              "\n",
              "  <div id=\"df-dfe317ef-d2be-4747-a26c-42bb49feb948\">\n",
              "    <div class=\"colab-df-container\">\n",
              "      <div>\n",
              "<style scoped>\n",
              "    .dataframe tbody tr th:only-of-type {\n",
              "        vertical-align: middle;\n",
              "    }\n",
              "\n",
              "    .dataframe tbody tr th {\n",
              "        vertical-align: top;\n",
              "    }\n",
              "\n",
              "    .dataframe thead th {\n",
              "        text-align: right;\n",
              "    }\n",
              "</style>\n",
              "<table border=\"1\" class=\"dataframe\">\n",
              "  <thead>\n",
              "    <tr style=\"text-align: right;\">\n",
              "      <th></th>\n",
              "      <th>type</th>\n",
              "      <th>posts</th>\n",
              "    </tr>\n",
              "  </thead>\n",
              "  <tbody>\n",
              "    <tr>\n",
              "      <th>0</th>\n",
              "      <td>INFJ</td>\n",
              "      <td>' and intj moments sportscenter not top ten plays pranksWhat has been the most lifechanging experience in your life  On repeat for most of todayMay the PerC Experience immerse youThe last thing my INFJ friend posted on his facebook before committing suicide the next day Rest in peace~ ENFJ Sorry to hear of your distress It's only natural for a relationship to not be perfection all the time in every moment of existence Try to figure the hard times as times of growth as  Welcome and stuff Game Set MatchProzac wellbrutin at least thirty minutes of moving your legs and I don't mean moving them...</td>\n",
              "    </tr>\n",
              "    <tr>\n",
              "      <th>1</th>\n",
              "      <td>ENTP</td>\n",
              "      <td>'I'm finding the lack of me in these posts very alarmingSex can be boring if it's in the same position often For example me and my girlfriend are currently in an environment where we have to creatively use cowgirl and missionary There isn't enoughGiving new meaning to 'Game' theoryHello *ENTP Grin* That's all it takes Than we converse and they do most of the flirting while I acknowledge their presence and return their words with smooth wordplay and more cheeky grinsThis + Lack of Balance and Hand Eye CoordinationReal IQ test I score Internet IQ tests are funny I score s or higher Now like ...</td>\n",
              "    </tr>\n",
              "    <tr>\n",
              "      <th>2</th>\n",
              "      <td>INTP</td>\n",
              "      <td>'Good one  course to which I say I know that's my blessing and my curseDoes being absolutely positive that you and your best friend could be an amazing couple count If so than yes Or it's more I could be madly in love in case I reconciled my feelings which atNo I didn't thank you for a linkSocalled TiSi loop and it can stem from any current topicobsession can be deadly It's like when you're stuck in your own thoughts and your mind just wanders in circles Feels truly terrible Have you noticed how peculiar vegetation can be All you have to do is look down at the grass dozens of different pla...</td>\n",
              "    </tr>\n",
              "    <tr>\n",
              "      <th>3</th>\n",
              "      <td>INTJ</td>\n",
              "      <td>'Dear INTP I enjoyed our conversation the other day Esoteric gabbing about the nature of the universe and the idea that every rule and social code being arbitrary constructs createdDear ENTJ sub Long time no see Sincerely AlphaNone of them All other types hurt in deep existential ways that I want no part ofProbably a sliding scale that depends on individual preferences like everything in humanityDraco Malfoy also I'd say he's either or I'm either or though in which stacking to me is a somewhat arbitrary distinction to make as I believe that the core indicates primary motivation and has a h...</td>\n",
              "    </tr>\n",
              "    <tr>\n",
              "      <th>4</th>\n",
              "      <td>ENTJ</td>\n",
              "      <td>'You're firedThat's another silly misconception That approaching is logically is going to be the key to unlocking whatever it is you think you are entitled to Nobody wants to be approached with BSBut guys he REALLY wants to go on a superduperlongass vacation C'mon guys His boss just doesn't listen or get it He even approached him logically and everythingNever mind Just go on permanent vacationTwo months I wouldn't be crazy about the idea If you are really his best employee then that's what may be cooking him Who wants their most reliable asset gone for that long ENTJ employerLol Its not li...</td>\n",
              "    </tr>\n",
              "    <tr>\n",
              "      <th>...</th>\n",
              "      <td>...</td>\n",
              "      <td>...</td>\n",
              "    </tr>\n",
              "    <tr>\n",
              "      <th>8670</th>\n",
              "      <td>ISFP</td>\n",
              "      <td>' just because I always think of cats as Fi doms for some reason on websites that have become a haven for neo nazis such as PerCI'm such a nerd I've been learning Dutch on Duolingo and I'm having so much fun Duolingo is the shit Oh my god I love this XDRight wingers do this because they lack political consciousnessI doubt it but if they are real then I hope to hell that they're nothing like the Twilight vampiresI would agree that both are likely related to confidence levels It makes sense to me that someone would be aggressive to overcompensate for a sometimes perceived shortcomingBoth Naz...</td>\n",
              "    </tr>\n",
              "    <tr>\n",
              "      <th>8671</th>\n",
              "      <td>ENFP</td>\n",
              "      <td>'Soif this thread already exists someplace else which it does how the heck to I delete this one hereOoopsI guess I didn't look too hard because I just started a Movies every ENFP should watch threadSo this came up in the You Know You're An ENFP When thread Pucca here we go IT IS DONE D This isn't a list of films with ENFPs IN them but rather ones that you believe ENFPs wouldI know that I liked UP DI choose feeding myself joy over beating myself up” Buddy Wakefield[QUOTE=Pucca]I've never seen itshockedQUOTE] Me neither Guess we should have a Movie Marathon of All Movies ENFPs Should Watch D...</td>\n",
              "    </tr>\n",
              "    <tr>\n",
              "      <th>8672</th>\n",
              "      <td>INTP</td>\n",
              "      <td>'So many questions when i do these things I would take the purple pill Pick winning lottery numbers Do whatever I wantI worked in a brewery for a couple years here I dont know if you're familiar with the local microscraft at all but Mill st was the name of it Their tankhouse is my favorite of anything localI am going to summon the great and powerful mr cafebot and his song of destruction The four horseman ride Count your days people of earth Intro Nick the INTP male from a basementThis thread is obviously about the textbook definition of manliness Ruffin it tuffin it and going hard in the ...</td>\n",
              "    </tr>\n",
              "    <tr>\n",
              "      <th>8673</th>\n",
              "      <td>INFP</td>\n",
              "      <td>'I am very conflicted right now when it comes to wanting children I honestly had no maternal instinct whatsoever until recently Up until now none of my close friends have had children and IIf I had to guess for my closest friends ISFJ ESFP ISTJ xNFP ESFJ I don't know if this is correct or not because I don't know if *they* know their types actually the xNFPWhat you said in the last paragraph as a teacher this frustrates me too There's a trend in education to combine classes more and more to contain a variety of types of students which I won'tI can't say that I had much trouble with my comm...</td>\n",
              "    </tr>\n",
              "    <tr>\n",
              "      <th>8674</th>\n",
              "      <td>INFP</td>\n",
              "      <td>'It has been too long since I have been on personalitycafe although it doesn't seem to have changed one bit but I must say it is good to be back somewhere like this Usually I turn to Doctor Who by the world around meIn one dream I have had I was being chased by a large shadowy creature with someone else who I felt I had to save above all else The dream ended after she reached safety but as for what happenedWell now My Avatar is a Doctor Who Clockwork Creature I always liked this monster because It is just a worker trying to do it's job kind of st Thanks for your reply I appreciate all the ...</td>\n",
              "    </tr>\n",
              "  </tbody>\n",
              "</table>\n",
              "<p>8675 rows × 2 columns</p>\n",
              "</div>\n",
              "      <button class=\"colab-df-convert\" onclick=\"convertToInteractive('df-dfe317ef-d2be-4747-a26c-42bb49feb948')\"\n",
              "              title=\"Convert this dataframe to an interactive table.\"\n",
              "              style=\"display:none;\">\n",
              "        \n",
              "  <svg xmlns=\"http://www.w3.org/2000/svg\" height=\"24px\"viewBox=\"0 0 24 24\"\n",
              "       width=\"24px\">\n",
              "    <path d=\"M0 0h24v24H0V0z\" fill=\"none\"/>\n",
              "    <path d=\"M18.56 5.44l.94 2.06.94-2.06 2.06-.94-2.06-.94-.94-2.06-.94 2.06-2.06.94zm-11 1L8.5 8.5l.94-2.06 2.06-.94-2.06-.94L8.5 2.5l-.94 2.06-2.06.94zm10 10l.94 2.06.94-2.06 2.06-.94-2.06-.94-.94-2.06-.94 2.06-2.06.94z\"/><path d=\"M17.41 7.96l-1.37-1.37c-.4-.4-.92-.59-1.43-.59-.52 0-1.04.2-1.43.59L10.3 9.45l-7.72 7.72c-.78.78-.78 2.05 0 2.83L4 21.41c.39.39.9.59 1.41.59.51 0 1.02-.2 1.41-.59l7.78-7.78 2.81-2.81c.8-.78.8-2.07 0-2.86zM5.41 20L4 18.59l7.72-7.72 1.47 1.35L5.41 20z\"/>\n",
              "  </svg>\n",
              "      </button>\n",
              "      \n",
              "  <style>\n",
              "    .colab-df-container {\n",
              "      display:flex;\n",
              "      flex-wrap:wrap;\n",
              "      gap: 12px;\n",
              "    }\n",
              "\n",
              "    .colab-df-convert {\n",
              "      background-color: #E8F0FE;\n",
              "      border: none;\n",
              "      border-radius: 50%;\n",
              "      cursor: pointer;\n",
              "      display: none;\n",
              "      fill: #1967D2;\n",
              "      height: 32px;\n",
              "      padding: 0 0 0 0;\n",
              "      width: 32px;\n",
              "    }\n",
              "\n",
              "    .colab-df-convert:hover {\n",
              "      background-color: #E2EBFA;\n",
              "      box-shadow: 0px 1px 2px rgba(60, 64, 67, 0.3), 0px 1px 3px 1px rgba(60, 64, 67, 0.15);\n",
              "      fill: #174EA6;\n",
              "    }\n",
              "\n",
              "    [theme=dark] .colab-df-convert {\n",
              "      background-color: #3B4455;\n",
              "      fill: #D2E3FC;\n",
              "    }\n",
              "\n",
              "    [theme=dark] .colab-df-convert:hover {\n",
              "      background-color: #434B5C;\n",
              "      box-shadow: 0px 1px 3px 1px rgba(0, 0, 0, 0.15);\n",
              "      filter: drop-shadow(0px 1px 2px rgba(0, 0, 0, 0.3));\n",
              "      fill: #FFFFFF;\n",
              "    }\n",
              "  </style>\n",
              "\n",
              "      <script>\n",
              "        const buttonEl =\n",
              "          document.querySelector('#df-dfe317ef-d2be-4747-a26c-42bb49feb948 button.colab-df-convert');\n",
              "        buttonEl.style.display =\n",
              "          google.colab.kernel.accessAllowed ? 'block' : 'none';\n",
              "\n",
              "        async function convertToInteractive(key) {\n",
              "          const element = document.querySelector('#df-dfe317ef-d2be-4747-a26c-42bb49feb948');\n",
              "          const dataTable =\n",
              "            await google.colab.kernel.invokeFunction('convertToInteractive',\n",
              "                                                     [key], {});\n",
              "          if (!dataTable) return;\n",
              "\n",
              "          const docLinkHtml = 'Like what you see? Visit the ' +\n",
              "            '<a target=\"_blank\" href=https://colab.research.google.com/notebooks/data_table.ipynb>data table notebook</a>'\n",
              "            + ' to learn more about interactive tables.';\n",
              "          element.innerHTML = '';\n",
              "          dataTable['output_type'] = 'display_data';\n",
              "          await google.colab.output.renderOutput(dataTable, element);\n",
              "          const docLink = document.createElement('div');\n",
              "          docLink.innerHTML = docLinkHtml;\n",
              "          element.appendChild(docLink);\n",
              "        }\n",
              "      </script>\n",
              "    </div>\n",
              "  </div>\n",
              "  "
            ],
            "text/plain": [
              "      type  \\\n",
              "0     INFJ   \n",
              "1     ENTP   \n",
              "2     INTP   \n",
              "3     INTJ   \n",
              "4     ENTJ   \n",
              "...    ...   \n",
              "8670  ISFP   \n",
              "8671  ENFP   \n",
              "8672  INTP   \n",
              "8673  INFP   \n",
              "8674  INFP   \n",
              "\n",
              "                                                                                                                                                                                                                                                                                                                                                                                                                                                                                                                                                                                                                        posts  \n",
              "0     ' and intj moments sportscenter not top ten plays pranksWhat has been the most lifechanging experience in your life  On repeat for most of todayMay the PerC Experience immerse youThe last thing my INFJ friend posted on his facebook before committing suicide the next day Rest in peace~ ENFJ Sorry to hear of your distress It's only natural for a relationship to not be perfection all the time in every moment of existence Try to figure the hard times as times of growth as  Welcome and stuff Game Set MatchProzac wellbrutin at least thirty minutes of moving your legs and I don't mean moving them...  \n",
              "1     'I'm finding the lack of me in these posts very alarmingSex can be boring if it's in the same position often For example me and my girlfriend are currently in an environment where we have to creatively use cowgirl and missionary There isn't enoughGiving new meaning to 'Game' theoryHello *ENTP Grin* That's all it takes Than we converse and they do most of the flirting while I acknowledge their presence and return their words with smooth wordplay and more cheeky grinsThis + Lack of Balance and Hand Eye CoordinationReal IQ test I score Internet IQ tests are funny I score s or higher Now like ...  \n",
              "2     'Good one  course to which I say I know that's my blessing and my curseDoes being absolutely positive that you and your best friend could be an amazing couple count If so than yes Or it's more I could be madly in love in case I reconciled my feelings which atNo I didn't thank you for a linkSocalled TiSi loop and it can stem from any current topicobsession can be deadly It's like when you're stuck in your own thoughts and your mind just wanders in circles Feels truly terrible Have you noticed how peculiar vegetation can be All you have to do is look down at the grass dozens of different pla...  \n",
              "3     'Dear INTP I enjoyed our conversation the other day Esoteric gabbing about the nature of the universe and the idea that every rule and social code being arbitrary constructs createdDear ENTJ sub Long time no see Sincerely AlphaNone of them All other types hurt in deep existential ways that I want no part ofProbably a sliding scale that depends on individual preferences like everything in humanityDraco Malfoy also I'd say he's either or I'm either or though in which stacking to me is a somewhat arbitrary distinction to make as I believe that the core indicates primary motivation and has a h...  \n",
              "4     'You're firedThat's another silly misconception That approaching is logically is going to be the key to unlocking whatever it is you think you are entitled to Nobody wants to be approached with BSBut guys he REALLY wants to go on a superduperlongass vacation C'mon guys His boss just doesn't listen or get it He even approached him logically and everythingNever mind Just go on permanent vacationTwo months I wouldn't be crazy about the idea If you are really his best employee then that's what may be cooking him Who wants their most reliable asset gone for that long ENTJ employerLol Its not li...  \n",
              "...                                                                                                                                                                                                                                                                                                                                                                                                                                                                                                                                                                                                                       ...  \n",
              "8670  ' just because I always think of cats as Fi doms for some reason on websites that have become a haven for neo nazis such as PerCI'm such a nerd I've been learning Dutch on Duolingo and I'm having so much fun Duolingo is the shit Oh my god I love this XDRight wingers do this because they lack political consciousnessI doubt it but if they are real then I hope to hell that they're nothing like the Twilight vampiresI would agree that both are likely related to confidence levels It makes sense to me that someone would be aggressive to overcompensate for a sometimes perceived shortcomingBoth Naz...  \n",
              "8671  'Soif this thread already exists someplace else which it does how the heck to I delete this one hereOoopsI guess I didn't look too hard because I just started a Movies every ENFP should watch threadSo this came up in the You Know You're An ENFP When thread Pucca here we go IT IS DONE D This isn't a list of films with ENFPs IN them but rather ones that you believe ENFPs wouldI know that I liked UP DI choose feeding myself joy over beating myself up” Buddy Wakefield[QUOTE=Pucca]I've never seen itshockedQUOTE] Me neither Guess we should have a Movie Marathon of All Movies ENFPs Should Watch D...  \n",
              "8672  'So many questions when i do these things I would take the purple pill Pick winning lottery numbers Do whatever I wantI worked in a brewery for a couple years here I dont know if you're familiar with the local microscraft at all but Mill st was the name of it Their tankhouse is my favorite of anything localI am going to summon the great and powerful mr cafebot and his song of destruction The four horseman ride Count your days people of earth Intro Nick the INTP male from a basementThis thread is obviously about the textbook definition of manliness Ruffin it tuffin it and going hard in the ...  \n",
              "8673  'I am very conflicted right now when it comes to wanting children I honestly had no maternal instinct whatsoever until recently Up until now none of my close friends have had children and IIf I had to guess for my closest friends ISFJ ESFP ISTJ xNFP ESFJ I don't know if this is correct or not because I don't know if *they* know their types actually the xNFPWhat you said in the last paragraph as a teacher this frustrates me too There's a trend in education to combine classes more and more to contain a variety of types of students which I won'tI can't say that I had much trouble with my comm...  \n",
              "8674  'It has been too long since I have been on personalitycafe although it doesn't seem to have changed one bit but I must say it is good to be back somewhere like this Usually I turn to Doctor Who by the world around meIn one dream I have had I was being chased by a large shadowy creature with someone else who I felt I had to save above all else The dream ended after she reached safety but as for what happenedWell now My Avatar is a Doctor Who Clockwork Creature I always liked this monster because It is just a worker trying to do it's job kind of st Thanks for your reply I appreciate all the ...  \n",
              "\n",
              "[8675 rows x 2 columns]"
            ]
          },
          "execution_count": 69,
          "metadata": {},
          "output_type": "execute_result"
        }
      ],
      "source": [
        "mb = pd.read_csv(path+'mbti_cleaned_text_2.csv')\n",
        "mb.info()\n",
        "mb"
      ]
    },
    {
      "cell_type": "code",
      "execution_count": null,
      "metadata": {
        "id": "3P4CjSoaju17"
      },
      "outputs": [],
      "source": [
        "mb_I_E = pd.read_csv(path+'mbti_cleaned_text_2.csv')\n",
        "mb_N_S = pd.read_csv(path+'mbti_cleaned_text_2.csv')\n",
        "mb_F_T = pd.read_csv(path+'mbti_cleaned_text_2.csv')\n",
        "mb_J_P = pd.read_csv(path+'mbti_cleaned_text_2.csv')"
      ]
    },
    {
      "cell_type": "markdown",
      "metadata": {
        "id": "4B2XuQLdoPKY"
      },
      "source": [
        "Changing the labels to the binary options for each category"
      ]
    },
    {
      "cell_type": "code",
      "execution_count": null,
      "metadata": {
        "id": "F1oL241Eju4T"
      },
      "outputs": [],
      "source": [
        "for index in mb.index.values:\n",
        "    if mb.type.iloc[index][0] == 'I':\n",
        "      mb_I_E.type.iloc[index] = 'I'\n",
        "    else:\n",
        "      mb_I_E.type.iloc[index] = 'E'\n",
        "\n",
        "    if mb.type.iloc[index][1] == 'S':\n",
        "      mb_N_S.type.iloc[index] = 'S'\n",
        "    else:\n",
        "      mb_N_S.type.iloc[index] = 'N'\n",
        "\n",
        "    if mb.type.iloc[index][2] == 'T':\n",
        "      mb_F_T.type.iloc[index] = 'T'\n",
        "    else:\n",
        "      mb_F_T.type.iloc[index] = 'F'\n",
        "\n",
        "    if mb.type.iloc[index][3] == 'J':\n",
        "      mb_J_P.type.iloc[index] = 'J'\n",
        "    else:\n",
        "      mb_J_P.type.iloc[index] = 'P'"
      ]
    },
    {
      "cell_type": "code",
      "execution_count": null,
      "metadata": {
        "id": "QSyUyb1Oju6p"
      },
      "outputs": [],
      "source": [
        "cat_16 = mb.type.unique()\n",
        "cat_16.tolist()\n",
        "cat_num_16 = {}\n",
        "for index,categories in enumerate(cat_16):\n",
        "    cat_num_16[categories] = index\n",
        "    \n",
        "mb['category'] = mb.type.replace(cat_num_16)\n",
        "\n",
        "##I and E\n",
        "cat_I_E = mb_I_E.type.unique()\n",
        "cat_I_E.tolist()\n",
        "cat_num_I_E = {}\n",
        "for index,categories in enumerate(cat_I_E):\n",
        "    cat_num_I_E[categories] = index\n",
        "    \n",
        "mb_I_E['category'] = mb_I_E.type.replace(cat_num_I_E)\n",
        "\n",
        "## N and S\n",
        "cat_N_S = mb_N_S.type.unique()\n",
        "cat_N_S.tolist()\n",
        "cat_num_N_S = {}\n",
        "for index,categories in enumerate(cat_N_S):\n",
        "    cat_num_N_S[categories] = index\n",
        "    \n",
        "mb_N_S['category'] = mb_N_S.type.replace(cat_num_N_S)\n",
        "\n",
        "## T and F\n",
        "cat_F_T = mb_F_T.type.unique()\n",
        "cat_F_T.tolist()\n",
        "cat_num_F_T = {}\n",
        "for index,categories in enumerate(cat_F_T):\n",
        "    cat_num_F_T[categories] = index\n",
        "    \n",
        "mb_F_T['category'] = mb_F_T.type.replace(cat_num_F_T)\n",
        "\n",
        "## P and J\n",
        "cat_J_P = mb_J_P.type.unique()\n",
        "cat_J_P.tolist()\n",
        "cat_num_J_P = {}\n",
        "for index,categories in enumerate(cat_J_P):\n",
        "    cat_num_J_P[categories] = index\n",
        "    \n",
        "mb_J_P['category'] = mb_J_P.type.replace(cat_num_J_P)"
      ]
    },
    {
      "cell_type": "code",
      "execution_count": null,
      "metadata": {
        "colab": {
          "base_uri": "https://localhost:8080/",
          "height": 988
        },
        "id": "GG9E9nmvju9L",
        "outputId": "2b730956-3752-4ebe-c6cf-97b17045f4d5"
      },
      "outputs": [
        {
          "data": {
            "text/html": [
              "\n",
              "  <div id=\"df-677f2730-9bc5-4134-a298-98b5caf88f7a\">\n",
              "    <div class=\"colab-df-container\">\n",
              "      <div>\n",
              "<style scoped>\n",
              "    .dataframe tbody tr th:only-of-type {\n",
              "        vertical-align: middle;\n",
              "    }\n",
              "\n",
              "    .dataframe tbody tr th {\n",
              "        vertical-align: top;\n",
              "    }\n",
              "\n",
              "    .dataframe thead th {\n",
              "        text-align: right;\n",
              "    }\n",
              "</style>\n",
              "<table border=\"1\" class=\"dataframe\">\n",
              "  <thead>\n",
              "    <tr style=\"text-align: right;\">\n",
              "      <th></th>\n",
              "      <th>type</th>\n",
              "      <th>posts</th>\n",
              "      <th>category</th>\n",
              "    </tr>\n",
              "  </thead>\n",
              "  <tbody>\n",
              "    <tr>\n",
              "      <th>0</th>\n",
              "      <td>INFJ</td>\n",
              "      <td>' and intj moments sportscenter not top ten plays pranksWhat has been the most lifechanging experience in your life  On repeat for most of todayMay the PerC Experience immerse youThe last thing my INFJ friend posted on his facebook before committing suicide the next day Rest in peace~ ENFJ Sorry to hear of your distress It's only natural for a relationship to not be perfection all the time in every moment of existence Try to figure the hard times as times of growth as  Welcome and stuff Game Set MatchProzac wellbrutin at least thirty minutes of moving your legs and I don't mean moving them...</td>\n",
              "      <td>0</td>\n",
              "    </tr>\n",
              "    <tr>\n",
              "      <th>1</th>\n",
              "      <td>ENTP</td>\n",
              "      <td>'I'm finding the lack of me in these posts very alarmingSex can be boring if it's in the same position often For example me and my girlfriend are currently in an environment where we have to creatively use cowgirl and missionary There isn't enoughGiving new meaning to 'Game' theoryHello *ENTP Grin* That's all it takes Than we converse and they do most of the flirting while I acknowledge their presence and return their words with smooth wordplay and more cheeky grinsThis + Lack of Balance and Hand Eye CoordinationReal IQ test I score Internet IQ tests are funny I score s or higher Now like ...</td>\n",
              "      <td>1</td>\n",
              "    </tr>\n",
              "    <tr>\n",
              "      <th>2</th>\n",
              "      <td>INTP</td>\n",
              "      <td>'Good one  course to which I say I know that's my blessing and my curseDoes being absolutely positive that you and your best friend could be an amazing couple count If so than yes Or it's more I could be madly in love in case I reconciled my feelings which atNo I didn't thank you for a linkSocalled TiSi loop and it can stem from any current topicobsession can be deadly It's like when you're stuck in your own thoughts and your mind just wanders in circles Feels truly terrible Have you noticed how peculiar vegetation can be All you have to do is look down at the grass dozens of different pla...</td>\n",
              "      <td>2</td>\n",
              "    </tr>\n",
              "    <tr>\n",
              "      <th>3</th>\n",
              "      <td>INTJ</td>\n",
              "      <td>'Dear INTP I enjoyed our conversation the other day Esoteric gabbing about the nature of the universe and the idea that every rule and social code being arbitrary constructs createdDear ENTJ sub Long time no see Sincerely AlphaNone of them All other types hurt in deep existential ways that I want no part ofProbably a sliding scale that depends on individual preferences like everything in humanityDraco Malfoy also I'd say he's either or I'm either or though in which stacking to me is a somewhat arbitrary distinction to make as I believe that the core indicates primary motivation and has a h...</td>\n",
              "      <td>3</td>\n",
              "    </tr>\n",
              "    <tr>\n",
              "      <th>4</th>\n",
              "      <td>ENTJ</td>\n",
              "      <td>'You're firedThat's another silly misconception That approaching is logically is going to be the key to unlocking whatever it is you think you are entitled to Nobody wants to be approached with BSBut guys he REALLY wants to go on a superduperlongass vacation C'mon guys His boss just doesn't listen or get it He even approached him logically and everythingNever mind Just go on permanent vacationTwo months I wouldn't be crazy about the idea If you are really his best employee then that's what may be cooking him Who wants their most reliable asset gone for that long ENTJ employerLol Its not li...</td>\n",
              "      <td>4</td>\n",
              "    </tr>\n",
              "    <tr>\n",
              "      <th>...</th>\n",
              "      <td>...</td>\n",
              "      <td>...</td>\n",
              "      <td>...</td>\n",
              "    </tr>\n",
              "    <tr>\n",
              "      <th>8670</th>\n",
              "      <td>ISFP</td>\n",
              "      <td>' just because I always think of cats as Fi doms for some reason on websites that have become a haven for neo nazis such as PerCI'm such a nerd I've been learning Dutch on Duolingo and I'm having so much fun Duolingo is the shit Oh my god I love this XDRight wingers do this because they lack political consciousnessI doubt it but if they are real then I hope to hell that they're nothing like the Twilight vampiresI would agree that both are likely related to confidence levels It makes sense to me that someone would be aggressive to overcompensate for a sometimes perceived shortcomingBoth Naz...</td>\n",
              "      <td>8</td>\n",
              "    </tr>\n",
              "    <tr>\n",
              "      <th>8671</th>\n",
              "      <td>ENFP</td>\n",
              "      <td>'Soif this thread already exists someplace else which it does how the heck to I delete this one hereOoopsI guess I didn't look too hard because I just started a Movies every ENFP should watch threadSo this came up in the You Know You're An ENFP When thread Pucca here we go IT IS DONE D This isn't a list of films with ENFPs IN them but rather ones that you believe ENFPs wouldI know that I liked UP DI choose feeding myself joy over beating myself up” Buddy Wakefield[QUOTE=Pucca]I've never seen itshockedQUOTE] Me neither Guess we should have a Movie Marathon of All Movies ENFPs Should Watch D...</td>\n",
              "      <td>7</td>\n",
              "    </tr>\n",
              "    <tr>\n",
              "      <th>8672</th>\n",
              "      <td>INTP</td>\n",
              "      <td>'So many questions when i do these things I would take the purple pill Pick winning lottery numbers Do whatever I wantI worked in a brewery for a couple years here I dont know if you're familiar with the local microscraft at all but Mill st was the name of it Their tankhouse is my favorite of anything localI am going to summon the great and powerful mr cafebot and his song of destruction The four horseman ride Count your days people of earth Intro Nick the INTP male from a basementThis thread is obviously about the textbook definition of manliness Ruffin it tuffin it and going hard in the ...</td>\n",
              "      <td>2</td>\n",
              "    </tr>\n",
              "    <tr>\n",
              "      <th>8673</th>\n",
              "      <td>INFP</td>\n",
              "      <td>'I am very conflicted right now when it comes to wanting children I honestly had no maternal instinct whatsoever until recently Up until now none of my close friends have had children and IIf I had to guess for my closest friends ISFJ ESFP ISTJ xNFP ESFJ I don't know if this is correct or not because I don't know if *they* know their types actually the xNFPWhat you said in the last paragraph as a teacher this frustrates me too There's a trend in education to combine classes more and more to contain a variety of types of students which I won'tI can't say that I had much trouble with my comm...</td>\n",
              "      <td>6</td>\n",
              "    </tr>\n",
              "    <tr>\n",
              "      <th>8674</th>\n",
              "      <td>INFP</td>\n",
              "      <td>'It has been too long since I have been on personalitycafe although it doesn't seem to have changed one bit but I must say it is good to be back somewhere like this Usually I turn to Doctor Who by the world around meIn one dream I have had I was being chased by a large shadowy creature with someone else who I felt I had to save above all else The dream ended after she reached safety but as for what happenedWell now My Avatar is a Doctor Who Clockwork Creature I always liked this monster because It is just a worker trying to do it's job kind of st Thanks for your reply I appreciate all the ...</td>\n",
              "      <td>6</td>\n",
              "    </tr>\n",
              "  </tbody>\n",
              "</table>\n",
              "<p>8675 rows × 3 columns</p>\n",
              "</div>\n",
              "      <button class=\"colab-df-convert\" onclick=\"convertToInteractive('df-677f2730-9bc5-4134-a298-98b5caf88f7a')\"\n",
              "              title=\"Convert this dataframe to an interactive table.\"\n",
              "              style=\"display:none;\">\n",
              "        \n",
              "  <svg xmlns=\"http://www.w3.org/2000/svg\" height=\"24px\"viewBox=\"0 0 24 24\"\n",
              "       width=\"24px\">\n",
              "    <path d=\"M0 0h24v24H0V0z\" fill=\"none\"/>\n",
              "    <path d=\"M18.56 5.44l.94 2.06.94-2.06 2.06-.94-2.06-.94-.94-2.06-.94 2.06-2.06.94zm-11 1L8.5 8.5l.94-2.06 2.06-.94-2.06-.94L8.5 2.5l-.94 2.06-2.06.94zm10 10l.94 2.06.94-2.06 2.06-.94-2.06-.94-.94-2.06-.94 2.06-2.06.94z\"/><path d=\"M17.41 7.96l-1.37-1.37c-.4-.4-.92-.59-1.43-.59-.52 0-1.04.2-1.43.59L10.3 9.45l-7.72 7.72c-.78.78-.78 2.05 0 2.83L4 21.41c.39.39.9.59 1.41.59.51 0 1.02-.2 1.41-.59l7.78-7.78 2.81-2.81c.8-.78.8-2.07 0-2.86zM5.41 20L4 18.59l7.72-7.72 1.47 1.35L5.41 20z\"/>\n",
              "  </svg>\n",
              "      </button>\n",
              "      \n",
              "  <style>\n",
              "    .colab-df-container {\n",
              "      display:flex;\n",
              "      flex-wrap:wrap;\n",
              "      gap: 12px;\n",
              "    }\n",
              "\n",
              "    .colab-df-convert {\n",
              "      background-color: #E8F0FE;\n",
              "      border: none;\n",
              "      border-radius: 50%;\n",
              "      cursor: pointer;\n",
              "      display: none;\n",
              "      fill: #1967D2;\n",
              "      height: 32px;\n",
              "      padding: 0 0 0 0;\n",
              "      width: 32px;\n",
              "    }\n",
              "\n",
              "    .colab-df-convert:hover {\n",
              "      background-color: #E2EBFA;\n",
              "      box-shadow: 0px 1px 2px rgba(60, 64, 67, 0.3), 0px 1px 3px 1px rgba(60, 64, 67, 0.15);\n",
              "      fill: #174EA6;\n",
              "    }\n",
              "\n",
              "    [theme=dark] .colab-df-convert {\n",
              "      background-color: #3B4455;\n",
              "      fill: #D2E3FC;\n",
              "    }\n",
              "\n",
              "    [theme=dark] .colab-df-convert:hover {\n",
              "      background-color: #434B5C;\n",
              "      box-shadow: 0px 1px 3px 1px rgba(0, 0, 0, 0.15);\n",
              "      filter: drop-shadow(0px 1px 2px rgba(0, 0, 0, 0.3));\n",
              "      fill: #FFFFFF;\n",
              "    }\n",
              "  </style>\n",
              "\n",
              "      <script>\n",
              "        const buttonEl =\n",
              "          document.querySelector('#df-677f2730-9bc5-4134-a298-98b5caf88f7a button.colab-df-convert');\n",
              "        buttonEl.style.display =\n",
              "          google.colab.kernel.accessAllowed ? 'block' : 'none';\n",
              "\n",
              "        async function convertToInteractive(key) {\n",
              "          const element = document.querySelector('#df-677f2730-9bc5-4134-a298-98b5caf88f7a');\n",
              "          const dataTable =\n",
              "            await google.colab.kernel.invokeFunction('convertToInteractive',\n",
              "                                                     [key], {});\n",
              "          if (!dataTable) return;\n",
              "\n",
              "          const docLinkHtml = 'Like what you see? Visit the ' +\n",
              "            '<a target=\"_blank\" href=https://colab.research.google.com/notebooks/data_table.ipynb>data table notebook</a>'\n",
              "            + ' to learn more about interactive tables.';\n",
              "          element.innerHTML = '';\n",
              "          dataTable['output_type'] = 'display_data';\n",
              "          await google.colab.output.renderOutput(dataTable, element);\n",
              "          const docLink = document.createElement('div');\n",
              "          docLink.innerHTML = docLinkHtml;\n",
              "          element.appendChild(docLink);\n",
              "        }\n",
              "      </script>\n",
              "    </div>\n",
              "  </div>\n",
              "  "
            ],
            "text/plain": [
              "      type  \\\n",
              "0     INFJ   \n",
              "1     ENTP   \n",
              "2     INTP   \n",
              "3     INTJ   \n",
              "4     ENTJ   \n",
              "...    ...   \n",
              "8670  ISFP   \n",
              "8671  ENFP   \n",
              "8672  INTP   \n",
              "8673  INFP   \n",
              "8674  INFP   \n",
              "\n",
              "                                                                                                                                                                                                                                                                                                                                                                                                                                                                                                                                                                                                                        posts  \\\n",
              "0     ' and intj moments sportscenter not top ten plays pranksWhat has been the most lifechanging experience in your life  On repeat for most of todayMay the PerC Experience immerse youThe last thing my INFJ friend posted on his facebook before committing suicide the next day Rest in peace~ ENFJ Sorry to hear of your distress It's only natural for a relationship to not be perfection all the time in every moment of existence Try to figure the hard times as times of growth as  Welcome and stuff Game Set MatchProzac wellbrutin at least thirty minutes of moving your legs and I don't mean moving them...   \n",
              "1     'I'm finding the lack of me in these posts very alarmingSex can be boring if it's in the same position often For example me and my girlfriend are currently in an environment where we have to creatively use cowgirl and missionary There isn't enoughGiving new meaning to 'Game' theoryHello *ENTP Grin* That's all it takes Than we converse and they do most of the flirting while I acknowledge their presence and return their words with smooth wordplay and more cheeky grinsThis + Lack of Balance and Hand Eye CoordinationReal IQ test I score Internet IQ tests are funny I score s or higher Now like ...   \n",
              "2     'Good one  course to which I say I know that's my blessing and my curseDoes being absolutely positive that you and your best friend could be an amazing couple count If so than yes Or it's more I could be madly in love in case I reconciled my feelings which atNo I didn't thank you for a linkSocalled TiSi loop and it can stem from any current topicobsession can be deadly It's like when you're stuck in your own thoughts and your mind just wanders in circles Feels truly terrible Have you noticed how peculiar vegetation can be All you have to do is look down at the grass dozens of different pla...   \n",
              "3     'Dear INTP I enjoyed our conversation the other day Esoteric gabbing about the nature of the universe and the idea that every rule and social code being arbitrary constructs createdDear ENTJ sub Long time no see Sincerely AlphaNone of them All other types hurt in deep existential ways that I want no part ofProbably a sliding scale that depends on individual preferences like everything in humanityDraco Malfoy also I'd say he's either or I'm either or though in which stacking to me is a somewhat arbitrary distinction to make as I believe that the core indicates primary motivation and has a h...   \n",
              "4     'You're firedThat's another silly misconception That approaching is logically is going to be the key to unlocking whatever it is you think you are entitled to Nobody wants to be approached with BSBut guys he REALLY wants to go on a superduperlongass vacation C'mon guys His boss just doesn't listen or get it He even approached him logically and everythingNever mind Just go on permanent vacationTwo months I wouldn't be crazy about the idea If you are really his best employee then that's what may be cooking him Who wants their most reliable asset gone for that long ENTJ employerLol Its not li...   \n",
              "...                                                                                                                                                                                                                                                                                                                                                                                                                                                                                                                                                                                                                       ...   \n",
              "8670  ' just because I always think of cats as Fi doms for some reason on websites that have become a haven for neo nazis such as PerCI'm such a nerd I've been learning Dutch on Duolingo and I'm having so much fun Duolingo is the shit Oh my god I love this XDRight wingers do this because they lack political consciousnessI doubt it but if they are real then I hope to hell that they're nothing like the Twilight vampiresI would agree that both are likely related to confidence levels It makes sense to me that someone would be aggressive to overcompensate for a sometimes perceived shortcomingBoth Naz...   \n",
              "8671  'Soif this thread already exists someplace else which it does how the heck to I delete this one hereOoopsI guess I didn't look too hard because I just started a Movies every ENFP should watch threadSo this came up in the You Know You're An ENFP When thread Pucca here we go IT IS DONE D This isn't a list of films with ENFPs IN them but rather ones that you believe ENFPs wouldI know that I liked UP DI choose feeding myself joy over beating myself up” Buddy Wakefield[QUOTE=Pucca]I've never seen itshockedQUOTE] Me neither Guess we should have a Movie Marathon of All Movies ENFPs Should Watch D...   \n",
              "8672  'So many questions when i do these things I would take the purple pill Pick winning lottery numbers Do whatever I wantI worked in a brewery for a couple years here I dont know if you're familiar with the local microscraft at all but Mill st was the name of it Their tankhouse is my favorite of anything localI am going to summon the great and powerful mr cafebot and his song of destruction The four horseman ride Count your days people of earth Intro Nick the INTP male from a basementThis thread is obviously about the textbook definition of manliness Ruffin it tuffin it and going hard in the ...   \n",
              "8673  'I am very conflicted right now when it comes to wanting children I honestly had no maternal instinct whatsoever until recently Up until now none of my close friends have had children and IIf I had to guess for my closest friends ISFJ ESFP ISTJ xNFP ESFJ I don't know if this is correct or not because I don't know if *they* know their types actually the xNFPWhat you said in the last paragraph as a teacher this frustrates me too There's a trend in education to combine classes more and more to contain a variety of types of students which I won'tI can't say that I had much trouble with my comm...   \n",
              "8674  'It has been too long since I have been on personalitycafe although it doesn't seem to have changed one bit but I must say it is good to be back somewhere like this Usually I turn to Doctor Who by the world around meIn one dream I have had I was being chased by a large shadowy creature with someone else who I felt I had to save above all else The dream ended after she reached safety but as for what happenedWell now My Avatar is a Doctor Who Clockwork Creature I always liked this monster because It is just a worker trying to do it's job kind of st Thanks for your reply I appreciate all the ...   \n",
              "\n",
              "      category  \n",
              "0            0  \n",
              "1            1  \n",
              "2            2  \n",
              "3            3  \n",
              "4            4  \n",
              "...        ...  \n",
              "8670         8  \n",
              "8671         7  \n",
              "8672         2  \n",
              "8673         6  \n",
              "8674         6  \n",
              "\n",
              "[8675 rows x 3 columns]"
            ]
          },
          "execution_count": 73,
          "metadata": {},
          "output_type": "execute_result"
        }
      ],
      "source": [
        "mb"
      ]
    },
    {
      "cell_type": "code",
      "execution_count": null,
      "metadata": {
        "colab": {
          "base_uri": "https://localhost:8080/",
          "height": 988
        },
        "id": "Ab45OrfPju_Q",
        "outputId": "9d2ca1c6-1cd5-4d9f-d785-9e59f845a282"
      },
      "outputs": [
        {
          "data": {
            "text/html": [
              "\n",
              "  <div id=\"df-f6b19072-dd4e-4eb2-81f8-abbad944b8fc\">\n",
              "    <div class=\"colab-df-container\">\n",
              "      <div>\n",
              "<style scoped>\n",
              "    .dataframe tbody tr th:only-of-type {\n",
              "        vertical-align: middle;\n",
              "    }\n",
              "\n",
              "    .dataframe tbody tr th {\n",
              "        vertical-align: top;\n",
              "    }\n",
              "\n",
              "    .dataframe thead th {\n",
              "        text-align: right;\n",
              "    }\n",
              "</style>\n",
              "<table border=\"1\" class=\"dataframe\">\n",
              "  <thead>\n",
              "    <tr style=\"text-align: right;\">\n",
              "      <th></th>\n",
              "      <th>type</th>\n",
              "      <th>posts</th>\n",
              "      <th>category</th>\n",
              "    </tr>\n",
              "  </thead>\n",
              "  <tbody>\n",
              "    <tr>\n",
              "      <th>0</th>\n",
              "      <td>I</td>\n",
              "      <td>' and intj moments sportscenter not top ten plays pranksWhat has been the most lifechanging experience in your life  On repeat for most of todayMay the PerC Experience immerse youThe last thing my INFJ friend posted on his facebook before committing suicide the next day Rest in peace~ ENFJ Sorry to hear of your distress It's only natural for a relationship to not be perfection all the time in every moment of existence Try to figure the hard times as times of growth as  Welcome and stuff Game Set MatchProzac wellbrutin at least thirty minutes of moving your legs and I don't mean moving them...</td>\n",
              "      <td>0</td>\n",
              "    </tr>\n",
              "    <tr>\n",
              "      <th>1</th>\n",
              "      <td>E</td>\n",
              "      <td>'I'm finding the lack of me in these posts very alarmingSex can be boring if it's in the same position often For example me and my girlfriend are currently in an environment where we have to creatively use cowgirl and missionary There isn't enoughGiving new meaning to 'Game' theoryHello *ENTP Grin* That's all it takes Than we converse and they do most of the flirting while I acknowledge their presence and return their words with smooth wordplay and more cheeky grinsThis + Lack of Balance and Hand Eye CoordinationReal IQ test I score Internet IQ tests are funny I score s or higher Now like ...</td>\n",
              "      <td>1</td>\n",
              "    </tr>\n",
              "    <tr>\n",
              "      <th>2</th>\n",
              "      <td>I</td>\n",
              "      <td>'Good one  course to which I say I know that's my blessing and my curseDoes being absolutely positive that you and your best friend could be an amazing couple count If so than yes Or it's more I could be madly in love in case I reconciled my feelings which atNo I didn't thank you for a linkSocalled TiSi loop and it can stem from any current topicobsession can be deadly It's like when you're stuck in your own thoughts and your mind just wanders in circles Feels truly terrible Have you noticed how peculiar vegetation can be All you have to do is look down at the grass dozens of different pla...</td>\n",
              "      <td>0</td>\n",
              "    </tr>\n",
              "    <tr>\n",
              "      <th>3</th>\n",
              "      <td>I</td>\n",
              "      <td>'Dear INTP I enjoyed our conversation the other day Esoteric gabbing about the nature of the universe and the idea that every rule and social code being arbitrary constructs createdDear ENTJ sub Long time no see Sincerely AlphaNone of them All other types hurt in deep existential ways that I want no part ofProbably a sliding scale that depends on individual preferences like everything in humanityDraco Malfoy also I'd say he's either or I'm either or though in which stacking to me is a somewhat arbitrary distinction to make as I believe that the core indicates primary motivation and has a h...</td>\n",
              "      <td>0</td>\n",
              "    </tr>\n",
              "    <tr>\n",
              "      <th>4</th>\n",
              "      <td>E</td>\n",
              "      <td>'You're firedThat's another silly misconception That approaching is logically is going to be the key to unlocking whatever it is you think you are entitled to Nobody wants to be approached with BSBut guys he REALLY wants to go on a superduperlongass vacation C'mon guys His boss just doesn't listen or get it He even approached him logically and everythingNever mind Just go on permanent vacationTwo months I wouldn't be crazy about the idea If you are really his best employee then that's what may be cooking him Who wants their most reliable asset gone for that long ENTJ employerLol Its not li...</td>\n",
              "      <td>1</td>\n",
              "    </tr>\n",
              "    <tr>\n",
              "      <th>...</th>\n",
              "      <td>...</td>\n",
              "      <td>...</td>\n",
              "      <td>...</td>\n",
              "    </tr>\n",
              "    <tr>\n",
              "      <th>8670</th>\n",
              "      <td>I</td>\n",
              "      <td>' just because I always think of cats as Fi doms for some reason on websites that have become a haven for neo nazis such as PerCI'm such a nerd I've been learning Dutch on Duolingo and I'm having so much fun Duolingo is the shit Oh my god I love this XDRight wingers do this because they lack political consciousnessI doubt it but if they are real then I hope to hell that they're nothing like the Twilight vampiresI would agree that both are likely related to confidence levels It makes sense to me that someone would be aggressive to overcompensate for a sometimes perceived shortcomingBoth Naz...</td>\n",
              "      <td>0</td>\n",
              "    </tr>\n",
              "    <tr>\n",
              "      <th>8671</th>\n",
              "      <td>E</td>\n",
              "      <td>'Soif this thread already exists someplace else which it does how the heck to I delete this one hereOoopsI guess I didn't look too hard because I just started a Movies every ENFP should watch threadSo this came up in the You Know You're An ENFP When thread Pucca here we go IT IS DONE D This isn't a list of films with ENFPs IN them but rather ones that you believe ENFPs wouldI know that I liked UP DI choose feeding myself joy over beating myself up” Buddy Wakefield[QUOTE=Pucca]I've never seen itshockedQUOTE] Me neither Guess we should have a Movie Marathon of All Movies ENFPs Should Watch D...</td>\n",
              "      <td>1</td>\n",
              "    </tr>\n",
              "    <tr>\n",
              "      <th>8672</th>\n",
              "      <td>I</td>\n",
              "      <td>'So many questions when i do these things I would take the purple pill Pick winning lottery numbers Do whatever I wantI worked in a brewery for a couple years here I dont know if you're familiar with the local microscraft at all but Mill st was the name of it Their tankhouse is my favorite of anything localI am going to summon the great and powerful mr cafebot and his song of destruction The four horseman ride Count your days people of earth Intro Nick the INTP male from a basementThis thread is obviously about the textbook definition of manliness Ruffin it tuffin it and going hard in the ...</td>\n",
              "      <td>0</td>\n",
              "    </tr>\n",
              "    <tr>\n",
              "      <th>8673</th>\n",
              "      <td>I</td>\n",
              "      <td>'I am very conflicted right now when it comes to wanting children I honestly had no maternal instinct whatsoever until recently Up until now none of my close friends have had children and IIf I had to guess for my closest friends ISFJ ESFP ISTJ xNFP ESFJ I don't know if this is correct or not because I don't know if *they* know their types actually the xNFPWhat you said in the last paragraph as a teacher this frustrates me too There's a trend in education to combine classes more and more to contain a variety of types of students which I won'tI can't say that I had much trouble with my comm...</td>\n",
              "      <td>0</td>\n",
              "    </tr>\n",
              "    <tr>\n",
              "      <th>8674</th>\n",
              "      <td>I</td>\n",
              "      <td>'It has been too long since I have been on personalitycafe although it doesn't seem to have changed one bit but I must say it is good to be back somewhere like this Usually I turn to Doctor Who by the world around meIn one dream I have had I was being chased by a large shadowy creature with someone else who I felt I had to save above all else The dream ended after she reached safety but as for what happenedWell now My Avatar is a Doctor Who Clockwork Creature I always liked this monster because It is just a worker trying to do it's job kind of st Thanks for your reply I appreciate all the ...</td>\n",
              "      <td>0</td>\n",
              "    </tr>\n",
              "  </tbody>\n",
              "</table>\n",
              "<p>8675 rows × 3 columns</p>\n",
              "</div>\n",
              "      <button class=\"colab-df-convert\" onclick=\"convertToInteractive('df-f6b19072-dd4e-4eb2-81f8-abbad944b8fc')\"\n",
              "              title=\"Convert this dataframe to an interactive table.\"\n",
              "              style=\"display:none;\">\n",
              "        \n",
              "  <svg xmlns=\"http://www.w3.org/2000/svg\" height=\"24px\"viewBox=\"0 0 24 24\"\n",
              "       width=\"24px\">\n",
              "    <path d=\"M0 0h24v24H0V0z\" fill=\"none\"/>\n",
              "    <path d=\"M18.56 5.44l.94 2.06.94-2.06 2.06-.94-2.06-.94-.94-2.06-.94 2.06-2.06.94zm-11 1L8.5 8.5l.94-2.06 2.06-.94-2.06-.94L8.5 2.5l-.94 2.06-2.06.94zm10 10l.94 2.06.94-2.06 2.06-.94-2.06-.94-.94-2.06-.94 2.06-2.06.94z\"/><path d=\"M17.41 7.96l-1.37-1.37c-.4-.4-.92-.59-1.43-.59-.52 0-1.04.2-1.43.59L10.3 9.45l-7.72 7.72c-.78.78-.78 2.05 0 2.83L4 21.41c.39.39.9.59 1.41.59.51 0 1.02-.2 1.41-.59l7.78-7.78 2.81-2.81c.8-.78.8-2.07 0-2.86zM5.41 20L4 18.59l7.72-7.72 1.47 1.35L5.41 20z\"/>\n",
              "  </svg>\n",
              "      </button>\n",
              "      \n",
              "  <style>\n",
              "    .colab-df-container {\n",
              "      display:flex;\n",
              "      flex-wrap:wrap;\n",
              "      gap: 12px;\n",
              "    }\n",
              "\n",
              "    .colab-df-convert {\n",
              "      background-color: #E8F0FE;\n",
              "      border: none;\n",
              "      border-radius: 50%;\n",
              "      cursor: pointer;\n",
              "      display: none;\n",
              "      fill: #1967D2;\n",
              "      height: 32px;\n",
              "      padding: 0 0 0 0;\n",
              "      width: 32px;\n",
              "    }\n",
              "\n",
              "    .colab-df-convert:hover {\n",
              "      background-color: #E2EBFA;\n",
              "      box-shadow: 0px 1px 2px rgba(60, 64, 67, 0.3), 0px 1px 3px 1px rgba(60, 64, 67, 0.15);\n",
              "      fill: #174EA6;\n",
              "    }\n",
              "\n",
              "    [theme=dark] .colab-df-convert {\n",
              "      background-color: #3B4455;\n",
              "      fill: #D2E3FC;\n",
              "    }\n",
              "\n",
              "    [theme=dark] .colab-df-convert:hover {\n",
              "      background-color: #434B5C;\n",
              "      box-shadow: 0px 1px 3px 1px rgba(0, 0, 0, 0.15);\n",
              "      filter: drop-shadow(0px 1px 2px rgba(0, 0, 0, 0.3));\n",
              "      fill: #FFFFFF;\n",
              "    }\n",
              "  </style>\n",
              "\n",
              "      <script>\n",
              "        const buttonEl =\n",
              "          document.querySelector('#df-f6b19072-dd4e-4eb2-81f8-abbad944b8fc button.colab-df-convert');\n",
              "        buttonEl.style.display =\n",
              "          google.colab.kernel.accessAllowed ? 'block' : 'none';\n",
              "\n",
              "        async function convertToInteractive(key) {\n",
              "          const element = document.querySelector('#df-f6b19072-dd4e-4eb2-81f8-abbad944b8fc');\n",
              "          const dataTable =\n",
              "            await google.colab.kernel.invokeFunction('convertToInteractive',\n",
              "                                                     [key], {});\n",
              "          if (!dataTable) return;\n",
              "\n",
              "          const docLinkHtml = 'Like what you see? Visit the ' +\n",
              "            '<a target=\"_blank\" href=https://colab.research.google.com/notebooks/data_table.ipynb>data table notebook</a>'\n",
              "            + ' to learn more about interactive tables.';\n",
              "          element.innerHTML = '';\n",
              "          dataTable['output_type'] = 'display_data';\n",
              "          await google.colab.output.renderOutput(dataTable, element);\n",
              "          const docLink = document.createElement('div');\n",
              "          docLink.innerHTML = docLinkHtml;\n",
              "          element.appendChild(docLink);\n",
              "        }\n",
              "      </script>\n",
              "    </div>\n",
              "  </div>\n",
              "  "
            ],
            "text/plain": [
              "     type  \\\n",
              "0       I   \n",
              "1       E   \n",
              "2       I   \n",
              "3       I   \n",
              "4       E   \n",
              "...   ...   \n",
              "8670    I   \n",
              "8671    E   \n",
              "8672    I   \n",
              "8673    I   \n",
              "8674    I   \n",
              "\n",
              "                                                                                                                                                                                                                                                                                                                                                                                                                                                                                                                                                                                                                        posts  \\\n",
              "0     ' and intj moments sportscenter not top ten plays pranksWhat has been the most lifechanging experience in your life  On repeat for most of todayMay the PerC Experience immerse youThe last thing my INFJ friend posted on his facebook before committing suicide the next day Rest in peace~ ENFJ Sorry to hear of your distress It's only natural for a relationship to not be perfection all the time in every moment of existence Try to figure the hard times as times of growth as  Welcome and stuff Game Set MatchProzac wellbrutin at least thirty minutes of moving your legs and I don't mean moving them...   \n",
              "1     'I'm finding the lack of me in these posts very alarmingSex can be boring if it's in the same position often For example me and my girlfriend are currently in an environment where we have to creatively use cowgirl and missionary There isn't enoughGiving new meaning to 'Game' theoryHello *ENTP Grin* That's all it takes Than we converse and they do most of the flirting while I acknowledge their presence and return their words with smooth wordplay and more cheeky grinsThis + Lack of Balance and Hand Eye CoordinationReal IQ test I score Internet IQ tests are funny I score s or higher Now like ...   \n",
              "2     'Good one  course to which I say I know that's my blessing and my curseDoes being absolutely positive that you and your best friend could be an amazing couple count If so than yes Or it's more I could be madly in love in case I reconciled my feelings which atNo I didn't thank you for a linkSocalled TiSi loop and it can stem from any current topicobsession can be deadly It's like when you're stuck in your own thoughts and your mind just wanders in circles Feels truly terrible Have you noticed how peculiar vegetation can be All you have to do is look down at the grass dozens of different pla...   \n",
              "3     'Dear INTP I enjoyed our conversation the other day Esoteric gabbing about the nature of the universe and the idea that every rule and social code being arbitrary constructs createdDear ENTJ sub Long time no see Sincerely AlphaNone of them All other types hurt in deep existential ways that I want no part ofProbably a sliding scale that depends on individual preferences like everything in humanityDraco Malfoy also I'd say he's either or I'm either or though in which stacking to me is a somewhat arbitrary distinction to make as I believe that the core indicates primary motivation and has a h...   \n",
              "4     'You're firedThat's another silly misconception That approaching is logically is going to be the key to unlocking whatever it is you think you are entitled to Nobody wants to be approached with BSBut guys he REALLY wants to go on a superduperlongass vacation C'mon guys His boss just doesn't listen or get it He even approached him logically and everythingNever mind Just go on permanent vacationTwo months I wouldn't be crazy about the idea If you are really his best employee then that's what may be cooking him Who wants their most reliable asset gone for that long ENTJ employerLol Its not li...   \n",
              "...                                                                                                                                                                                                                                                                                                                                                                                                                                                                                                                                                                                                                       ...   \n",
              "8670  ' just because I always think of cats as Fi doms for some reason on websites that have become a haven for neo nazis such as PerCI'm such a nerd I've been learning Dutch on Duolingo and I'm having so much fun Duolingo is the shit Oh my god I love this XDRight wingers do this because they lack political consciousnessI doubt it but if they are real then I hope to hell that they're nothing like the Twilight vampiresI would agree that both are likely related to confidence levels It makes sense to me that someone would be aggressive to overcompensate for a sometimes perceived shortcomingBoth Naz...   \n",
              "8671  'Soif this thread already exists someplace else which it does how the heck to I delete this one hereOoopsI guess I didn't look too hard because I just started a Movies every ENFP should watch threadSo this came up in the You Know You're An ENFP When thread Pucca here we go IT IS DONE D This isn't a list of films with ENFPs IN them but rather ones that you believe ENFPs wouldI know that I liked UP DI choose feeding myself joy over beating myself up” Buddy Wakefield[QUOTE=Pucca]I've never seen itshockedQUOTE] Me neither Guess we should have a Movie Marathon of All Movies ENFPs Should Watch D...   \n",
              "8672  'So many questions when i do these things I would take the purple pill Pick winning lottery numbers Do whatever I wantI worked in a brewery for a couple years here I dont know if you're familiar with the local microscraft at all but Mill st was the name of it Their tankhouse is my favorite of anything localI am going to summon the great and powerful mr cafebot and his song of destruction The four horseman ride Count your days people of earth Intro Nick the INTP male from a basementThis thread is obviously about the textbook definition of manliness Ruffin it tuffin it and going hard in the ...   \n",
              "8673  'I am very conflicted right now when it comes to wanting children I honestly had no maternal instinct whatsoever until recently Up until now none of my close friends have had children and IIf I had to guess for my closest friends ISFJ ESFP ISTJ xNFP ESFJ I don't know if this is correct or not because I don't know if *they* know their types actually the xNFPWhat you said in the last paragraph as a teacher this frustrates me too There's a trend in education to combine classes more and more to contain a variety of types of students which I won'tI can't say that I had much trouble with my comm...   \n",
              "8674  'It has been too long since I have been on personalitycafe although it doesn't seem to have changed one bit but I must say it is good to be back somewhere like this Usually I turn to Doctor Who by the world around meIn one dream I have had I was being chased by a large shadowy creature with someone else who I felt I had to save above all else The dream ended after she reached safety but as for what happenedWell now My Avatar is a Doctor Who Clockwork Creature I always liked this monster because It is just a worker trying to do it's job kind of st Thanks for your reply I appreciate all the ...   \n",
              "\n",
              "      category  \n",
              "0            0  \n",
              "1            1  \n",
              "2            0  \n",
              "3            0  \n",
              "4            1  \n",
              "...        ...  \n",
              "8670         0  \n",
              "8671         1  \n",
              "8672         0  \n",
              "8673         0  \n",
              "8674         0  \n",
              "\n",
              "[8675 rows x 3 columns]"
            ]
          },
          "execution_count": 74,
          "metadata": {},
          "output_type": "execute_result"
        }
      ],
      "source": [
        "mb_I_E"
      ]
    },
    {
      "cell_type": "code",
      "execution_count": null,
      "metadata": {
        "colab": {
          "base_uri": "https://localhost:8080/",
          "height": 988
        },
        "id": "uZL9JzgZlSKl",
        "outputId": "f61517d4-6172-4235-80e3-8ad24a06f946"
      },
      "outputs": [
        {
          "data": {
            "text/html": [
              "\n",
              "  <div id=\"df-59c2abbc-b3ca-4712-b0e4-20eadb0c6acb\">\n",
              "    <div class=\"colab-df-container\">\n",
              "      <div>\n",
              "<style scoped>\n",
              "    .dataframe tbody tr th:only-of-type {\n",
              "        vertical-align: middle;\n",
              "    }\n",
              "\n",
              "    .dataframe tbody tr th {\n",
              "        vertical-align: top;\n",
              "    }\n",
              "\n",
              "    .dataframe thead th {\n",
              "        text-align: right;\n",
              "    }\n",
              "</style>\n",
              "<table border=\"1\" class=\"dataframe\">\n",
              "  <thead>\n",
              "    <tr style=\"text-align: right;\">\n",
              "      <th></th>\n",
              "      <th>type</th>\n",
              "      <th>posts</th>\n",
              "      <th>category</th>\n",
              "    </tr>\n",
              "  </thead>\n",
              "  <tbody>\n",
              "    <tr>\n",
              "      <th>0</th>\n",
              "      <td>N</td>\n",
              "      <td>' and intj moments sportscenter not top ten plays pranksWhat has been the most lifechanging experience in your life  On repeat for most of todayMay the PerC Experience immerse youThe last thing my INFJ friend posted on his facebook before committing suicide the next day Rest in peace~ ENFJ Sorry to hear of your distress It's only natural for a relationship to not be perfection all the time in every moment of existence Try to figure the hard times as times of growth as  Welcome and stuff Game Set MatchProzac wellbrutin at least thirty minutes of moving your legs and I don't mean moving them...</td>\n",
              "      <td>0</td>\n",
              "    </tr>\n",
              "    <tr>\n",
              "      <th>1</th>\n",
              "      <td>N</td>\n",
              "      <td>'I'm finding the lack of me in these posts very alarmingSex can be boring if it's in the same position often For example me and my girlfriend are currently in an environment where we have to creatively use cowgirl and missionary There isn't enoughGiving new meaning to 'Game' theoryHello *ENTP Grin* That's all it takes Than we converse and they do most of the flirting while I acknowledge their presence and return their words with smooth wordplay and more cheeky grinsThis + Lack of Balance and Hand Eye CoordinationReal IQ test I score Internet IQ tests are funny I score s or higher Now like ...</td>\n",
              "      <td>0</td>\n",
              "    </tr>\n",
              "    <tr>\n",
              "      <th>2</th>\n",
              "      <td>N</td>\n",
              "      <td>'Good one  course to which I say I know that's my blessing and my curseDoes being absolutely positive that you and your best friend could be an amazing couple count If so than yes Or it's more I could be madly in love in case I reconciled my feelings which atNo I didn't thank you for a linkSocalled TiSi loop and it can stem from any current topicobsession can be deadly It's like when you're stuck in your own thoughts and your mind just wanders in circles Feels truly terrible Have you noticed how peculiar vegetation can be All you have to do is look down at the grass dozens of different pla...</td>\n",
              "      <td>0</td>\n",
              "    </tr>\n",
              "    <tr>\n",
              "      <th>3</th>\n",
              "      <td>N</td>\n",
              "      <td>'Dear INTP I enjoyed our conversation the other day Esoteric gabbing about the nature of the universe and the idea that every rule and social code being arbitrary constructs createdDear ENTJ sub Long time no see Sincerely AlphaNone of them All other types hurt in deep existential ways that I want no part ofProbably a sliding scale that depends on individual preferences like everything in humanityDraco Malfoy also I'd say he's either or I'm either or though in which stacking to me is a somewhat arbitrary distinction to make as I believe that the core indicates primary motivation and has a h...</td>\n",
              "      <td>0</td>\n",
              "    </tr>\n",
              "    <tr>\n",
              "      <th>4</th>\n",
              "      <td>N</td>\n",
              "      <td>'You're firedThat's another silly misconception That approaching is logically is going to be the key to unlocking whatever it is you think you are entitled to Nobody wants to be approached with BSBut guys he REALLY wants to go on a superduperlongass vacation C'mon guys His boss just doesn't listen or get it He even approached him logically and everythingNever mind Just go on permanent vacationTwo months I wouldn't be crazy about the idea If you are really his best employee then that's what may be cooking him Who wants their most reliable asset gone for that long ENTJ employerLol Its not li...</td>\n",
              "      <td>0</td>\n",
              "    </tr>\n",
              "    <tr>\n",
              "      <th>...</th>\n",
              "      <td>...</td>\n",
              "      <td>...</td>\n",
              "      <td>...</td>\n",
              "    </tr>\n",
              "    <tr>\n",
              "      <th>8670</th>\n",
              "      <td>S</td>\n",
              "      <td>' just because I always think of cats as Fi doms for some reason on websites that have become a haven for neo nazis such as PerCI'm such a nerd I've been learning Dutch on Duolingo and I'm having so much fun Duolingo is the shit Oh my god I love this XDRight wingers do this because they lack political consciousnessI doubt it but if they are real then I hope to hell that they're nothing like the Twilight vampiresI would agree that both are likely related to confidence levels It makes sense to me that someone would be aggressive to overcompensate for a sometimes perceived shortcomingBoth Naz...</td>\n",
              "      <td>1</td>\n",
              "    </tr>\n",
              "    <tr>\n",
              "      <th>8671</th>\n",
              "      <td>N</td>\n",
              "      <td>'Soif this thread already exists someplace else which it does how the heck to I delete this one hereOoopsI guess I didn't look too hard because I just started a Movies every ENFP should watch threadSo this came up in the You Know You're An ENFP When thread Pucca here we go IT IS DONE D This isn't a list of films with ENFPs IN them but rather ones that you believe ENFPs wouldI know that I liked UP DI choose feeding myself joy over beating myself up” Buddy Wakefield[QUOTE=Pucca]I've never seen itshockedQUOTE] Me neither Guess we should have a Movie Marathon of All Movies ENFPs Should Watch D...</td>\n",
              "      <td>0</td>\n",
              "    </tr>\n",
              "    <tr>\n",
              "      <th>8672</th>\n",
              "      <td>N</td>\n",
              "      <td>'So many questions when i do these things I would take the purple pill Pick winning lottery numbers Do whatever I wantI worked in a brewery for a couple years here I dont know if you're familiar with the local microscraft at all but Mill st was the name of it Their tankhouse is my favorite of anything localI am going to summon the great and powerful mr cafebot and his song of destruction The four horseman ride Count your days people of earth Intro Nick the INTP male from a basementThis thread is obviously about the textbook definition of manliness Ruffin it tuffin it and going hard in the ...</td>\n",
              "      <td>0</td>\n",
              "    </tr>\n",
              "    <tr>\n",
              "      <th>8673</th>\n",
              "      <td>N</td>\n",
              "      <td>'I am very conflicted right now when it comes to wanting children I honestly had no maternal instinct whatsoever until recently Up until now none of my close friends have had children and IIf I had to guess for my closest friends ISFJ ESFP ISTJ xNFP ESFJ I don't know if this is correct or not because I don't know if *they* know their types actually the xNFPWhat you said in the last paragraph as a teacher this frustrates me too There's a trend in education to combine classes more and more to contain a variety of types of students which I won'tI can't say that I had much trouble with my comm...</td>\n",
              "      <td>0</td>\n",
              "    </tr>\n",
              "    <tr>\n",
              "      <th>8674</th>\n",
              "      <td>N</td>\n",
              "      <td>'It has been too long since I have been on personalitycafe although it doesn't seem to have changed one bit but I must say it is good to be back somewhere like this Usually I turn to Doctor Who by the world around meIn one dream I have had I was being chased by a large shadowy creature with someone else who I felt I had to save above all else The dream ended after she reached safety but as for what happenedWell now My Avatar is a Doctor Who Clockwork Creature I always liked this monster because It is just a worker trying to do it's job kind of st Thanks for your reply I appreciate all the ...</td>\n",
              "      <td>0</td>\n",
              "    </tr>\n",
              "  </tbody>\n",
              "</table>\n",
              "<p>8675 rows × 3 columns</p>\n",
              "</div>\n",
              "      <button class=\"colab-df-convert\" onclick=\"convertToInteractive('df-59c2abbc-b3ca-4712-b0e4-20eadb0c6acb')\"\n",
              "              title=\"Convert this dataframe to an interactive table.\"\n",
              "              style=\"display:none;\">\n",
              "        \n",
              "  <svg xmlns=\"http://www.w3.org/2000/svg\" height=\"24px\"viewBox=\"0 0 24 24\"\n",
              "       width=\"24px\">\n",
              "    <path d=\"M0 0h24v24H0V0z\" fill=\"none\"/>\n",
              "    <path d=\"M18.56 5.44l.94 2.06.94-2.06 2.06-.94-2.06-.94-.94-2.06-.94 2.06-2.06.94zm-11 1L8.5 8.5l.94-2.06 2.06-.94-2.06-.94L8.5 2.5l-.94 2.06-2.06.94zm10 10l.94 2.06.94-2.06 2.06-.94-2.06-.94-.94-2.06-.94 2.06-2.06.94z\"/><path d=\"M17.41 7.96l-1.37-1.37c-.4-.4-.92-.59-1.43-.59-.52 0-1.04.2-1.43.59L10.3 9.45l-7.72 7.72c-.78.78-.78 2.05 0 2.83L4 21.41c.39.39.9.59 1.41.59.51 0 1.02-.2 1.41-.59l7.78-7.78 2.81-2.81c.8-.78.8-2.07 0-2.86zM5.41 20L4 18.59l7.72-7.72 1.47 1.35L5.41 20z\"/>\n",
              "  </svg>\n",
              "      </button>\n",
              "      \n",
              "  <style>\n",
              "    .colab-df-container {\n",
              "      display:flex;\n",
              "      flex-wrap:wrap;\n",
              "      gap: 12px;\n",
              "    }\n",
              "\n",
              "    .colab-df-convert {\n",
              "      background-color: #E8F0FE;\n",
              "      border: none;\n",
              "      border-radius: 50%;\n",
              "      cursor: pointer;\n",
              "      display: none;\n",
              "      fill: #1967D2;\n",
              "      height: 32px;\n",
              "      padding: 0 0 0 0;\n",
              "      width: 32px;\n",
              "    }\n",
              "\n",
              "    .colab-df-convert:hover {\n",
              "      background-color: #E2EBFA;\n",
              "      box-shadow: 0px 1px 2px rgba(60, 64, 67, 0.3), 0px 1px 3px 1px rgba(60, 64, 67, 0.15);\n",
              "      fill: #174EA6;\n",
              "    }\n",
              "\n",
              "    [theme=dark] .colab-df-convert {\n",
              "      background-color: #3B4455;\n",
              "      fill: #D2E3FC;\n",
              "    }\n",
              "\n",
              "    [theme=dark] .colab-df-convert:hover {\n",
              "      background-color: #434B5C;\n",
              "      box-shadow: 0px 1px 3px 1px rgba(0, 0, 0, 0.15);\n",
              "      filter: drop-shadow(0px 1px 2px rgba(0, 0, 0, 0.3));\n",
              "      fill: #FFFFFF;\n",
              "    }\n",
              "  </style>\n",
              "\n",
              "      <script>\n",
              "        const buttonEl =\n",
              "          document.querySelector('#df-59c2abbc-b3ca-4712-b0e4-20eadb0c6acb button.colab-df-convert');\n",
              "        buttonEl.style.display =\n",
              "          google.colab.kernel.accessAllowed ? 'block' : 'none';\n",
              "\n",
              "        async function convertToInteractive(key) {\n",
              "          const element = document.querySelector('#df-59c2abbc-b3ca-4712-b0e4-20eadb0c6acb');\n",
              "          const dataTable =\n",
              "            await google.colab.kernel.invokeFunction('convertToInteractive',\n",
              "                                                     [key], {});\n",
              "          if (!dataTable) return;\n",
              "\n",
              "          const docLinkHtml = 'Like what you see? Visit the ' +\n",
              "            '<a target=\"_blank\" href=https://colab.research.google.com/notebooks/data_table.ipynb>data table notebook</a>'\n",
              "            + ' to learn more about interactive tables.';\n",
              "          element.innerHTML = '';\n",
              "          dataTable['output_type'] = 'display_data';\n",
              "          await google.colab.output.renderOutput(dataTable, element);\n",
              "          const docLink = document.createElement('div');\n",
              "          docLink.innerHTML = docLinkHtml;\n",
              "          element.appendChild(docLink);\n",
              "        }\n",
              "      </script>\n",
              "    </div>\n",
              "  </div>\n",
              "  "
            ],
            "text/plain": [
              "     type  \\\n",
              "0       N   \n",
              "1       N   \n",
              "2       N   \n",
              "3       N   \n",
              "4       N   \n",
              "...   ...   \n",
              "8670    S   \n",
              "8671    N   \n",
              "8672    N   \n",
              "8673    N   \n",
              "8674    N   \n",
              "\n",
              "                                                                                                                                                                                                                                                                                                                                                                                                                                                                                                                                                                                                                        posts  \\\n",
              "0     ' and intj moments sportscenter not top ten plays pranksWhat has been the most lifechanging experience in your life  On repeat for most of todayMay the PerC Experience immerse youThe last thing my INFJ friend posted on his facebook before committing suicide the next day Rest in peace~ ENFJ Sorry to hear of your distress It's only natural for a relationship to not be perfection all the time in every moment of existence Try to figure the hard times as times of growth as  Welcome and stuff Game Set MatchProzac wellbrutin at least thirty minutes of moving your legs and I don't mean moving them...   \n",
              "1     'I'm finding the lack of me in these posts very alarmingSex can be boring if it's in the same position often For example me and my girlfriend are currently in an environment where we have to creatively use cowgirl and missionary There isn't enoughGiving new meaning to 'Game' theoryHello *ENTP Grin* That's all it takes Than we converse and they do most of the flirting while I acknowledge their presence and return their words with smooth wordplay and more cheeky grinsThis + Lack of Balance and Hand Eye CoordinationReal IQ test I score Internet IQ tests are funny I score s or higher Now like ...   \n",
              "2     'Good one  course to which I say I know that's my blessing and my curseDoes being absolutely positive that you and your best friend could be an amazing couple count If so than yes Or it's more I could be madly in love in case I reconciled my feelings which atNo I didn't thank you for a linkSocalled TiSi loop and it can stem from any current topicobsession can be deadly It's like when you're stuck in your own thoughts and your mind just wanders in circles Feels truly terrible Have you noticed how peculiar vegetation can be All you have to do is look down at the grass dozens of different pla...   \n",
              "3     'Dear INTP I enjoyed our conversation the other day Esoteric gabbing about the nature of the universe and the idea that every rule and social code being arbitrary constructs createdDear ENTJ sub Long time no see Sincerely AlphaNone of them All other types hurt in deep existential ways that I want no part ofProbably a sliding scale that depends on individual preferences like everything in humanityDraco Malfoy also I'd say he's either or I'm either or though in which stacking to me is a somewhat arbitrary distinction to make as I believe that the core indicates primary motivation and has a h...   \n",
              "4     'You're firedThat's another silly misconception That approaching is logically is going to be the key to unlocking whatever it is you think you are entitled to Nobody wants to be approached with BSBut guys he REALLY wants to go on a superduperlongass vacation C'mon guys His boss just doesn't listen or get it He even approached him logically and everythingNever mind Just go on permanent vacationTwo months I wouldn't be crazy about the idea If you are really his best employee then that's what may be cooking him Who wants their most reliable asset gone for that long ENTJ employerLol Its not li...   \n",
              "...                                                                                                                                                                                                                                                                                                                                                                                                                                                                                                                                                                                                                       ...   \n",
              "8670  ' just because I always think of cats as Fi doms for some reason on websites that have become a haven for neo nazis such as PerCI'm such a nerd I've been learning Dutch on Duolingo and I'm having so much fun Duolingo is the shit Oh my god I love this XDRight wingers do this because they lack political consciousnessI doubt it but if they are real then I hope to hell that they're nothing like the Twilight vampiresI would agree that both are likely related to confidence levels It makes sense to me that someone would be aggressive to overcompensate for a sometimes perceived shortcomingBoth Naz...   \n",
              "8671  'Soif this thread already exists someplace else which it does how the heck to I delete this one hereOoopsI guess I didn't look too hard because I just started a Movies every ENFP should watch threadSo this came up in the You Know You're An ENFP When thread Pucca here we go IT IS DONE D This isn't a list of films with ENFPs IN them but rather ones that you believe ENFPs wouldI know that I liked UP DI choose feeding myself joy over beating myself up” Buddy Wakefield[QUOTE=Pucca]I've never seen itshockedQUOTE] Me neither Guess we should have a Movie Marathon of All Movies ENFPs Should Watch D...   \n",
              "8672  'So many questions when i do these things I would take the purple pill Pick winning lottery numbers Do whatever I wantI worked in a brewery for a couple years here I dont know if you're familiar with the local microscraft at all but Mill st was the name of it Their tankhouse is my favorite of anything localI am going to summon the great and powerful mr cafebot and his song of destruction The four horseman ride Count your days people of earth Intro Nick the INTP male from a basementThis thread is obviously about the textbook definition of manliness Ruffin it tuffin it and going hard in the ...   \n",
              "8673  'I am very conflicted right now when it comes to wanting children I honestly had no maternal instinct whatsoever until recently Up until now none of my close friends have had children and IIf I had to guess for my closest friends ISFJ ESFP ISTJ xNFP ESFJ I don't know if this is correct or not because I don't know if *they* know their types actually the xNFPWhat you said in the last paragraph as a teacher this frustrates me too There's a trend in education to combine classes more and more to contain a variety of types of students which I won'tI can't say that I had much trouble with my comm...   \n",
              "8674  'It has been too long since I have been on personalitycafe although it doesn't seem to have changed one bit but I must say it is good to be back somewhere like this Usually I turn to Doctor Who by the world around meIn one dream I have had I was being chased by a large shadowy creature with someone else who I felt I had to save above all else The dream ended after she reached safety but as for what happenedWell now My Avatar is a Doctor Who Clockwork Creature I always liked this monster because It is just a worker trying to do it's job kind of st Thanks for your reply I appreciate all the ...   \n",
              "\n",
              "      category  \n",
              "0            0  \n",
              "1            0  \n",
              "2            0  \n",
              "3            0  \n",
              "4            0  \n",
              "...        ...  \n",
              "8670         1  \n",
              "8671         0  \n",
              "8672         0  \n",
              "8673         0  \n",
              "8674         0  \n",
              "\n",
              "[8675 rows x 3 columns]"
            ]
          },
          "execution_count": 75,
          "metadata": {},
          "output_type": "execute_result"
        }
      ],
      "source": [
        "mb_N_S"
      ]
    },
    {
      "cell_type": "code",
      "execution_count": null,
      "metadata": {
        "colab": {
          "base_uri": "https://localhost:8080/",
          "height": 988
        },
        "id": "j8yWiXjulSPj",
        "outputId": "a4641433-e16d-412f-8cdd-11f8a9d4e951"
      },
      "outputs": [
        {
          "data": {
            "text/html": [
              "\n",
              "  <div id=\"df-a577ec72-2798-4bfa-a48c-024afa4ba928\">\n",
              "    <div class=\"colab-df-container\">\n",
              "      <div>\n",
              "<style scoped>\n",
              "    .dataframe tbody tr th:only-of-type {\n",
              "        vertical-align: middle;\n",
              "    }\n",
              "\n",
              "    .dataframe tbody tr th {\n",
              "        vertical-align: top;\n",
              "    }\n",
              "\n",
              "    .dataframe thead th {\n",
              "        text-align: right;\n",
              "    }\n",
              "</style>\n",
              "<table border=\"1\" class=\"dataframe\">\n",
              "  <thead>\n",
              "    <tr style=\"text-align: right;\">\n",
              "      <th></th>\n",
              "      <th>type</th>\n",
              "      <th>posts</th>\n",
              "      <th>category</th>\n",
              "    </tr>\n",
              "  </thead>\n",
              "  <tbody>\n",
              "    <tr>\n",
              "      <th>0</th>\n",
              "      <td>F</td>\n",
              "      <td>' and intj moments sportscenter not top ten plays pranksWhat has been the most lifechanging experience in your life  On repeat for most of todayMay the PerC Experience immerse youThe last thing my INFJ friend posted on his facebook before committing suicide the next day Rest in peace~ ENFJ Sorry to hear of your distress It's only natural for a relationship to not be perfection all the time in every moment of existence Try to figure the hard times as times of growth as  Welcome and stuff Game Set MatchProzac wellbrutin at least thirty minutes of moving your legs and I don't mean moving them...</td>\n",
              "      <td>0</td>\n",
              "    </tr>\n",
              "    <tr>\n",
              "      <th>1</th>\n",
              "      <td>T</td>\n",
              "      <td>'I'm finding the lack of me in these posts very alarmingSex can be boring if it's in the same position often For example me and my girlfriend are currently in an environment where we have to creatively use cowgirl and missionary There isn't enoughGiving new meaning to 'Game' theoryHello *ENTP Grin* That's all it takes Than we converse and they do most of the flirting while I acknowledge their presence and return their words with smooth wordplay and more cheeky grinsThis + Lack of Balance and Hand Eye CoordinationReal IQ test I score Internet IQ tests are funny I score s or higher Now like ...</td>\n",
              "      <td>1</td>\n",
              "    </tr>\n",
              "    <tr>\n",
              "      <th>2</th>\n",
              "      <td>T</td>\n",
              "      <td>'Good one  course to which I say I know that's my blessing and my curseDoes being absolutely positive that you and your best friend could be an amazing couple count If so than yes Or it's more I could be madly in love in case I reconciled my feelings which atNo I didn't thank you for a linkSocalled TiSi loop and it can stem from any current topicobsession can be deadly It's like when you're stuck in your own thoughts and your mind just wanders in circles Feels truly terrible Have you noticed how peculiar vegetation can be All you have to do is look down at the grass dozens of different pla...</td>\n",
              "      <td>1</td>\n",
              "    </tr>\n",
              "    <tr>\n",
              "      <th>3</th>\n",
              "      <td>T</td>\n",
              "      <td>'Dear INTP I enjoyed our conversation the other day Esoteric gabbing about the nature of the universe and the idea that every rule and social code being arbitrary constructs createdDear ENTJ sub Long time no see Sincerely AlphaNone of them All other types hurt in deep existential ways that I want no part ofProbably a sliding scale that depends on individual preferences like everything in humanityDraco Malfoy also I'd say he's either or I'm either or though in which stacking to me is a somewhat arbitrary distinction to make as I believe that the core indicates primary motivation and has a h...</td>\n",
              "      <td>1</td>\n",
              "    </tr>\n",
              "    <tr>\n",
              "      <th>4</th>\n",
              "      <td>T</td>\n",
              "      <td>'You're firedThat's another silly misconception That approaching is logically is going to be the key to unlocking whatever it is you think you are entitled to Nobody wants to be approached with BSBut guys he REALLY wants to go on a superduperlongass vacation C'mon guys His boss just doesn't listen or get it He even approached him logically and everythingNever mind Just go on permanent vacationTwo months I wouldn't be crazy about the idea If you are really his best employee then that's what may be cooking him Who wants their most reliable asset gone for that long ENTJ employerLol Its not li...</td>\n",
              "      <td>1</td>\n",
              "    </tr>\n",
              "    <tr>\n",
              "      <th>...</th>\n",
              "      <td>...</td>\n",
              "      <td>...</td>\n",
              "      <td>...</td>\n",
              "    </tr>\n",
              "    <tr>\n",
              "      <th>8670</th>\n",
              "      <td>F</td>\n",
              "      <td>' just because I always think of cats as Fi doms for some reason on websites that have become a haven for neo nazis such as PerCI'm such a nerd I've been learning Dutch on Duolingo and I'm having so much fun Duolingo is the shit Oh my god I love this XDRight wingers do this because they lack political consciousnessI doubt it but if they are real then I hope to hell that they're nothing like the Twilight vampiresI would agree that both are likely related to confidence levels It makes sense to me that someone would be aggressive to overcompensate for a sometimes perceived shortcomingBoth Naz...</td>\n",
              "      <td>0</td>\n",
              "    </tr>\n",
              "    <tr>\n",
              "      <th>8671</th>\n",
              "      <td>F</td>\n",
              "      <td>'Soif this thread already exists someplace else which it does how the heck to I delete this one hereOoopsI guess I didn't look too hard because I just started a Movies every ENFP should watch threadSo this came up in the You Know You're An ENFP When thread Pucca here we go IT IS DONE D This isn't a list of films with ENFPs IN them but rather ones that you believe ENFPs wouldI know that I liked UP DI choose feeding myself joy over beating myself up” Buddy Wakefield[QUOTE=Pucca]I've never seen itshockedQUOTE] Me neither Guess we should have a Movie Marathon of All Movies ENFPs Should Watch D...</td>\n",
              "      <td>0</td>\n",
              "    </tr>\n",
              "    <tr>\n",
              "      <th>8672</th>\n",
              "      <td>T</td>\n",
              "      <td>'So many questions when i do these things I would take the purple pill Pick winning lottery numbers Do whatever I wantI worked in a brewery for a couple years here I dont know if you're familiar with the local microscraft at all but Mill st was the name of it Their tankhouse is my favorite of anything localI am going to summon the great and powerful mr cafebot and his song of destruction The four horseman ride Count your days people of earth Intro Nick the INTP male from a basementThis thread is obviously about the textbook definition of manliness Ruffin it tuffin it and going hard in the ...</td>\n",
              "      <td>1</td>\n",
              "    </tr>\n",
              "    <tr>\n",
              "      <th>8673</th>\n",
              "      <td>F</td>\n",
              "      <td>'I am very conflicted right now when it comes to wanting children I honestly had no maternal instinct whatsoever until recently Up until now none of my close friends have had children and IIf I had to guess for my closest friends ISFJ ESFP ISTJ xNFP ESFJ I don't know if this is correct or not because I don't know if *they* know their types actually the xNFPWhat you said in the last paragraph as a teacher this frustrates me too There's a trend in education to combine classes more and more to contain a variety of types of students which I won'tI can't say that I had much trouble with my comm...</td>\n",
              "      <td>0</td>\n",
              "    </tr>\n",
              "    <tr>\n",
              "      <th>8674</th>\n",
              "      <td>F</td>\n",
              "      <td>'It has been too long since I have been on personalitycafe although it doesn't seem to have changed one bit but I must say it is good to be back somewhere like this Usually I turn to Doctor Who by the world around meIn one dream I have had I was being chased by a large shadowy creature with someone else who I felt I had to save above all else The dream ended after she reached safety but as for what happenedWell now My Avatar is a Doctor Who Clockwork Creature I always liked this monster because It is just a worker trying to do it's job kind of st Thanks for your reply I appreciate all the ...</td>\n",
              "      <td>0</td>\n",
              "    </tr>\n",
              "  </tbody>\n",
              "</table>\n",
              "<p>8675 rows × 3 columns</p>\n",
              "</div>\n",
              "      <button class=\"colab-df-convert\" onclick=\"convertToInteractive('df-a577ec72-2798-4bfa-a48c-024afa4ba928')\"\n",
              "              title=\"Convert this dataframe to an interactive table.\"\n",
              "              style=\"display:none;\">\n",
              "        \n",
              "  <svg xmlns=\"http://www.w3.org/2000/svg\" height=\"24px\"viewBox=\"0 0 24 24\"\n",
              "       width=\"24px\">\n",
              "    <path d=\"M0 0h24v24H0V0z\" fill=\"none\"/>\n",
              "    <path d=\"M18.56 5.44l.94 2.06.94-2.06 2.06-.94-2.06-.94-.94-2.06-.94 2.06-2.06.94zm-11 1L8.5 8.5l.94-2.06 2.06-.94-2.06-.94L8.5 2.5l-.94 2.06-2.06.94zm10 10l.94 2.06.94-2.06 2.06-.94-2.06-.94-.94-2.06-.94 2.06-2.06.94z\"/><path d=\"M17.41 7.96l-1.37-1.37c-.4-.4-.92-.59-1.43-.59-.52 0-1.04.2-1.43.59L10.3 9.45l-7.72 7.72c-.78.78-.78 2.05 0 2.83L4 21.41c.39.39.9.59 1.41.59.51 0 1.02-.2 1.41-.59l7.78-7.78 2.81-2.81c.8-.78.8-2.07 0-2.86zM5.41 20L4 18.59l7.72-7.72 1.47 1.35L5.41 20z\"/>\n",
              "  </svg>\n",
              "      </button>\n",
              "      \n",
              "  <style>\n",
              "    .colab-df-container {\n",
              "      display:flex;\n",
              "      flex-wrap:wrap;\n",
              "      gap: 12px;\n",
              "    }\n",
              "\n",
              "    .colab-df-convert {\n",
              "      background-color: #E8F0FE;\n",
              "      border: none;\n",
              "      border-radius: 50%;\n",
              "      cursor: pointer;\n",
              "      display: none;\n",
              "      fill: #1967D2;\n",
              "      height: 32px;\n",
              "      padding: 0 0 0 0;\n",
              "      width: 32px;\n",
              "    }\n",
              "\n",
              "    .colab-df-convert:hover {\n",
              "      background-color: #E2EBFA;\n",
              "      box-shadow: 0px 1px 2px rgba(60, 64, 67, 0.3), 0px 1px 3px 1px rgba(60, 64, 67, 0.15);\n",
              "      fill: #174EA6;\n",
              "    }\n",
              "\n",
              "    [theme=dark] .colab-df-convert {\n",
              "      background-color: #3B4455;\n",
              "      fill: #D2E3FC;\n",
              "    }\n",
              "\n",
              "    [theme=dark] .colab-df-convert:hover {\n",
              "      background-color: #434B5C;\n",
              "      box-shadow: 0px 1px 3px 1px rgba(0, 0, 0, 0.15);\n",
              "      filter: drop-shadow(0px 1px 2px rgba(0, 0, 0, 0.3));\n",
              "      fill: #FFFFFF;\n",
              "    }\n",
              "  </style>\n",
              "\n",
              "      <script>\n",
              "        const buttonEl =\n",
              "          document.querySelector('#df-a577ec72-2798-4bfa-a48c-024afa4ba928 button.colab-df-convert');\n",
              "        buttonEl.style.display =\n",
              "          google.colab.kernel.accessAllowed ? 'block' : 'none';\n",
              "\n",
              "        async function convertToInteractive(key) {\n",
              "          const element = document.querySelector('#df-a577ec72-2798-4bfa-a48c-024afa4ba928');\n",
              "          const dataTable =\n",
              "            await google.colab.kernel.invokeFunction('convertToInteractive',\n",
              "                                                     [key], {});\n",
              "          if (!dataTable) return;\n",
              "\n",
              "          const docLinkHtml = 'Like what you see? Visit the ' +\n",
              "            '<a target=\"_blank\" href=https://colab.research.google.com/notebooks/data_table.ipynb>data table notebook</a>'\n",
              "            + ' to learn more about interactive tables.';\n",
              "          element.innerHTML = '';\n",
              "          dataTable['output_type'] = 'display_data';\n",
              "          await google.colab.output.renderOutput(dataTable, element);\n",
              "          const docLink = document.createElement('div');\n",
              "          docLink.innerHTML = docLinkHtml;\n",
              "          element.appendChild(docLink);\n",
              "        }\n",
              "      </script>\n",
              "    </div>\n",
              "  </div>\n",
              "  "
            ],
            "text/plain": [
              "     type  \\\n",
              "0       F   \n",
              "1       T   \n",
              "2       T   \n",
              "3       T   \n",
              "4       T   \n",
              "...   ...   \n",
              "8670    F   \n",
              "8671    F   \n",
              "8672    T   \n",
              "8673    F   \n",
              "8674    F   \n",
              "\n",
              "                                                                                                                                                                                                                                                                                                                                                                                                                                                                                                                                                                                                                        posts  \\\n",
              "0     ' and intj moments sportscenter not top ten plays pranksWhat has been the most lifechanging experience in your life  On repeat for most of todayMay the PerC Experience immerse youThe last thing my INFJ friend posted on his facebook before committing suicide the next day Rest in peace~ ENFJ Sorry to hear of your distress It's only natural for a relationship to not be perfection all the time in every moment of existence Try to figure the hard times as times of growth as  Welcome and stuff Game Set MatchProzac wellbrutin at least thirty minutes of moving your legs and I don't mean moving them...   \n",
              "1     'I'm finding the lack of me in these posts very alarmingSex can be boring if it's in the same position often For example me and my girlfriend are currently in an environment where we have to creatively use cowgirl and missionary There isn't enoughGiving new meaning to 'Game' theoryHello *ENTP Grin* That's all it takes Than we converse and they do most of the flirting while I acknowledge their presence and return their words with smooth wordplay and more cheeky grinsThis + Lack of Balance and Hand Eye CoordinationReal IQ test I score Internet IQ tests are funny I score s or higher Now like ...   \n",
              "2     'Good one  course to which I say I know that's my blessing and my curseDoes being absolutely positive that you and your best friend could be an amazing couple count If so than yes Or it's more I could be madly in love in case I reconciled my feelings which atNo I didn't thank you for a linkSocalled TiSi loop and it can stem from any current topicobsession can be deadly It's like when you're stuck in your own thoughts and your mind just wanders in circles Feels truly terrible Have you noticed how peculiar vegetation can be All you have to do is look down at the grass dozens of different pla...   \n",
              "3     'Dear INTP I enjoyed our conversation the other day Esoteric gabbing about the nature of the universe and the idea that every rule and social code being arbitrary constructs createdDear ENTJ sub Long time no see Sincerely AlphaNone of them All other types hurt in deep existential ways that I want no part ofProbably a sliding scale that depends on individual preferences like everything in humanityDraco Malfoy also I'd say he's either or I'm either or though in which stacking to me is a somewhat arbitrary distinction to make as I believe that the core indicates primary motivation and has a h...   \n",
              "4     'You're firedThat's another silly misconception That approaching is logically is going to be the key to unlocking whatever it is you think you are entitled to Nobody wants to be approached with BSBut guys he REALLY wants to go on a superduperlongass vacation C'mon guys His boss just doesn't listen or get it He even approached him logically and everythingNever mind Just go on permanent vacationTwo months I wouldn't be crazy about the idea If you are really his best employee then that's what may be cooking him Who wants their most reliable asset gone for that long ENTJ employerLol Its not li...   \n",
              "...                                                                                                                                                                                                                                                                                                                                                                                                                                                                                                                                                                                                                       ...   \n",
              "8670  ' just because I always think of cats as Fi doms for some reason on websites that have become a haven for neo nazis such as PerCI'm such a nerd I've been learning Dutch on Duolingo and I'm having so much fun Duolingo is the shit Oh my god I love this XDRight wingers do this because they lack political consciousnessI doubt it but if they are real then I hope to hell that they're nothing like the Twilight vampiresI would agree that both are likely related to confidence levels It makes sense to me that someone would be aggressive to overcompensate for a sometimes perceived shortcomingBoth Naz...   \n",
              "8671  'Soif this thread already exists someplace else which it does how the heck to I delete this one hereOoopsI guess I didn't look too hard because I just started a Movies every ENFP should watch threadSo this came up in the You Know You're An ENFP When thread Pucca here we go IT IS DONE D This isn't a list of films with ENFPs IN them but rather ones that you believe ENFPs wouldI know that I liked UP DI choose feeding myself joy over beating myself up” Buddy Wakefield[QUOTE=Pucca]I've never seen itshockedQUOTE] Me neither Guess we should have a Movie Marathon of All Movies ENFPs Should Watch D...   \n",
              "8672  'So many questions when i do these things I would take the purple pill Pick winning lottery numbers Do whatever I wantI worked in a brewery for a couple years here I dont know if you're familiar with the local microscraft at all but Mill st was the name of it Their tankhouse is my favorite of anything localI am going to summon the great and powerful mr cafebot and his song of destruction The four horseman ride Count your days people of earth Intro Nick the INTP male from a basementThis thread is obviously about the textbook definition of manliness Ruffin it tuffin it and going hard in the ...   \n",
              "8673  'I am very conflicted right now when it comes to wanting children I honestly had no maternal instinct whatsoever until recently Up until now none of my close friends have had children and IIf I had to guess for my closest friends ISFJ ESFP ISTJ xNFP ESFJ I don't know if this is correct or not because I don't know if *they* know their types actually the xNFPWhat you said in the last paragraph as a teacher this frustrates me too There's a trend in education to combine classes more and more to contain a variety of types of students which I won'tI can't say that I had much trouble with my comm...   \n",
              "8674  'It has been too long since I have been on personalitycafe although it doesn't seem to have changed one bit but I must say it is good to be back somewhere like this Usually I turn to Doctor Who by the world around meIn one dream I have had I was being chased by a large shadowy creature with someone else who I felt I had to save above all else The dream ended after she reached safety but as for what happenedWell now My Avatar is a Doctor Who Clockwork Creature I always liked this monster because It is just a worker trying to do it's job kind of st Thanks for your reply I appreciate all the ...   \n",
              "\n",
              "      category  \n",
              "0            0  \n",
              "1            1  \n",
              "2            1  \n",
              "3            1  \n",
              "4            1  \n",
              "...        ...  \n",
              "8670         0  \n",
              "8671         0  \n",
              "8672         1  \n",
              "8673         0  \n",
              "8674         0  \n",
              "\n",
              "[8675 rows x 3 columns]"
            ]
          },
          "execution_count": 76,
          "metadata": {},
          "output_type": "execute_result"
        }
      ],
      "source": [
        "mb_F_T"
      ]
    },
    {
      "cell_type": "code",
      "execution_count": null,
      "metadata": {
        "colab": {
          "base_uri": "https://localhost:8080/",
          "height": 988
        },
        "id": "YH4tVrzGlSSP",
        "outputId": "d5c1eda3-6710-4022-d46b-15d33d259e74"
      },
      "outputs": [
        {
          "data": {
            "text/html": [
              "\n",
              "  <div id=\"df-a4c98dda-6b6a-45a2-a155-460872629cf3\">\n",
              "    <div class=\"colab-df-container\">\n",
              "      <div>\n",
              "<style scoped>\n",
              "    .dataframe tbody tr th:only-of-type {\n",
              "        vertical-align: middle;\n",
              "    }\n",
              "\n",
              "    .dataframe tbody tr th {\n",
              "        vertical-align: top;\n",
              "    }\n",
              "\n",
              "    .dataframe thead th {\n",
              "        text-align: right;\n",
              "    }\n",
              "</style>\n",
              "<table border=\"1\" class=\"dataframe\">\n",
              "  <thead>\n",
              "    <tr style=\"text-align: right;\">\n",
              "      <th></th>\n",
              "      <th>type</th>\n",
              "      <th>posts</th>\n",
              "      <th>category</th>\n",
              "    </tr>\n",
              "  </thead>\n",
              "  <tbody>\n",
              "    <tr>\n",
              "      <th>0</th>\n",
              "      <td>J</td>\n",
              "      <td>' and intj moments sportscenter not top ten plays pranksWhat has been the most lifechanging experience in your life  On repeat for most of todayMay the PerC Experience immerse youThe last thing my INFJ friend posted on his facebook before committing suicide the next day Rest in peace~ ENFJ Sorry to hear of your distress It's only natural for a relationship to not be perfection all the time in every moment of existence Try to figure the hard times as times of growth as  Welcome and stuff Game Set MatchProzac wellbrutin at least thirty minutes of moving your legs and I don't mean moving them...</td>\n",
              "      <td>0</td>\n",
              "    </tr>\n",
              "    <tr>\n",
              "      <th>1</th>\n",
              "      <td>P</td>\n",
              "      <td>'I'm finding the lack of me in these posts very alarmingSex can be boring if it's in the same position often For example me and my girlfriend are currently in an environment where we have to creatively use cowgirl and missionary There isn't enoughGiving new meaning to 'Game' theoryHello *ENTP Grin* That's all it takes Than we converse and they do most of the flirting while I acknowledge their presence and return their words with smooth wordplay and more cheeky grinsThis + Lack of Balance and Hand Eye CoordinationReal IQ test I score Internet IQ tests are funny I score s or higher Now like ...</td>\n",
              "      <td>1</td>\n",
              "    </tr>\n",
              "    <tr>\n",
              "      <th>2</th>\n",
              "      <td>P</td>\n",
              "      <td>'Good one  course to which I say I know that's my blessing and my curseDoes being absolutely positive that you and your best friend could be an amazing couple count If so than yes Or it's more I could be madly in love in case I reconciled my feelings which atNo I didn't thank you for a linkSocalled TiSi loop and it can stem from any current topicobsession can be deadly It's like when you're stuck in your own thoughts and your mind just wanders in circles Feels truly terrible Have you noticed how peculiar vegetation can be All you have to do is look down at the grass dozens of different pla...</td>\n",
              "      <td>1</td>\n",
              "    </tr>\n",
              "    <tr>\n",
              "      <th>3</th>\n",
              "      <td>J</td>\n",
              "      <td>'Dear INTP I enjoyed our conversation the other day Esoteric gabbing about the nature of the universe and the idea that every rule and social code being arbitrary constructs createdDear ENTJ sub Long time no see Sincerely AlphaNone of them All other types hurt in deep existential ways that I want no part ofProbably a sliding scale that depends on individual preferences like everything in humanityDraco Malfoy also I'd say he's either or I'm either or though in which stacking to me is a somewhat arbitrary distinction to make as I believe that the core indicates primary motivation and has a h...</td>\n",
              "      <td>0</td>\n",
              "    </tr>\n",
              "    <tr>\n",
              "      <th>4</th>\n",
              "      <td>J</td>\n",
              "      <td>'You're firedThat's another silly misconception That approaching is logically is going to be the key to unlocking whatever it is you think you are entitled to Nobody wants to be approached with BSBut guys he REALLY wants to go on a superduperlongass vacation C'mon guys His boss just doesn't listen or get it He even approached him logically and everythingNever mind Just go on permanent vacationTwo months I wouldn't be crazy about the idea If you are really his best employee then that's what may be cooking him Who wants their most reliable asset gone for that long ENTJ employerLol Its not li...</td>\n",
              "      <td>0</td>\n",
              "    </tr>\n",
              "    <tr>\n",
              "      <th>...</th>\n",
              "      <td>...</td>\n",
              "      <td>...</td>\n",
              "      <td>...</td>\n",
              "    </tr>\n",
              "    <tr>\n",
              "      <th>8670</th>\n",
              "      <td>P</td>\n",
              "      <td>' just because I always think of cats as Fi doms for some reason on websites that have become a haven for neo nazis such as PerCI'm such a nerd I've been learning Dutch on Duolingo and I'm having so much fun Duolingo is the shit Oh my god I love this XDRight wingers do this because they lack political consciousnessI doubt it but if they are real then I hope to hell that they're nothing like the Twilight vampiresI would agree that both are likely related to confidence levels It makes sense to me that someone would be aggressive to overcompensate for a sometimes perceived shortcomingBoth Naz...</td>\n",
              "      <td>1</td>\n",
              "    </tr>\n",
              "    <tr>\n",
              "      <th>8671</th>\n",
              "      <td>P</td>\n",
              "      <td>'Soif this thread already exists someplace else which it does how the heck to I delete this one hereOoopsI guess I didn't look too hard because I just started a Movies every ENFP should watch threadSo this came up in the You Know You're An ENFP When thread Pucca here we go IT IS DONE D This isn't a list of films with ENFPs IN them but rather ones that you believe ENFPs wouldI know that I liked UP DI choose feeding myself joy over beating myself up” Buddy Wakefield[QUOTE=Pucca]I've never seen itshockedQUOTE] Me neither Guess we should have a Movie Marathon of All Movies ENFPs Should Watch D...</td>\n",
              "      <td>1</td>\n",
              "    </tr>\n",
              "    <tr>\n",
              "      <th>8672</th>\n",
              "      <td>P</td>\n",
              "      <td>'So many questions when i do these things I would take the purple pill Pick winning lottery numbers Do whatever I wantI worked in a brewery for a couple years here I dont know if you're familiar with the local microscraft at all but Mill st was the name of it Their tankhouse is my favorite of anything localI am going to summon the great and powerful mr cafebot and his song of destruction The four horseman ride Count your days people of earth Intro Nick the INTP male from a basementThis thread is obviously about the textbook definition of manliness Ruffin it tuffin it and going hard in the ...</td>\n",
              "      <td>1</td>\n",
              "    </tr>\n",
              "    <tr>\n",
              "      <th>8673</th>\n",
              "      <td>P</td>\n",
              "      <td>'I am very conflicted right now when it comes to wanting children I honestly had no maternal instinct whatsoever until recently Up until now none of my close friends have had children and IIf I had to guess for my closest friends ISFJ ESFP ISTJ xNFP ESFJ I don't know if this is correct or not because I don't know if *they* know their types actually the xNFPWhat you said in the last paragraph as a teacher this frustrates me too There's a trend in education to combine classes more and more to contain a variety of types of students which I won'tI can't say that I had much trouble with my comm...</td>\n",
              "      <td>1</td>\n",
              "    </tr>\n",
              "    <tr>\n",
              "      <th>8674</th>\n",
              "      <td>P</td>\n",
              "      <td>'It has been too long since I have been on personalitycafe although it doesn't seem to have changed one bit but I must say it is good to be back somewhere like this Usually I turn to Doctor Who by the world around meIn one dream I have had I was being chased by a large shadowy creature with someone else who I felt I had to save above all else The dream ended after she reached safety but as for what happenedWell now My Avatar is a Doctor Who Clockwork Creature I always liked this monster because It is just a worker trying to do it's job kind of st Thanks for your reply I appreciate all the ...</td>\n",
              "      <td>1</td>\n",
              "    </tr>\n",
              "  </tbody>\n",
              "</table>\n",
              "<p>8675 rows × 3 columns</p>\n",
              "</div>\n",
              "      <button class=\"colab-df-convert\" onclick=\"convertToInteractive('df-a4c98dda-6b6a-45a2-a155-460872629cf3')\"\n",
              "              title=\"Convert this dataframe to an interactive table.\"\n",
              "              style=\"display:none;\">\n",
              "        \n",
              "  <svg xmlns=\"http://www.w3.org/2000/svg\" height=\"24px\"viewBox=\"0 0 24 24\"\n",
              "       width=\"24px\">\n",
              "    <path d=\"M0 0h24v24H0V0z\" fill=\"none\"/>\n",
              "    <path d=\"M18.56 5.44l.94 2.06.94-2.06 2.06-.94-2.06-.94-.94-2.06-.94 2.06-2.06.94zm-11 1L8.5 8.5l.94-2.06 2.06-.94-2.06-.94L8.5 2.5l-.94 2.06-2.06.94zm10 10l.94 2.06.94-2.06 2.06-.94-2.06-.94-.94-2.06-.94 2.06-2.06.94z\"/><path d=\"M17.41 7.96l-1.37-1.37c-.4-.4-.92-.59-1.43-.59-.52 0-1.04.2-1.43.59L10.3 9.45l-7.72 7.72c-.78.78-.78 2.05 0 2.83L4 21.41c.39.39.9.59 1.41.59.51 0 1.02-.2 1.41-.59l7.78-7.78 2.81-2.81c.8-.78.8-2.07 0-2.86zM5.41 20L4 18.59l7.72-7.72 1.47 1.35L5.41 20z\"/>\n",
              "  </svg>\n",
              "      </button>\n",
              "      \n",
              "  <style>\n",
              "    .colab-df-container {\n",
              "      display:flex;\n",
              "      flex-wrap:wrap;\n",
              "      gap: 12px;\n",
              "    }\n",
              "\n",
              "    .colab-df-convert {\n",
              "      background-color: #E8F0FE;\n",
              "      border: none;\n",
              "      border-radius: 50%;\n",
              "      cursor: pointer;\n",
              "      display: none;\n",
              "      fill: #1967D2;\n",
              "      height: 32px;\n",
              "      padding: 0 0 0 0;\n",
              "      width: 32px;\n",
              "    }\n",
              "\n",
              "    .colab-df-convert:hover {\n",
              "      background-color: #E2EBFA;\n",
              "      box-shadow: 0px 1px 2px rgba(60, 64, 67, 0.3), 0px 1px 3px 1px rgba(60, 64, 67, 0.15);\n",
              "      fill: #174EA6;\n",
              "    }\n",
              "\n",
              "    [theme=dark] .colab-df-convert {\n",
              "      background-color: #3B4455;\n",
              "      fill: #D2E3FC;\n",
              "    }\n",
              "\n",
              "    [theme=dark] .colab-df-convert:hover {\n",
              "      background-color: #434B5C;\n",
              "      box-shadow: 0px 1px 3px 1px rgba(0, 0, 0, 0.15);\n",
              "      filter: drop-shadow(0px 1px 2px rgba(0, 0, 0, 0.3));\n",
              "      fill: #FFFFFF;\n",
              "    }\n",
              "  </style>\n",
              "\n",
              "      <script>\n",
              "        const buttonEl =\n",
              "          document.querySelector('#df-a4c98dda-6b6a-45a2-a155-460872629cf3 button.colab-df-convert');\n",
              "        buttonEl.style.display =\n",
              "          google.colab.kernel.accessAllowed ? 'block' : 'none';\n",
              "\n",
              "        async function convertToInteractive(key) {\n",
              "          const element = document.querySelector('#df-a4c98dda-6b6a-45a2-a155-460872629cf3');\n",
              "          const dataTable =\n",
              "            await google.colab.kernel.invokeFunction('convertToInteractive',\n",
              "                                                     [key], {});\n",
              "          if (!dataTable) return;\n",
              "\n",
              "          const docLinkHtml = 'Like what you see? Visit the ' +\n",
              "            '<a target=\"_blank\" href=https://colab.research.google.com/notebooks/data_table.ipynb>data table notebook</a>'\n",
              "            + ' to learn more about interactive tables.';\n",
              "          element.innerHTML = '';\n",
              "          dataTable['output_type'] = 'display_data';\n",
              "          await google.colab.output.renderOutput(dataTable, element);\n",
              "          const docLink = document.createElement('div');\n",
              "          docLink.innerHTML = docLinkHtml;\n",
              "          element.appendChild(docLink);\n",
              "        }\n",
              "      </script>\n",
              "    </div>\n",
              "  </div>\n",
              "  "
            ],
            "text/plain": [
              "     type  \\\n",
              "0       J   \n",
              "1       P   \n",
              "2       P   \n",
              "3       J   \n",
              "4       J   \n",
              "...   ...   \n",
              "8670    P   \n",
              "8671    P   \n",
              "8672    P   \n",
              "8673    P   \n",
              "8674    P   \n",
              "\n",
              "                                                                                                                                                                                                                                                                                                                                                                                                                                                                                                                                                                                                                        posts  \\\n",
              "0     ' and intj moments sportscenter not top ten plays pranksWhat has been the most lifechanging experience in your life  On repeat for most of todayMay the PerC Experience immerse youThe last thing my INFJ friend posted on his facebook before committing suicide the next day Rest in peace~ ENFJ Sorry to hear of your distress It's only natural for a relationship to not be perfection all the time in every moment of existence Try to figure the hard times as times of growth as  Welcome and stuff Game Set MatchProzac wellbrutin at least thirty minutes of moving your legs and I don't mean moving them...   \n",
              "1     'I'm finding the lack of me in these posts very alarmingSex can be boring if it's in the same position often For example me and my girlfriend are currently in an environment where we have to creatively use cowgirl and missionary There isn't enoughGiving new meaning to 'Game' theoryHello *ENTP Grin* That's all it takes Than we converse and they do most of the flirting while I acknowledge their presence and return their words with smooth wordplay and more cheeky grinsThis + Lack of Balance and Hand Eye CoordinationReal IQ test I score Internet IQ tests are funny I score s or higher Now like ...   \n",
              "2     'Good one  course to which I say I know that's my blessing and my curseDoes being absolutely positive that you and your best friend could be an amazing couple count If so than yes Or it's more I could be madly in love in case I reconciled my feelings which atNo I didn't thank you for a linkSocalled TiSi loop and it can stem from any current topicobsession can be deadly It's like when you're stuck in your own thoughts and your mind just wanders in circles Feels truly terrible Have you noticed how peculiar vegetation can be All you have to do is look down at the grass dozens of different pla...   \n",
              "3     'Dear INTP I enjoyed our conversation the other day Esoteric gabbing about the nature of the universe and the idea that every rule and social code being arbitrary constructs createdDear ENTJ sub Long time no see Sincerely AlphaNone of them All other types hurt in deep existential ways that I want no part ofProbably a sliding scale that depends on individual preferences like everything in humanityDraco Malfoy also I'd say he's either or I'm either or though in which stacking to me is a somewhat arbitrary distinction to make as I believe that the core indicates primary motivation and has a h...   \n",
              "4     'You're firedThat's another silly misconception That approaching is logically is going to be the key to unlocking whatever it is you think you are entitled to Nobody wants to be approached with BSBut guys he REALLY wants to go on a superduperlongass vacation C'mon guys His boss just doesn't listen or get it He even approached him logically and everythingNever mind Just go on permanent vacationTwo months I wouldn't be crazy about the idea If you are really his best employee then that's what may be cooking him Who wants their most reliable asset gone for that long ENTJ employerLol Its not li...   \n",
              "...                                                                                                                                                                                                                                                                                                                                                                                                                                                                                                                                                                                                                       ...   \n",
              "8670  ' just because I always think of cats as Fi doms for some reason on websites that have become a haven for neo nazis such as PerCI'm such a nerd I've been learning Dutch on Duolingo and I'm having so much fun Duolingo is the shit Oh my god I love this XDRight wingers do this because they lack political consciousnessI doubt it but if they are real then I hope to hell that they're nothing like the Twilight vampiresI would agree that both are likely related to confidence levels It makes sense to me that someone would be aggressive to overcompensate for a sometimes perceived shortcomingBoth Naz...   \n",
              "8671  'Soif this thread already exists someplace else which it does how the heck to I delete this one hereOoopsI guess I didn't look too hard because I just started a Movies every ENFP should watch threadSo this came up in the You Know You're An ENFP When thread Pucca here we go IT IS DONE D This isn't a list of films with ENFPs IN them but rather ones that you believe ENFPs wouldI know that I liked UP DI choose feeding myself joy over beating myself up” Buddy Wakefield[QUOTE=Pucca]I've never seen itshockedQUOTE] Me neither Guess we should have a Movie Marathon of All Movies ENFPs Should Watch D...   \n",
              "8672  'So many questions when i do these things I would take the purple pill Pick winning lottery numbers Do whatever I wantI worked in a brewery for a couple years here I dont know if you're familiar with the local microscraft at all but Mill st was the name of it Their tankhouse is my favorite of anything localI am going to summon the great and powerful mr cafebot and his song of destruction The four horseman ride Count your days people of earth Intro Nick the INTP male from a basementThis thread is obviously about the textbook definition of manliness Ruffin it tuffin it and going hard in the ...   \n",
              "8673  'I am very conflicted right now when it comes to wanting children I honestly had no maternal instinct whatsoever until recently Up until now none of my close friends have had children and IIf I had to guess for my closest friends ISFJ ESFP ISTJ xNFP ESFJ I don't know if this is correct or not because I don't know if *they* know their types actually the xNFPWhat you said in the last paragraph as a teacher this frustrates me too There's a trend in education to combine classes more and more to contain a variety of types of students which I won'tI can't say that I had much trouble with my comm...   \n",
              "8674  'It has been too long since I have been on personalitycafe although it doesn't seem to have changed one bit but I must say it is good to be back somewhere like this Usually I turn to Doctor Who by the world around meIn one dream I have had I was being chased by a large shadowy creature with someone else who I felt I had to save above all else The dream ended after she reached safety but as for what happenedWell now My Avatar is a Doctor Who Clockwork Creature I always liked this monster because It is just a worker trying to do it's job kind of st Thanks for your reply I appreciate all the ...   \n",
              "\n",
              "      category  \n",
              "0            0  \n",
              "1            1  \n",
              "2            1  \n",
              "3            0  \n",
              "4            0  \n",
              "...        ...  \n",
              "8670         1  \n",
              "8671         1  \n",
              "8672         1  \n",
              "8673         1  \n",
              "8674         1  \n",
              "\n",
              "[8675 rows x 3 columns]"
            ]
          },
          "execution_count": 77,
          "metadata": {},
          "output_type": "execute_result"
        }
      ],
      "source": [
        "mb_J_P"
      ]
    },
    {
      "cell_type": "code",
      "execution_count": null,
      "metadata": {
        "id": "KPyl6aTvlSVw"
      },
      "outputs": [],
      "source": [
        "data_16 = mb.loc[:,'posts']\n",
        "\n",
        "data_I_E = mb_I_E.loc[:,'posts']\n",
        "\n",
        "data_N_S = mb_N_S.loc[:,'posts']\n",
        "\n",
        "data_F_T = mb_F_T.loc[:,'posts']\n",
        "\n",
        "data_J_P = mb_J_P.loc[:,'posts']"
      ]
    },
    {
      "cell_type": "code",
      "execution_count": null,
      "metadata": {
        "colab": {
          "base_uri": "https://localhost:8080/"
        },
        "id": "th2wXJNklSXg",
        "outputId": "cb1d524e-f671-4678-c193-c3c185bf23e8"
      },
      "outputs": [
        {
          "data": {
            "text/plain": [
              "(8675, 5000)"
            ]
          },
          "execution_count": 79,
          "metadata": {},
          "output_type": "execute_result"
        }
      ],
      "source": [
        "from sklearn.feature_extraction.text import CountVectorizer\n",
        "\n",
        "vect_16 = CountVectorizer(max_features=5000, binary=True, lowercase=True, stop_words='english')\n",
        "X_16 = vect_16.fit_transform(data_16)\n",
        "\n",
        "\n",
        "vect_I_E = CountVectorizer(max_features=5000, binary=True, lowercase=True, stop_words='english')\n",
        "X_I_E = vect_I_E.fit_transform(data_I_E)\n",
        "\n",
        "\n",
        "\n",
        "vect_N_S = CountVectorizer(max_features=5000, binary=True, lowercase=True, stop_words='english')\n",
        "X_N_S = vect_N_S.fit_transform(data_N_S)\n",
        "\n",
        "\n",
        "vect_F_T = CountVectorizer(max_features=5000, binary=True, lowercase=True, stop_words='english')\n",
        "X_F_T = vect_F_T.fit_transform(data_F_T)\n",
        "\n",
        "\n",
        "vect_J_P = CountVectorizer(max_features=5000, binary=True, lowercase=True, stop_words='english')\n",
        "X_J_P = vect_J_P.fit_transform(data_J_P)\n",
        "X_J_P.shape"
      ]
    },
    {
      "cell_type": "code",
      "execution_count": null,
      "metadata": {
        "id": "kDvg2eJzlSZ2"
      },
      "outputs": [],
      "source": [
        "X_16 = X_16.todense()\n",
        "\n",
        "X_I_E = X_I_E.todense()\n",
        "\n",
        "X_N_S = X_N_S.todense()\n",
        "\n",
        "X_F_T = X_F_T.todense()\n",
        "\n",
        "X_J_P = X_J_P.todense()"
      ]
    },
    {
      "cell_type": "markdown",
      "metadata": {
        "id": "PiWwVZDKoXdc"
      },
      "source": [
        "Dimensions for our parameters"
      ]
    },
    {
      "cell_type": "code",
      "execution_count": null,
      "metadata": {
        "id": "511M-6vBlScp"
      },
      "outputs": [],
      "source": [
        "V = 5000 # number of features/words\n",
        "K_16 = 16 #number of topics\n",
        "K_2 = 2 #number of topics\n",
        "N = 8675 #number of documents"
      ]
    },
    {
      "cell_type": "code",
      "execution_count": null,
      "metadata": {
        "id": "mCKPLQmZln6I"
      },
      "outputs": [],
      "source": [
        "\n",
        "theta_16 = np.zeros((N, K_16)) # topic probabilities per document\n",
        "phi_16 = np.zeros((K_16, V))  # word probabilities per topic\n",
        "Z_16 = np.zeros((N, V, K_16)) # hidden vars: distributions over topics associated with observed words\n",
        "\n",
        "theta_I_E = np.zeros((N, K_2))\n",
        "phi_I_E = np.zeros((K_2, V)) \n",
        "Z_I_E = np.zeros((N, V, K_2))\n",
        "\n",
        "theta_N_S = np.zeros((N, K_2))\n",
        "phi_N_S = np.zeros((K_2, V)) \n",
        "Z_N_S = np.zeros((N, V, K_2))\n",
        "\n",
        "theta_F_T = np.zeros((N, K_2))\n",
        "phi_F_T = np.zeros((K_2, V)) \n",
        "Z_F_T = np.zeros((N, V, K_2))\n",
        "\n",
        "theta_J_P = np.zeros((N, K_2))\n",
        "phi_J_P = np.zeros((K_2, V)) \n",
        "Z_J_P = np.zeros((N, V, K_2))"
      ]
    },
    {
      "cell_type": "code",
      "execution_count": null,
      "metadata": {
        "id": "58vLgvO2loEZ"
      },
      "outputs": [],
      "source": [
        "def make_dirichlet_rows(m, scale):\n",
        " \n",
        "  dims = m.shape[-1]\n",
        "  for row_idx in range(m.shape[0]):\n",
        "      r = np.random.dirichlet(np.ones(dims)/scale, size=1)\n",
        "      m[row_idx,:] = r"
      ]
    },
    {
      "cell_type": "code",
      "execution_count": null,
      "metadata": {
        "id": "PwXL5oqgloHk"
      },
      "outputs": [],
      "source": [
        "make_dirichlet_rows(phi_16, scale=1)\n",
        "\n",
        "make_dirichlet_rows(phi_I_E, scale=1)\n",
        "\n",
        "make_dirichlet_rows(phi_N_S, scale=1)\n",
        "\n",
        "make_dirichlet_rows(phi_F_T, scale=1)\n",
        "\n",
        "make_dirichlet_rows(phi_J_P, scale=1)"
      ]
    },
    {
      "cell_type": "code",
      "execution_count": null,
      "metadata": {
        "id": "jxUeWuiGloKa"
      },
      "outputs": [],
      "source": [
        "make_dirichlet_rows(theta_16, scale=1)\n",
        "\n",
        "make_dirichlet_rows(theta_I_E, scale=1)\n",
        "\n",
        "make_dirichlet_rows(theta_N_S, scale=1)\n",
        "\n",
        "make_dirichlet_rows(theta_F_T, scale=1)\n",
        "\n",
        "make_dirichlet_rows(theta_J_P, scale=1)"
      ]
    },
    {
      "cell_type": "code",
      "execution_count": null,
      "metadata": {
        "id": "9Kz6p1WLloNf"
      },
      "outputs": [],
      "source": [
        "def param_init(i_theta, i_phi, i_Z, K):\n",
        "    i_theta = np.zeros((N, K))\n",
        "    i_phi = np.zeros((K, V))\n",
        "    i_Z = np.zeros((N, V, K))\n",
        "    \n",
        "    make_dirichlet_rows(i_theta, scale = 1)\n",
        "    make_dirichlet_rows(i_phi, scale = 0.1)\n",
        "    \n",
        "    return i_theta, i_phi, i_Z"
      ]
    },
    {
      "cell_type": "code",
      "execution_count": null,
      "metadata": {
        "id": "nlr7lPeIlzur"
      },
      "outputs": [],
      "source": [
        "def e_step(i_theta, i_phi, i_Z, i_X):\n",
        "    for i in range(N):\n",
        "        for w in i_X[i].nonzero()[1]:\n",
        "            topic_scores = i_theta[i,:] * i_phi[:,w]\n",
        "            i_Z[i,w,:] = topic_scores / np.sum(topic_scores)\n",
        "    print(\"e-step complete!\")"
      ]
    },
    {
      "cell_type": "code",
      "execution_count": null,
      "metadata": {
        "id": "RgnpZBRslzxn"
      },
      "outputs": [],
      "source": [
        "def m_step(i_theta, i_phi, i_Z, i_X, K):\n",
        "    for k in range(K):\n",
        "        N_kz = np.sum(i_Z[:,:,k])\n",
        "        for w in range(V):\n",
        "            i_phi[k,w] = np.sum(i_Z[:,w,k]) / N_kz\n",
        "        for i in range(N):\n",
        "            z_k = len(i_X[i].nonzero()[1]) \n",
        "            i_theta[i, k] = np.sum(i_Z[i,:,k]) / z_k\n",
        "            \n",
        "    print(\"m-step complete!\")"
      ]
    },
    {
      "cell_type": "code",
      "execution_count": null,
      "metadata": {
        "id": "zA7EYlBLlz0Q"
      },
      "outputs": [],
      "source": [
        "def fit(i_theta, i_phi, i_Z, i_X, K, iters=5):\n",
        "    param_init(i_theta, i_phi, i_Z, K)\n",
        "    for iter in range(iters):\n",
        "        print(iter)\n",
        "        e_step(i_theta, i_phi, i_Z, i_X)\n",
        "        m_step(i_theta, i_phi, i_Z, i_X, K)"
      ]
    },
    {
      "cell_type": "code",
      "execution_count": null,
      "metadata": {
        "colab": {
          "base_uri": "https://localhost:8080/"
        },
        "id": "ClSQ-igdlz2z",
        "outputId": "02bf9f40-4ccc-4c32-c0fd-01153e39f1fb"
      },
      "outputs": [
        {
          "name": "stdout",
          "output_type": "stream",
          "text": [
            "0\n",
            "e-step complete!\n"
          ]
        },
        {
          "name": "stderr",
          "output_type": "stream",
          "text": [
            "/usr/local/lib/python3.7/dist-packages/ipykernel_launcher.py:8: RuntimeWarning: invalid value encountered in double_scalars\n",
            "  \n"
          ]
        },
        {
          "name": "stdout",
          "output_type": "stream",
          "text": [
            "m-step complete!\n",
            "1\n",
            "e-step complete!\n",
            "m-step complete!\n",
            "2\n",
            "e-step complete!\n",
            "m-step complete!\n",
            "3\n",
            "e-step complete!\n",
            "m-step complete!\n",
            "4\n",
            "e-step complete!\n",
            "m-step complete!\n",
            "5\n",
            "e-step complete!\n",
            "m-step complete!\n",
            "6\n",
            "e-step complete!\n",
            "m-step complete!\n",
            "7\n",
            "e-step complete!\n",
            "m-step complete!\n",
            "8\n",
            "e-step complete!\n",
            "m-step complete!\n",
            "9\n",
            "e-step complete!\n",
            "m-step complete!\n",
            "10\n",
            "e-step complete!\n",
            "m-step complete!\n",
            "11\n",
            "e-step complete!\n",
            "m-step complete!\n",
            "12\n",
            "e-step complete!\n",
            "m-step complete!\n",
            "13\n",
            "e-step complete!\n",
            "m-step complete!\n",
            "14\n",
            "e-step complete!\n",
            "m-step complete!\n"
          ]
        }
      ],
      "source": [
        "#fit for all 16 personalities\n",
        "fit(theta_16, phi_16, Z_16, X_16, K_16, iters = 15)"
      ]
    },
    {
      "cell_type": "code",
      "execution_count": null,
      "metadata": {
        "colab": {
          "base_uri": "https://localhost:8080/"
        },
        "id": "sjWl0nmAmHMb",
        "outputId": "d27d19d5-a0f0-47fb-c28f-8c50f1a57735"
      },
      "outputs": [
        {
          "name": "stdout",
          "output_type": "stream",
          "text": [
            "0\n",
            "e-step complete!\n"
          ]
        },
        {
          "name": "stderr",
          "output_type": "stream",
          "text": [
            "/usr/local/lib/python3.7/dist-packages/ipykernel_launcher.py:8: RuntimeWarning: invalid value encountered in double_scalars\n",
            "  \n"
          ]
        },
        {
          "name": "stdout",
          "output_type": "stream",
          "text": [
            "m-step complete!\n",
            "1\n",
            "e-step complete!\n",
            "m-step complete!\n",
            "2\n",
            "e-step complete!\n",
            "m-step complete!\n",
            "3\n",
            "e-step complete!\n",
            "m-step complete!\n",
            "4\n",
            "e-step complete!\n",
            "m-step complete!\n",
            "5\n",
            "e-step complete!\n",
            "m-step complete!\n",
            "6\n",
            "e-step complete!\n",
            "m-step complete!\n",
            "7\n",
            "e-step complete!\n",
            "m-step complete!\n",
            "8\n",
            "e-step complete!\n",
            "m-step complete!\n",
            "9\n",
            "e-step complete!\n",
            "m-step complete!\n",
            "10\n",
            "e-step complete!\n",
            "m-step complete!\n",
            "11\n",
            "e-step complete!\n",
            "m-step complete!\n",
            "12\n",
            "e-step complete!\n",
            "m-step complete!\n",
            "13\n",
            "e-step complete!\n",
            "m-step complete!\n",
            "14\n",
            "e-step complete!\n",
            "m-step complete!\n"
          ]
        }
      ],
      "source": [
        "#fit for I v E\n",
        "fit(theta_I_E, phi_I_E, Z_I_E, X_I_E, K_2, iters = 15)"
      ]
    },
    {
      "cell_type": "code",
      "execution_count": null,
      "metadata": {
        "colab": {
          "base_uri": "https://localhost:8080/"
        },
        "id": "6QFgkhW_mHPC",
        "outputId": "cc846390-35f9-4682-e96c-7fcc4a25388f"
      },
      "outputs": [
        {
          "name": "stdout",
          "output_type": "stream",
          "text": [
            "0\n",
            "e-step complete!\n"
          ]
        },
        {
          "name": "stderr",
          "output_type": "stream",
          "text": [
            "/usr/local/lib/python3.7/dist-packages/ipykernel_launcher.py:8: RuntimeWarning: invalid value encountered in double_scalars\n",
            "  \n"
          ]
        },
        {
          "name": "stdout",
          "output_type": "stream",
          "text": [
            "m-step complete!\n",
            "1\n",
            "e-step complete!\n",
            "m-step complete!\n",
            "2\n",
            "e-step complete!\n",
            "m-step complete!\n",
            "3\n",
            "e-step complete!\n",
            "m-step complete!\n",
            "4\n",
            "e-step complete!\n",
            "m-step complete!\n",
            "5\n",
            "e-step complete!\n",
            "m-step complete!\n",
            "6\n",
            "e-step complete!\n",
            "m-step complete!\n",
            "7\n",
            "e-step complete!\n",
            "m-step complete!\n",
            "8\n",
            "e-step complete!\n",
            "m-step complete!\n",
            "9\n",
            "e-step complete!\n",
            "m-step complete!\n",
            "10\n",
            "e-step complete!\n",
            "m-step complete!\n",
            "11\n",
            "e-step complete!\n",
            "m-step complete!\n",
            "12\n",
            "e-step complete!\n",
            "m-step complete!\n",
            "13\n",
            "e-step complete!\n",
            "m-step complete!\n",
            "14\n",
            "e-step complete!\n",
            "m-step complete!\n"
          ]
        }
      ],
      "source": [
        "#fit for N v S\n",
        "fit(theta_N_S, phi_N_S, Z_N_S, X_N_S, K_2, iters = 15)"
      ]
    },
    {
      "cell_type": "code",
      "execution_count": null,
      "metadata": {
        "colab": {
          "base_uri": "https://localhost:8080/"
        },
        "id": "6Frwjs8JmHRs",
        "outputId": "a1b1e8bc-a8ea-45fa-babf-7a42e464dabc"
      },
      "outputs": [
        {
          "name": "stdout",
          "output_type": "stream",
          "text": [
            "0\n",
            "e-step complete!\n"
          ]
        },
        {
          "name": "stderr",
          "output_type": "stream",
          "text": [
            "/usr/local/lib/python3.7/dist-packages/ipykernel_launcher.py:8: RuntimeWarning: invalid value encountered in double_scalars\n",
            "  \n"
          ]
        },
        {
          "name": "stdout",
          "output_type": "stream",
          "text": [
            "m-step complete!\n",
            "1\n",
            "e-step complete!\n",
            "m-step complete!\n",
            "2\n",
            "e-step complete!\n",
            "m-step complete!\n",
            "3\n",
            "e-step complete!\n",
            "m-step complete!\n",
            "4\n",
            "e-step complete!\n",
            "m-step complete!\n",
            "5\n",
            "e-step complete!\n",
            "m-step complete!\n",
            "6\n",
            "e-step complete!\n",
            "m-step complete!\n",
            "7\n",
            "e-step complete!\n",
            "m-step complete!\n",
            "8\n",
            "e-step complete!\n",
            "m-step complete!\n",
            "9\n",
            "e-step complete!\n",
            "m-step complete!\n",
            "10\n",
            "e-step complete!\n",
            "m-step complete!\n",
            "11\n",
            "e-step complete!\n",
            "m-step complete!\n",
            "12\n",
            "e-step complete!\n",
            "m-step complete!\n",
            "13\n",
            "e-step complete!\n",
            "m-step complete!\n",
            "14\n",
            "e-step complete!\n",
            "m-step complete!\n"
          ]
        }
      ],
      "source": [
        "#fit for F v T\n",
        "fit(theta_F_T, phi_F_T, Z_F_T, X_F_T, K_2, iters = 15)"
      ]
    },
    {
      "cell_type": "code",
      "execution_count": null,
      "metadata": {
        "colab": {
          "base_uri": "https://localhost:8080/"
        },
        "id": "7sFTDdrqmHT_",
        "outputId": "3b1f2e8e-d11f-4304-cbe8-7fb4dfc0adf6"
      },
      "outputs": [
        {
          "name": "stdout",
          "output_type": "stream",
          "text": [
            "0\n",
            "e-step complete!\n"
          ]
        },
        {
          "name": "stderr",
          "output_type": "stream",
          "text": [
            "/usr/local/lib/python3.7/dist-packages/ipykernel_launcher.py:8: RuntimeWarning: invalid value encountered in double_scalars\n",
            "  \n"
          ]
        },
        {
          "name": "stdout",
          "output_type": "stream",
          "text": [
            "m-step complete!\n",
            "1\n",
            "e-step complete!\n",
            "m-step complete!\n",
            "2\n",
            "e-step complete!\n",
            "m-step complete!\n",
            "3\n",
            "e-step complete!\n",
            "m-step complete!\n",
            "4\n",
            "e-step complete!\n",
            "m-step complete!\n",
            "5\n",
            "e-step complete!\n",
            "m-step complete!\n",
            "6\n",
            "e-step complete!\n",
            "m-step complete!\n",
            "7\n",
            "e-step complete!\n",
            "m-step complete!\n",
            "8\n",
            "e-step complete!\n",
            "m-step complete!\n",
            "9\n",
            "e-step complete!\n",
            "m-step complete!\n",
            "10\n",
            "e-step complete!\n",
            "m-step complete!\n",
            "11\n",
            "e-step complete!\n",
            "m-step complete!\n",
            "12\n",
            "e-step complete!\n",
            "m-step complete!\n",
            "13\n",
            "e-step complete!\n",
            "m-step complete!\n",
            "14\n",
            "e-step complete!\n",
            "m-step complete!\n"
          ]
        }
      ],
      "source": [
        "#fit for J v P\n",
        "fit(theta_J_P, phi_J_P, Z_J_P, X_J_P, K_2, iters = 15)"
      ]
    },
    {
      "cell_type": "markdown",
      "metadata": {
        "id": "d0ghyJfppM96"
      },
      "source": [
        "Predictions!"
      ]
    },
    {
      "cell_type": "code",
      "execution_count": null,
      "metadata": {
        "id": "EBqHhHFTmHXP"
      },
      "outputs": [],
      "source": [
        "y_hat_16 = [np.argmax(theta_16[i,:]) for i in range(N)]\n",
        "\n",
        "y_hat_I_E = [np.argmax(theta_I_E[i,:]) for i in range(N)]\n",
        "\n",
        "y_hat_N_S = [np.argmax(theta_N_S[i,:]) for i in range(N)]\n",
        "\n",
        "y_hat_F_T = [np.argmax(theta_F_T[i,:]) for i in range(N)]\n",
        "\n",
        "y_hat_J_P = [np.argmax(theta_J_P[i,:]) for i in range(N)]"
      ]
    },
    {
      "cell_type": "code",
      "execution_count": null,
      "metadata": {
        "colab": {
          "base_uri": "https://localhost:8080/"
        },
        "id": "_DTMKxhWmdm8",
        "outputId": "05601aeb-9b8d-4f42-d0d5-b42455d61814"
      },
      "outputs": [
        {
          "name": "stdout",
          "output_type": "stream",
          "text": [
            "16 PERSONALITIES REPORT\n",
            "              precision    recall  f1-score   support\n",
            "\n",
            "           0       0.15      0.06      0.09      1470\n",
            "           1       0.10      0.09      0.10       685\n",
            "           2       0.17      0.07      0.10      1304\n",
            "           3       0.13      0.07      0.09      1091\n",
            "           4       0.03      0.06      0.04       231\n",
            "           5       0.03      0.08      0.04       190\n",
            "           6       0.19      0.06      0.09      1832\n",
            "           7       0.09      0.07      0.08       675\n",
            "           8       0.03      0.04      0.03       271\n",
            "           9       0.02      0.04      0.03       337\n",
            "          10       0.02      0.06      0.03       166\n",
            "          11       0.04      0.10      0.06       205\n",
            "          12       0.01      0.06      0.02        89\n",
            "          13       0.01      0.08      0.01        48\n",
            "          14       0.00      0.05      0.01        39\n",
            "          15       0.00      0.05      0.01        42\n",
            "\n",
            "    accuracy                           0.07      8675\n",
            "   macro avg       0.06      0.07      0.05      8675\n",
            "weighted avg       0.13      0.07      0.08      8675\n",
            "\n"
          ]
        }
      ],
      "source": [
        "from sklearn.metrics import classification_report\n",
        "\n",
        "print(\"16 PERSONALITIES REPORT\")\n",
        "print(classification_report(mb.category, y_hat_16))"
      ]
    },
    {
      "cell_type": "code",
      "execution_count": null,
      "metadata": {
        "colab": {
          "base_uri": "https://localhost:8080/"
        },
        "id": "SeObPraNmHZP",
        "outputId": "5874d73f-18aa-4b8a-82b7-a496be066e46"
      },
      "outputs": [
        {
          "name": "stdout",
          "output_type": "stream",
          "text": [
            "I V. E REPORT\n",
            "              precision    recall  f1-score   support\n",
            "\n",
            "           0       0.77      0.50      0.61      6676\n",
            "           1       0.23      0.49      0.31      1999\n",
            "\n",
            "    accuracy                           0.50      8675\n",
            "   macro avg       0.50      0.50      0.46      8675\n",
            "weighted avg       0.64      0.50      0.54      8675\n",
            "\n"
          ]
        }
      ],
      "source": [
        "print(\"I V. E REPORT\")\n",
        "print(classification_report(mb_I_E.category, y_hat_I_E))\n"
      ]
    },
    {
      "cell_type": "code",
      "execution_count": null,
      "metadata": {
        "colab": {
          "base_uri": "https://localhost:8080/"
        },
        "id": "AWntEFiulz5P",
        "outputId": "0288452b-676a-4a7a-c787-6c39f29493a5"
      },
      "outputs": [
        {
          "name": "stdout",
          "output_type": "stream",
          "text": [
            "N V. S REPORT\n",
            "              precision    recall  f1-score   support\n",
            "\n",
            "           0       0.87      0.50      0.64      7478\n",
            "           1       0.15      0.53      0.23      1197\n",
            "\n",
            "    accuracy                           0.51      8675\n",
            "   macro avg       0.51      0.52      0.43      8675\n",
            "weighted avg       0.77      0.51      0.58      8675\n",
            "\n"
          ]
        }
      ],
      "source": [
        "print(\"N V. S REPORT\")\n",
        "print(classification_report(mb_N_S.category, y_hat_N_S))"
      ]
    },
    {
      "cell_type": "code",
      "execution_count": null,
      "metadata": {
        "colab": {
          "base_uri": "https://localhost:8080/"
        },
        "id": "nkSF505VloRO",
        "outputId": "c1e505d8-275f-4015-8b77-549bdc66ee38"
      },
      "outputs": [
        {
          "name": "stdout",
          "output_type": "stream",
          "text": [
            "F V. T REPORT\n",
            "              precision    recall  f1-score   support\n",
            "\n",
            "           0       0.50      0.45      0.48      4694\n",
            "           1       0.42      0.47      0.44      3981\n",
            "\n",
            "    accuracy                           0.46      8675\n",
            "   macro avg       0.46      0.46      0.46      8675\n",
            "weighted avg       0.46      0.46      0.46      8675\n",
            "\n"
          ]
        }
      ],
      "source": [
        "print(\"F V. T REPORT\")\n",
        "print(classification_report(mb_F_T.category, y_hat_F_T))"
      ]
    },
    {
      "cell_type": "code",
      "execution_count": null,
      "metadata": {
        "colab": {
          "base_uri": "https://localhost:8080/"
        },
        "id": "2gC4KKE6mdkS",
        "outputId": "01f585a9-1080-4599-8a87-f2cc55d73241"
      },
      "outputs": [
        {
          "name": "stdout",
          "output_type": "stream",
          "text": [
            "J V. P REPORT\n",
            "              precision    recall  f1-score   support\n",
            "\n",
            "           0       0.40      0.50      0.44      3434\n",
            "           1       0.61      0.51      0.55      5241\n",
            "\n",
            "    accuracy                           0.50      8675\n",
            "   macro avg       0.50      0.50      0.50      8675\n",
            "weighted avg       0.52      0.50      0.51      8675\n",
            "\n"
          ]
        }
      ],
      "source": [
        "print(\"J V. P REPORT\")\n",
        "print(classification_report(mb_J_P.category, y_hat_J_P))"
      ]
    },
    {
      "cell_type": "code",
      "execution_count": null,
      "metadata": {
        "id": "sk8LwZFzmdps"
      },
      "outputs": [],
      "source": [
        "def top_words(vectorizer, i_phi, k, data_frame, m=20):\n",
        "    top_word_indices = np.argsort(i_phi[k,:])[-m:]\n",
        "    \n",
        "    top_words = [vectorizer.get_feature_names_out()[idx] for idx in top_word_indices]\n",
        "    \n",
        "    cat_list = data_frame.type.unique().tolist()\n",
        "    \n",
        "    print(\"Here are the top {} words for the '{}' personality:\".format(m, cat_list[k]))\n",
        "    print(top_words)"
      ]
    },
    {
      "cell_type": "code",
      "execution_count": null,
      "metadata": {
        "id": "1TG_zzownWbK"
      },
      "outputs": [],
      "source": [
        "def get_personality_mixture_data(i_theta, doc_num, data_frame):\n",
        "    doc_row = i_theta[doc_num]\n",
        "    \n",
        "    print(\"Document type:\")\n",
        "    print(data_frame.loc[doc_num, 'type'])\n",
        "    print('Percentage of Personality mixtures:')\n",
        "    cat_list = data_frame.type.unique().tolist()\n",
        "    cats = len(cat_list)\n",
        "    \n",
        "    for i in range(cats):\n",
        "        print('{0}: {1}%'.format(cat_list[i], (doc_row[i] * 100)))"
      ]
    },
    {
      "cell_type": "markdown",
      "metadata": {
        "id": "l-VgPCsppP6W"
      },
      "source": [
        "Mixture data!"
      ]
    },
    {
      "cell_type": "code",
      "execution_count": null,
      "metadata": {
        "colab": {
          "base_uri": "https://localhost:8080/"
        },
        "id": "ENGum9zCnWej",
        "outputId": "73d5912e-ca69-4d74-a6ec-a4927c60c55b"
      },
      "outputs": [
        {
          "name": "stdout",
          "output_type": "stream",
          "text": [
            "Document type:\n",
            "INTP\n",
            "Percentage of Personality mixtures:\n",
            "INFJ: 4.11524194388917%\n",
            "ENTP: 0.8490583809101209%\n",
            "INTP: 8.654900882980073%\n",
            "INTJ: 16.327029396806722%\n",
            "ENTJ: 4.914057509245255%\n",
            "ENFJ: 14.83167097024076%\n",
            "INFP: 5.954649100858942%\n",
            "ENFP: 5.257788154377346%\n",
            "ISFP: 3.493182669252658%\n",
            "ISTP: 12.777400471488543%\n",
            "ISFJ: 1.7242716065167534%\n",
            "ISTJ: 1.9953908313293787%\n",
            "ESTP: 4.761958950548421%\n",
            "ESFP: 7.407731268681466%\n",
            "ESTJ: 6.3906340376215525%\n",
            "ESFJ: 0.5450338252528384%\n"
          ]
        }
      ],
      "source": [
        "get_personality_mixture_data(theta_16, 9, mb)"
      ]
    },
    {
      "cell_type": "code",
      "execution_count": null,
      "metadata": {
        "colab": {
          "base_uri": "https://localhost:8080/"
        },
        "id": "ifc0CFUhnWhe",
        "outputId": "f9c4fc39-1d2c-4b69-8a36-d464acef37f9"
      },
      "outputs": [
        {
          "name": "stdout",
          "output_type": "stream",
          "text": [
            "Document type:\n",
            "P\n",
            "Percentage of Personality mixtures:\n",
            "J: 51.53999456890315%\n",
            "P: 48.46000543109685%\n"
          ]
        }
      ],
      "source": [
        "get_personality_mixture_data(theta_J_P, 9, mb_J_P)"
      ]
    },
    {
      "cell_type": "code",
      "execution_count": null,
      "metadata": {
        "colab": {
          "base_uri": "https://localhost:8080/"
        },
        "id": "YkfkEHQne1jy",
        "outputId": "010a7c5a-68e0-45d9-ce1e-d2c8b7980e6a"
      },
      "outputs": [
        {
          "name": "stdout",
          "output_type": "stream",
          "text": [
            "Document type:\n",
            "N\n",
            "Percentage of Personality mixtures:\n",
            "N: 78.29549156187639%\n",
            "S: 21.70450843812361%\n"
          ]
        }
      ],
      "source": [
        "get_personality_mixture_data(theta_N_S, 9, mb_N_S)"
      ]
    },
    {
      "cell_type": "code",
      "execution_count": null,
      "metadata": {
        "colab": {
          "base_uri": "https://localhost:8080/"
        },
        "id": "VHKpcGwWe9LF",
        "outputId": "ccad79eb-c4c8-4e8a-97dd-dff968bc9727"
      },
      "outputs": [
        {
          "name": "stdout",
          "output_type": "stream",
          "text": [
            "Document type:\n",
            "I\n",
            "Percentage of Personality mixtures:\n",
            "I: 48.43565634522946%\n",
            "E: 51.56434365477054%\n"
          ]
        }
      ],
      "source": [
        "get_personality_mixture_data(theta_I_E, 9, mb_I_E)"
      ]
    },
    {
      "cell_type": "code",
      "execution_count": null,
      "metadata": {
        "colab": {
          "base_uri": "https://localhost:8080/"
        },
        "id": "-KLv1QMke9T6",
        "outputId": "9d857b50-048c-44de-d30c-1a74ad34bda4"
      },
      "outputs": [
        {
          "name": "stdout",
          "output_type": "stream",
          "text": [
            "Document type:\n",
            "T\n",
            "Percentage of Personality mixtures:\n",
            "F: 50.02299203527173%\n",
            "T: 49.977007964728266%\n"
          ]
        }
      ],
      "source": [
        "get_personality_mixture_data(theta_F_T, 9, mb_F_T)"
      ]
    },
    {
      "cell_type": "markdown",
      "metadata": {
        "id": "AEmObMEXpUSN"
      },
      "source": [
        "Top 10 words for certain categories"
      ]
    },
    {
      "cell_type": "code",
      "execution_count": null,
      "metadata": {
        "colab": {
          "base_uri": "https://localhost:8080/"
        },
        "id": "Iar5-EpNnmkD",
        "outputId": "175dbcfa-7687-48b8-91bd-6fc0ae99bcfa"
      },
      "outputs": [
        {
          "name": "stdout",
          "output_type": "stream",
          "text": [
            "Here are the top 20 words for the 'INTP' personality:\n",
            "['bad', 'feeling', 'idea', 'didn', 'probably', 'said', 'infj', 'kind', 'need', 'did', 'don', 'try', 'relationship', 'make', 'time', 've', 'just', 'say', 'like', 'think']\n"
          ]
        }
      ],
      "source": [
        "top_words(vect_16, phi_16, 2, mb)"
      ]
    },
    {
      "cell_type": "code",
      "execution_count": null,
      "metadata": {
        "colab": {
          "base_uri": "https://localhost:8080/"
        },
        "id": "vrbp2INEhmh3",
        "outputId": "fba7ae57-435c-4f52-82ab-c6fb3b98f78a"
      },
      "outputs": [
        {
          "name": "stdout",
          "output_type": "stream",
          "text": [
            "Here are the top 20 words for the 'INTJ' personality:\n",
            "['home', 'friend', 'understand', 'trying', 'said', 'work', 'mean', 'new', 'hate', 'mind', 'having', 'feel', 'll', 've', 'like', 'did', 'think', 'just', 'going', 'want']\n"
          ]
        }
      ],
      "source": [
        "top_words(vect_16, phi_16, 3, mb)"
      ]
    },
    {
      "cell_type": "code",
      "execution_count": null,
      "metadata": {
        "colab": {
          "base_uri": "https://localhost:8080/"
        },
        "id": "F-dsGDGxgRpa",
        "outputId": "42a6f3a1-617f-4355-d94c-ff06fa92dc1a"
      },
      "outputs": [
        {
          "name": "stdout",
          "output_type": "stream",
          "text": [
            "Here are the top 20 words for the 'ENFJ' personality:\n",
            "['said', 'understand', 'long', 'completely', 'like', 'don', 'come', 'great', 'getting', 'say', 'really', 'people', 'hard', 'got', 'right', 'time', 'makes', 'life', 'going', 'things']\n"
          ]
        }
      ],
      "source": [
        "top_words(vect_16, phi_16, 5, mb)"
      ]
    },
    {
      "cell_type": "code",
      "execution_count": null,
      "metadata": {
        "colab": {
          "base_uri": "https://localhost:8080/"
        },
        "id": "VIF4oerTnmqB",
        "outputId": "869652b3-89c9-4f1d-c8c4-5b33ff2c9d07"
      },
      "outputs": [
        {
          "name": "stdout",
          "output_type": "stream",
          "text": [
            "Here are the top 20 words for the 'F' personality:\n",
            "['things', 'lot', 'didn', 'really', 'good', 'know', 'actually', 'person', 'feel', 'life', 'thing', 'just', 'sure', 'people', 'way', 'want', 've', 'like', 'think', 'don']\n"
          ]
        }
      ],
      "source": [
        "top_words(vect_F_T, phi_F_T, 0, mb_F_T)"
      ]
    },
    {
      "cell_type": "code",
      "execution_count": null,
      "metadata": {
        "colab": {
          "base_uri": "https://localhost:8080/"
        },
        "id": "UVnGEqVcZ5BF",
        "outputId": "0c08867c-260f-4a23-db65-3ecc1ce15318"
      },
      "outputs": [
        {
          "name": "stdout",
          "output_type": "stream",
          "text": [
            "Here are the top 20 words for the 'T' personality:\n",
            "['ve', 'thought', 'way', 'll', 'love', 'feel', 'work', 'don', 'make', 'things', 'did', 'good', 'think', 'like', 'people', 'really', 'just', 'know', 'time', 'say']\n"
          ]
        }
      ],
      "source": [
        "top_words(vect_F_T, phi_F_T, 1, mb_F_T)"
      ]
    },
    {
      "cell_type": "code",
      "execution_count": null,
      "metadata": {
        "colab": {
          "base_uri": "https://localhost:8080/"
        },
        "id": "r5XSAypcguRG",
        "outputId": "ee023357-ca32-4827-f319-07a89ceebc65"
      },
      "outputs": [
        {
          "name": "stdout",
          "output_type": "stream",
          "text": [
            "Here are the top 20 words for the 'I' personality:\n",
            "['going', 'right', 'know', 'things', 'way', 'type', 'kind', 'make', 'love', 'lot', 'good', 'day', 'think', 'say', 'time', 'just', 'don', 'like', 've', 'people']\n"
          ]
        }
      ],
      "source": [
        "top_words(vect_I_E, phi_I_E, 0, mb_I_E)"
      ]
    },
    {
      "cell_type": "code",
      "execution_count": null,
      "metadata": {
        "colab": {
          "base_uri": "https://localhost:8080/"
        },
        "id": "8igj1XzHguWx",
        "outputId": "1e89664c-d85d-44fd-cc9b-b416119e41ed"
      },
      "outputs": [
        {
          "name": "stdout",
          "output_type": "stream",
          "text": [
            "Here are the top 20 words for the 'E' personality:\n",
            "['love', 'mean', 'say', 'life', 'make', 'best', 'good', 'people', 'things', 'way', 'time', 'want', 'don', 'actually', 'feel', 'like', 'just', 'think', 'really', 'know']\n"
          ]
        }
      ],
      "source": [
        "top_words(vect_I_E, phi_I_E, 1, mb_I_E)"
      ]
    },
    {
      "cell_type": "markdown",
      "metadata": {
        "id": "2ZFHPc8djAE8"
      },
      "source": [
        "#LSTM \n",
        "\n",
        "Using an LSTM to predict MBTI types!"
      ]
    },
    {
      "cell_type": "code",
      "execution_count": null,
      "metadata": {
        "colab": {
          "base_uri": "https://localhost:8080/"
        },
        "id": "6WZAvTIKrFa5",
        "outputId": "b386f5c9-3b40-487c-e20b-628bb19a4c93"
      },
      "outputs": [
        {
          "name": "stdout",
          "output_type": "stream",
          "text": [
            "Requirement already satisfied: fastai in /usr/local/lib/python3.7/dist-packages (2.6.0)\n",
            "Requirement already satisfied: scikit-learn in /usr/local/lib/python3.7/dist-packages (from fastai) (1.0.2)\n",
            "Requirement already satisfied: scipy in /usr/local/lib/python3.7/dist-packages (from fastai) (1.4.1)\n",
            "Requirement already satisfied: fastdownload<2,>=0.0.5 in /usr/local/lib/python3.7/dist-packages (from fastai) (0.0.5)\n",
            "Requirement already satisfied: fastcore<1.5,>=1.3.27 in /usr/local/lib/python3.7/dist-packages (from fastai) (1.4.2)\n",
            "Requirement already satisfied: pip in /usr/local/lib/python3.7/dist-packages (from fastai) (21.1.3)\n",
            "Requirement already satisfied: matplotlib in /usr/local/lib/python3.7/dist-packages (from fastai) (3.2.2)\n",
            "Requirement already satisfied: fastprogress>=0.2.4 in /usr/local/lib/python3.7/dist-packages (from fastai) (1.0.2)\n",
            "Requirement already satisfied: pandas in /usr/local/lib/python3.7/dist-packages (from fastai) (1.3.5)\n",
            "Requirement already satisfied: torch<1.12,>=1.7.0 in /usr/local/lib/python3.7/dist-packages (from fastai) (1.11.0+cu113)\n",
            "Requirement already satisfied: torchvision>=0.8.2 in /usr/local/lib/python3.7/dist-packages (from fastai) (0.12.0+cu113)\n",
            "Requirement already satisfied: packaging in /usr/local/lib/python3.7/dist-packages (from fastai) (21.3)\n",
            "Requirement already satisfied: pyyaml in /usr/local/lib/python3.7/dist-packages (from fastai) (3.13)\n",
            "Requirement already satisfied: pillow>6.0.0 in /usr/local/lib/python3.7/dist-packages (from fastai) (7.1.2)\n",
            "Requirement already satisfied: requests in /usr/local/lib/python3.7/dist-packages (from fastai) (2.23.0)\n",
            "Requirement already satisfied: spacy<4 in /usr/local/lib/python3.7/dist-packages (from fastai) (2.2.4)\n",
            "Requirement already satisfied: srsly<1.1.0,>=1.0.2 in /usr/local/lib/python3.7/dist-packages (from spacy<4->fastai) (1.0.5)\n",
            "Requirement already satisfied: thinc==7.4.0 in /usr/local/lib/python3.7/dist-packages (from spacy<4->fastai) (7.4.0)\n",
            "Requirement already satisfied: catalogue<1.1.0,>=0.0.7 in /usr/local/lib/python3.7/dist-packages (from spacy<4->fastai) (1.0.0)\n",
            "Requirement already satisfied: blis<0.5.0,>=0.4.0 in /usr/local/lib/python3.7/dist-packages (from spacy<4->fastai) (0.4.1)\n",
            "Requirement already satisfied: preshed<3.1.0,>=3.0.2 in /usr/local/lib/python3.7/dist-packages (from spacy<4->fastai) (3.0.6)\n",
            "Requirement already satisfied: murmurhash<1.1.0,>=0.28.0 in /usr/local/lib/python3.7/dist-packages (from spacy<4->fastai) (1.0.6)\n",
            "Requirement already satisfied: tqdm<5.0.0,>=4.38.0 in /usr/local/lib/python3.7/dist-packages (from spacy<4->fastai) (4.64.0)\n",
            "Requirement already satisfied: setuptools in /usr/local/lib/python3.7/dist-packages (from spacy<4->fastai) (57.4.0)\n",
            "Requirement already satisfied: numpy>=1.15.0 in /usr/local/lib/python3.7/dist-packages (from spacy<4->fastai) (1.21.6)\n",
            "Requirement already satisfied: cymem<2.1.0,>=2.0.2 in /usr/local/lib/python3.7/dist-packages (from spacy<4->fastai) (2.0.6)\n",
            "Requirement already satisfied: plac<1.2.0,>=0.9.6 in /usr/local/lib/python3.7/dist-packages (from spacy<4->fastai) (1.1.3)\n",
            "Requirement already satisfied: wasabi<1.1.0,>=0.4.0 in /usr/local/lib/python3.7/dist-packages (from spacy<4->fastai) (0.9.1)\n",
            "Requirement already satisfied: importlib-metadata>=0.20 in /usr/local/lib/python3.7/dist-packages (from catalogue<1.1.0,>=0.0.7->spacy<4->fastai) (4.11.3)\n",
            "Requirement already satisfied: zipp>=0.5 in /usr/local/lib/python3.7/dist-packages (from importlib-metadata>=0.20->catalogue<1.1.0,>=0.0.7->spacy<4->fastai) (3.8.0)\n",
            "Requirement already satisfied: typing-extensions>=3.6.4 in /usr/local/lib/python3.7/dist-packages (from importlib-metadata>=0.20->catalogue<1.1.0,>=0.0.7->spacy<4->fastai) (4.2.0)\n",
            "Requirement already satisfied: urllib3!=1.25.0,!=1.25.1,<1.26,>=1.21.1 in /usr/local/lib/python3.7/dist-packages (from requests->fastai) (1.24.3)\n",
            "Requirement already satisfied: chardet<4,>=3.0.2 in /usr/local/lib/python3.7/dist-packages (from requests->fastai) (3.0.4)\n",
            "Requirement already satisfied: certifi>=2017.4.17 in /usr/local/lib/python3.7/dist-packages (from requests->fastai) (2021.10.8)\n",
            "Requirement already satisfied: idna<3,>=2.5 in /usr/local/lib/python3.7/dist-packages (from requests->fastai) (2.10)\n",
            "Requirement already satisfied: pyparsing!=2.0.4,!=2.1.2,!=2.1.6,>=2.0.1 in /usr/local/lib/python3.7/dist-packages (from matplotlib->fastai) (3.0.8)\n",
            "Requirement already satisfied: python-dateutil>=2.1 in /usr/local/lib/python3.7/dist-packages (from matplotlib->fastai) (2.8.2)\n",
            "Requirement already satisfied: cycler>=0.10 in /usr/local/lib/python3.7/dist-packages (from matplotlib->fastai) (0.11.0)\n",
            "Requirement already satisfied: kiwisolver>=1.0.1 in /usr/local/lib/python3.7/dist-packages (from matplotlib->fastai) (1.4.2)\n",
            "Requirement already satisfied: six>=1.5 in /usr/local/lib/python3.7/dist-packages (from python-dateutil>=2.1->matplotlib->fastai) (1.15.0)\n",
            "Requirement already satisfied: pytz>=2017.3 in /usr/local/lib/python3.7/dist-packages (from pandas->fastai) (2022.1)\n",
            "Requirement already satisfied: threadpoolctl>=2.0.0 in /usr/local/lib/python3.7/dist-packages (from scikit-learn->fastai) (3.1.0)\n",
            "Requirement already satisfied: joblib>=0.11 in /usr/local/lib/python3.7/dist-packages (from scikit-learn->fastai) (1.1.0)\n"
          ]
        }
      ],
      "source": [
        "!pip install -U fastai"
      ]
    },
    {
      "cell_type": "code",
      "execution_count": null,
      "metadata": {
        "id": "bMx0h4kasUvu"
      },
      "outputs": [],
      "source": [
        "from fastai.text.all import *"
      ]
    },
    {
      "cell_type": "code",
      "execution_count": null,
      "metadata": {
        "colab": {
          "base_uri": "https://localhost:8080/",
          "height": 17
        },
        "id": "ht6b_jbbucci",
        "outputId": "135a5e9f-2dd5-4322-955a-5d86e5a6bade"
      },
      "outputs": [
        {
          "data": {
            "text/html": [
              "\n",
              "<style>\n",
              "    /* Turns off some styling */\n",
              "    progress {\n",
              "        /* gets rid of default border in Firefox and Opera. */\n",
              "        border: none;\n",
              "        /* Needs to be in here for Safari polyfill so background images work as expected. */\n",
              "        background-size: auto;\n",
              "    }\n",
              "    .progress-bar-interrupted, .progress-bar-interrupted::-webkit-progress-bar {\n",
              "        background: #F44336;\n",
              "    }\n",
              "</style>\n"
            ],
            "text/plain": [
              "<IPython.core.display.HTML object>"
            ]
          },
          "metadata": {},
          "output_type": "display_data"
        },
        {
          "data": {
            "text/html": [],
            "text/plain": [
              "<IPython.core.display.HTML object>"
            ]
          },
          "metadata": {},
          "output_type": "display_data"
        }
      ],
      "source": [
        "load_data = TextDataLoaders.from_csv(path=path, csv_fname='mbti_cleaned_text_2.csv', text_col='posts', label_col='type')"
      ]
    },
    {
      "cell_type": "code",
      "execution_count": null,
      "metadata": {
        "colab": {
          "base_uri": "https://localhost:8080/",
          "height": 817
        },
        "id": "5ZVYn4V1ucqe",
        "outputId": "d8300863-8842-4be6-b3fa-55e49a42f0de"
      },
      "outputs": [
        {
          "data": {
            "text/html": [
              "<table border=\"1\" class=\"dataframe\">\n",
              "  <thead>\n",
              "    <tr style=\"text-align: right;\">\n",
              "      <th></th>\n",
              "      <th>text</th>\n",
              "      <th>category</th>\n",
              "    </tr>\n",
              "  </thead>\n",
              "  <tbody>\n",
              "    <tr>\n",
              "      <th>0</th>\n",
              "      <td>xxbos ' my friends say i flirt a lot xxmaj that xxmaj i 'm probably the essence of flirting xxup lol xxmaj but i do n't really know xxmaj i 'm flirting until my friends tell me i am xxmaj and usually it happens when xxmaj i 'm comfortable xxunk and xxmaj family i just go on their xxup fb page post on their wall saying i miss them for the world to see xxmaj or xxmaj tweet them xxmaj text them probably xxmaj sometimes if it 's a group i post it on my wall andin xxmaj artist xxup infp had her issues with her family and friends but she has never been this down xxmaj when she started college her general mood has deteriorated and her selfesteem crashed with it andi currently have two online xxup infp friends that are in terrible condition right now xxmaj though both</td>\n",
              "      <td>ENFJ</td>\n",
              "    </tr>\n",
              "    <tr>\n",
              "      <th>1</th>\n",
              "      <td>xxbos ' so my love language is words of affirmation i like talking a xxunk in person talking on the phone etc xxmaj spending time is cool too but the best way for someone to show me that they care isthank you xxmaj nothing xxmaj i 've done thus far or that i do is a doormat or will result in me losing my intregrity etc haha xxmaj i 'm not trying to get him back or anything like thatmy situation is a xxunk in reading something you wrote xxup op i just thought of something xxmaj so as someone pointed out xxup intjs generally are n't quick to make decisions like xxunk as a relationship forhaha thank you xxmaj yes xxmaj i 've went over my issues already in this forum and figured out why i pushed him away and xxmaj i 've already revealed my feelings and asked</td>\n",
              "      <td>ENFP</td>\n",
              "    </tr>\n",
              "    <tr>\n",
              "      <th>2</th>\n",
              "      <td>xxbos ' ya xxmaj i 've come to learn that my best friend is actually just waiting for me to calm down instead of not standing up for himself or ignoring me xxmaj he 'll respond when he knows i 've had time to cool xxunk i actually got the low self esteem thing right away xxmaj my really close guy friend is an xxup isfp and had that problem for a really long time which is why i do nt run away from guys who have it or xxunk no i have n't talked to him since i yelled at him for calling me a stalker xxmaj and i really do nt think i could date him anymore i just really want to be friends with him i think xxmaj how do you thinkoh wow i totally want to give him a hug too xxmaj but i do nt</td>\n",
              "      <td>ESTJ</td>\n",
              "    </tr>\n",
              "    <tr>\n",
              "      <th>3</th>\n",
              "      <td>xxbos ' why not xxmaj how do girls like to be flirted with instead xxmaj honestly smile xxup that is how guys should flirt with a woman xxmaj then say something private a joke or a comment that requires you to xxunk xxup this is why i moved out of my apartment into a xxunk home a mile deep in the bush in the middle of nowhere xxmaj neighbours xxmaj no thank you xxmaj and you 're not a freak at all xxmaj hated my xxunk want to take a step back and ask why she thinks love is only love if it lasts forever in some sort of commitment xxmaj love is fluid xxmaj intangible xxmaj xxunk xxmaj you ca n't say i love you thereforei xxup love it xxmaj in the worst way xxmaj it 's like the perfect motivation to me to be told i ca n't</td>\n",
              "      <td>INFJ</td>\n",
              "    </tr>\n",
              "    <tr>\n",
              "      <th>4</th>\n",
              "      <td>xxbos ' fjs can be gregarious but not the way he is xxmaj we have extremely specific body language that he just does n't have i was raised by an xxup enfj with an xxup isfj cousin more like a sister and an xxup esfj uncle xxup ii do n't think t is the absence of emotion xxmaj but i will say enfps talk a xxup lot more like nfjs than entps do xxmaj he reminds me of how i talk too xxmaj but infjs and enfps click amazingly because we see xxunk xxmaj ni looking at past symbols is going to be focused on sensory information in a detached kind of way xxmaj typically it would be a moment when some sensory detail resonated very strongly with xxunk two seem xxup really nesi xxmaj the first two because xxmaj ni 's usually lack finesse when they 're trying to</td>\n",
              "      <td>INFJ</td>\n",
              "    </tr>\n",
              "    <tr>\n",
              "      <th>5</th>\n",
              "      <td>xxbos xxmaj i 'm not horrible at dancing but xxmaj i 'm not that good either xxmaj usually it 's easier if i dance by myself xxmaj if i have to dance with a partner there is no way that this would work i do n't dance thatthat 's so true xxmaj in elementary school i was bullied for being the nerd the one that studied etc i came from a small village and i went to high school in a big town i was a bit shy at first xxunk xxup intj xxmaj subtype xxup entj i do n't get though what it is the purpose of this subtypei guess we do eat in order i do the same i do n't like mixing different foods i try to eat as simple meals as possible with not much than to ingredients and i do n't like to mix them</td>\n",
              "      <td>INTJ</td>\n",
              "    </tr>\n",
              "    <tr>\n",
              "      <th>6</th>\n",
              "      <td>xxbos xxmaj that 's what xxmaj i 'm leaning towards to as well xxmaj at first i left a door open for xxmaj ni dom as well because there was and still is too little content to not keep the horizon of possibilities wider but xxunk xxup wanna xxup one xxmaj xxunk introvert xxmaj fe usage seems much more likely than fite xxmaj xxunk i get xxup ip vibes from him but i have no particular reasons to defend those types over any other xxunk post was it xxmaj if you remember and do n't mind sharing it of course i used to peg him as an xxup istp and by used to i mean in xxunk xxmaj then his mixtape came out and i realized howit is indeed very curious maybe because of xxrep 3 x p stereotypes and the fact that it 's typed by letters xxmaj idols</td>\n",
              "      <td>ISTP</td>\n",
              "    </tr>\n",
              "    <tr>\n",
              "      <th>7</th>\n",
              "      <td>xxbos ' my dreams are rare but fun and a little mystical too xxmaj they 're typically like a storybook or film to me and usually revolve around what i had done before i went to sleep xxmaj for example one nighter first i think your girlfriend is a little unhealthy in not really lending a listening ear to what you have to say and compromising with you on certain things xxmaj because even if what you talk toi was quiet xxmaj like almost mute throughout my childhood i never really felt like i had anything important to tell to anyone which got a lot of adults frustrated because they wanted to know how i felti honestly keep a journal of my dreams because they fascinate me xxmaj it 's only in my dreams do i feel the rawness of my emotions and not the usual numbness of it xxmaj</td>\n",
              "      <td>ISTP</td>\n",
              "    </tr>\n",
              "    <tr>\n",
              "      <th>8</th>\n",
              "      <td>xxbos ' i do n't really relate to most of it to be honest xxmaj my sensitivity to sound is really xxup really low for example my brother and mother both istjs complain about sounds all the time but i tune themwell now xxmaj i 'm the one who 's sorry for the late response but i had to take my time thinking on what to tell you i feel like the parts you 're relating to may be my xxmaj ne and my seemingly xxunk i really just meant that curiosity in learning was n't exactly typespecific since i always know one or two people in some type who like to read up on things for reasons that to me have xxunk been seeing a lot of mentions of infps being the most disliked and that there are a whole lot of hate threads but are we really the</td>\n",
              "      <td>INFP</td>\n",
              "    </tr>\n",
              "  </tbody>\n",
              "</table>"
            ],
            "text/plain": [
              "<IPython.core.display.HTML object>"
            ]
          },
          "metadata": {},
          "output_type": "display_data"
        }
      ],
      "source": [
        "load_data.show_batch()"
      ]
    },
    {
      "cell_type": "code",
      "execution_count": null,
      "metadata": {
        "id": "HM6CK3602Q7Y"
      },
      "outputs": [],
      "source": [
        "learn_data = text_classifier_learner(load_data, AWD_LSTM, drop_mult=0.5, metrics=accuracy)"
      ]
    },
    {
      "cell_type": "code",
      "execution_count": null,
      "metadata": {
        "colab": {
          "base_uri": "https://localhost:8080/",
          "height": 270
        },
        "id": "URbcAFbP2TiI",
        "outputId": "6022afe9-d23f-4691-c7cc-abeabfbbc685"
      },
      "outputs": [
        {
          "data": {
            "text/html": [
              "\n",
              "<style>\n",
              "    /* Turns off some styling */\n",
              "    progress {\n",
              "        /* gets rid of default border in Firefox and Opera. */\n",
              "        border: none;\n",
              "        /* Needs to be in here for Safari polyfill so background images work as expected. */\n",
              "        background-size: auto;\n",
              "    }\n",
              "    .progress-bar-interrupted, .progress-bar-interrupted::-webkit-progress-bar {\n",
              "        background: #F44336;\n",
              "    }\n",
              "</style>\n"
            ],
            "text/plain": [
              "<IPython.core.display.HTML object>"
            ]
          },
          "metadata": {},
          "output_type": "display_data"
        },
        {
          "data": {
            "text/html": [
              "<table border=\"1\" class=\"dataframe\">\n",
              "  <thead>\n",
              "    <tr style=\"text-align: left;\">\n",
              "      <th>epoch</th>\n",
              "      <th>train_loss</th>\n",
              "      <th>valid_loss</th>\n",
              "      <th>accuracy</th>\n",
              "      <th>time</th>\n",
              "    </tr>\n",
              "  </thead>\n",
              "  <tbody>\n",
              "    <tr>\n",
              "      <td>0</td>\n",
              "      <td>2.340707</td>\n",
              "      <td>2.113719</td>\n",
              "      <td>0.297983</td>\n",
              "      <td>02:27</td>\n",
              "    </tr>\n",
              "  </tbody>\n",
              "</table>"
            ],
            "text/plain": [
              "<IPython.core.display.HTML object>"
            ]
          },
          "metadata": {},
          "output_type": "display_data"
        },
        {
          "data": {
            "text/html": [
              "\n",
              "<style>\n",
              "    /* Turns off some styling */\n",
              "    progress {\n",
              "        /* gets rid of default border in Firefox and Opera. */\n",
              "        border: none;\n",
              "        /* Needs to be in here for Safari polyfill so background images work as expected. */\n",
              "        background-size: auto;\n",
              "    }\n",
              "    .progress-bar-interrupted, .progress-bar-interrupted::-webkit-progress-bar {\n",
              "        background: #F44336;\n",
              "    }\n",
              "</style>\n"
            ],
            "text/plain": [
              "<IPython.core.display.HTML object>"
            ]
          },
          "metadata": {},
          "output_type": "display_data"
        },
        {
          "data": {
            "text/html": [
              "<table border=\"1\" class=\"dataframe\">\n",
              "  <thead>\n",
              "    <tr style=\"text-align: left;\">\n",
              "      <th>epoch</th>\n",
              "      <th>train_loss</th>\n",
              "      <th>valid_loss</th>\n",
              "      <th>accuracy</th>\n",
              "      <th>time</th>\n",
              "    </tr>\n",
              "  </thead>\n",
              "  <tbody>\n",
              "    <tr>\n",
              "      <td>0</td>\n",
              "      <td>2.063812</td>\n",
              "      <td>2.191373</td>\n",
              "      <td>0.287608</td>\n",
              "      <td>06:47</td>\n",
              "    </tr>\n",
              "    <tr>\n",
              "      <td>1</td>\n",
              "      <td>2.006544</td>\n",
              "      <td>2.226896</td>\n",
              "      <td>0.329683</td>\n",
              "      <td>06:51</td>\n",
              "    </tr>\n",
              "    <tr>\n",
              "      <td>2</td>\n",
              "      <td>1.857190</td>\n",
              "      <td>1.941832</td>\n",
              "      <td>0.352738</td>\n",
              "      <td>06:51</td>\n",
              "    </tr>\n",
              "    <tr>\n",
              "      <td>3</td>\n",
              "      <td>1.674203</td>\n",
              "      <td>1.870096</td>\n",
              "      <td>0.380980</td>\n",
              "      <td>06:51</td>\n",
              "    </tr>\n",
              "    <tr>\n",
              "      <td>4</td>\n",
              "      <td>1.513182</td>\n",
              "      <td>1.781055</td>\n",
              "      <td>0.413833</td>\n",
              "      <td>06:51</td>\n",
              "    </tr>\n",
              "  </tbody>\n",
              "</table>"
            ],
            "text/plain": [
              "<IPython.core.display.HTML object>"
            ]
          },
          "metadata": {},
          "output_type": "display_data"
        }
      ],
      "source": [
        "learn_data.fine_tune(5, 1e-2)"
      ]
    },
    {
      "cell_type": "code",
      "execution_count": null,
      "metadata": {
        "colab": {
          "base_uri": "https://localhost:8080/",
          "height": 442
        },
        "id": "GvvzmX-12i_x",
        "outputId": "8073b7f7-ff82-420f-f52b-5bb3ec8fc2a8"
      },
      "outputs": [
        {
          "data": {
            "text/html": [
              "\n",
              "<style>\n",
              "    /* Turns off some styling */\n",
              "    progress {\n",
              "        /* gets rid of default border in Firefox and Opera. */\n",
              "        border: none;\n",
              "        /* Needs to be in here for Safari polyfill so background images work as expected. */\n",
              "        background-size: auto;\n",
              "    }\n",
              "    .progress-bar-interrupted, .progress-bar-interrupted::-webkit-progress-bar {\n",
              "        background: #F44336;\n",
              "    }\n",
              "</style>\n"
            ],
            "text/plain": [
              "<IPython.core.display.HTML object>"
            ]
          },
          "metadata": {},
          "output_type": "display_data"
        },
        {
          "data": {
            "text/html": [
              "<table border=\"1\" class=\"dataframe\">\n",
              "  <thead>\n",
              "    <tr style=\"text-align: left;\">\n",
              "      <th>epoch</th>\n",
              "      <th>train_loss</th>\n",
              "      <th>valid_loss</th>\n",
              "      <th>accuracy</th>\n",
              "      <th>time</th>\n",
              "    </tr>\n",
              "  </thead>\n",
              "  <tbody>\n",
              "    <tr>\n",
              "      <td>0</td>\n",
              "      <td>1.542524</td>\n",
              "      <td>1.943403</td>\n",
              "      <td>0.395965</td>\n",
              "      <td>02:32</td>\n",
              "    </tr>\n",
              "  </tbody>\n",
              "</table>"
            ],
            "text/plain": [
              "<IPython.core.display.HTML object>"
            ]
          },
          "metadata": {},
          "output_type": "display_data"
        },
        {
          "data": {
            "text/html": [
              "\n",
              "<style>\n",
              "    /* Turns off some styling */\n",
              "    progress {\n",
              "        /* gets rid of default border in Firefox and Opera. */\n",
              "        border: none;\n",
              "        /* Needs to be in here for Safari polyfill so background images work as expected. */\n",
              "        background-size: auto;\n",
              "    }\n",
              "    .progress-bar-interrupted, .progress-bar-interrupted::-webkit-progress-bar {\n",
              "        background: #F44336;\n",
              "    }\n",
              "</style>\n"
            ],
            "text/plain": [
              "<IPython.core.display.HTML object>"
            ]
          },
          "metadata": {},
          "output_type": "display_data"
        },
        {
          "data": {
            "text/html": [
              "\n",
              "    <div>\n",
              "      <progress value='3' class='' max='5' style='width:300px; height:20px; vertical-align: middle;'></progress>\n",
              "      60.00% [3/5 20:30<13:40]\n",
              "    </div>\n",
              "    \n",
              "<table border=\"1\" class=\"dataframe\">\n",
              "  <thead>\n",
              "    <tr style=\"text-align: left;\">\n",
              "      <th>epoch</th>\n",
              "      <th>train_loss</th>\n",
              "      <th>valid_loss</th>\n",
              "      <th>accuracy</th>\n",
              "      <th>time</th>\n",
              "    </tr>\n",
              "  </thead>\n",
              "  <tbody>\n",
              "    <tr>\n",
              "      <td>0</td>\n",
              "      <td>1.527542</td>\n",
              "      <td>2.076128</td>\n",
              "      <td>0.372911</td>\n",
              "      <td>06:47</td>\n",
              "    </tr>\n",
              "    <tr>\n",
              "      <td>1</td>\n",
              "      <td>1.499320</td>\n",
              "      <td>1.900139</td>\n",
              "      <td>0.427666</td>\n",
              "      <td>06:51</td>\n",
              "    </tr>\n",
              "    <tr>\n",
              "      <td>2</td>\n",
              "      <td>1.299778</td>\n",
              "      <td>1.722965</td>\n",
              "      <td>0.478963</td>\n",
              "      <td>06:51</td>\n",
              "    </tr>\n",
              "  </tbody>\n",
              "</table><p>\n",
              "\n",
              "    <div>\n",
              "      <progress value='41' class='' max='108' style='width:300px; height:20px; vertical-align: middle;'></progress>\n",
              "      37.96% [41/108 02:25<03:58 1.1341]\n",
              "    </div>\n",
              "    "
            ],
            "text/plain": [
              "<IPython.core.display.HTML object>"
            ]
          },
          "metadata": {},
          "output_type": "display_data"
        },
        {
          "data": {
            "text/html": [
              "<table border=\"1\" class=\"dataframe\">\n",
              "  <thead>\n",
              "    <tr style=\"text-align: left;\">\n",
              "      <th>epoch</th>\n",
              "      <th>train_loss</th>\n",
              "      <th>valid_loss</th>\n",
              "      <th>accuracy</th>\n",
              "      <th>time</th>\n",
              "    </tr>\n",
              "  </thead>\n",
              "  <tbody>\n",
              "    <tr>\n",
              "      <td>0</td>\n",
              "      <td>1.527542</td>\n",
              "      <td>2.076128</td>\n",
              "      <td>0.372911</td>\n",
              "      <td>06:47</td>\n",
              "    </tr>\n",
              "    <tr>\n",
              "      <td>1</td>\n",
              "      <td>1.499320</td>\n",
              "      <td>1.900139</td>\n",
              "      <td>0.427666</td>\n",
              "      <td>06:51</td>\n",
              "    </tr>\n",
              "    <tr>\n",
              "      <td>2</td>\n",
              "      <td>1.299778</td>\n",
              "      <td>1.722965</td>\n",
              "      <td>0.478963</td>\n",
              "      <td>06:51</td>\n",
              "    </tr>\n",
              "    <tr>\n",
              "      <td>3</td>\n",
              "      <td>1.081811</td>\n",
              "      <td>1.701506</td>\n",
              "      <td>0.497406</td>\n",
              "      <td>06:51</td>\n",
              "    </tr>\n",
              "    <tr>\n",
              "      <td>4</td>\n",
              "      <td>0.894619</td>\n",
              "      <td>1.695125</td>\n",
              "      <td>0.502594</td>\n",
              "      <td>06:51</td>\n",
              "    </tr>\n",
              "  </tbody>\n",
              "</table>"
            ],
            "text/plain": [
              "<IPython.core.display.HTML object>"
            ]
          },
          "metadata": {},
          "output_type": "display_data"
        }
      ],
      "source": [
        "learn_data.fine_tune(5, 1e-2)"
      ]
    },
    {
      "cell_type": "code",
      "execution_count": null,
      "metadata": {
        "colab": {
          "base_uri": "https://localhost:8080/",
          "height": 956
        },
        "id": "CwOAJRik2jNW",
        "outputId": "20acdfaf-5890-4c5c-d1e0-db17b311ee74"
      },
      "outputs": [
        {
          "data": {
            "text/html": [
              "\n",
              "<style>\n",
              "    /* Turns off some styling */\n",
              "    progress {\n",
              "        /* gets rid of default border in Firefox and Opera. */\n",
              "        border: none;\n",
              "        /* Needs to be in here for Safari polyfill so background images work as expected. */\n",
              "        background-size: auto;\n",
              "    }\n",
              "    .progress-bar-interrupted, .progress-bar-interrupted::-webkit-progress-bar {\n",
              "        background: #F44336;\n",
              "    }\n",
              "</style>\n"
            ],
            "text/plain": [
              "<IPython.core.display.HTML object>"
            ]
          },
          "metadata": {},
          "output_type": "display_data"
        },
        {
          "data": {
            "text/html": [],
            "text/plain": [
              "<IPython.core.display.HTML object>"
            ]
          },
          "metadata": {},
          "output_type": "display_data"
        },
        {
          "data": {
            "text/html": [
              "<table border=\"1\" class=\"dataframe\">\n",
              "  <thead>\n",
              "    <tr style=\"text-align: right;\">\n",
              "      <th></th>\n",
              "      <th>text</th>\n",
              "      <th>category</th>\n",
              "      <th>category_</th>\n",
              "    </tr>\n",
              "  </thead>\n",
              "  <tbody>\n",
              "    <tr>\n",
              "      <th>0</th>\n",
              "      <td>xxbos ' i do agree with you that book counterparts are generally smarter i just do n't think the writers are very sophisticated at writing appropriate reactions from the characters like you xxunk thoughts on xxmaj euron xxmaj greyjoy so far xxmaj i 'm thinking xxup esxp xxmaj kind of funny because xxup xxunk xxmaj ramsay xxup xxunk xxmaj joffrey xxmaj euron in the books is probably an xxup estp but i do n't know in the show he 's xxunk xxmaj allen ~ xxmaj the xxmaj flash is a solid example of an xxup enfp i think xxmaj finn is more of an xxup esfp xxmaj some would argue xxmaj leia xxmaj xxunk is an xxup entj but i do n't know if i agree with that xxmaj wonder xxmaj woman in the xxunk is an interesting thread and xxmaj i 'm glad the whole ' this character is</td>\n",
              "      <td>ISFP</td>\n",
              "      <td>ENTJ</td>\n",
              "    </tr>\n",
              "    <tr>\n",
              "      <th>1</th>\n",
              "      <td>xxbos ' have any of you struggled with confidence issues relating to your appearance i was definitely insecure about my appearance growing up and honestly i still am to a lesser extent today i actuallyi definitely feel like this xxmaj for a while now xxmaj i 've been wanting to sever ties with my friends but i just do n't know how to do it without hurting their feelings and i would feel guilty if i did thati have about friends i guess but i have n't felt close to any of them in a long time and i honestly question if i ever really did feel close to them at all xxmaj we 've been friends since we werei thought about suicide a lot xxmaj now do n't get depressed i have thought about suicide a lot in my life but it 's not because i wanna kill myself</td>\n",
              "      <td>INFP</td>\n",
              "      <td>INFP</td>\n",
              "    </tr>\n",
              "    <tr>\n",
              "      <th>2</th>\n",
              "      <td>xxbos a xxrep 3 w i was in the exact same position a couple years ago so i know how hard it is xxmaj you xxup will get back up on your feet but it might take awhile xxmaj it kills me not to have a longterm plan too i agreei scored a xxmaj not sure why it was that high because i am fundamentally ambivalent about xxmaj machiavelli xxmaj reading xxmaj the xxmaj prince it occurred to me that although xxmaj machiavelli is right about a lot of thingsto be honest i think you might be an xxup isfj xxmaj not because infjs ca n't be good with details although i do think an xxup infj would only be concerned with details because they are important to understandingi'm very aware of aesthetics but i ca n't really say i care much about my own appearance xxmaj it seems like</td>\n",
              "      <td>INFJ</td>\n",
              "      <td>ISTJ</td>\n",
              "    </tr>\n",
              "    <tr>\n",
              "      <th>3</th>\n",
              "      <td>xxbos ' hi there xxup isfj with a little bit of xxup infj experience here xxmaj first off that is one lucky xxup isfj girl because i have always found you guys to be amazing probably because my mom is an xxup infj and anthis helped me think about what might be leading him to say what he has said so thank you xxmaj also amazing that you also lived in xxmaj south xxmaj korea for a while xxmaj the country has changed a lot since theni'm twenty one and he 's twenty eight i definitely believe the issue is related to xxunk differences and not sexual compatibility xxmaj i 'm the demisexual in the relationship xxup xd he'si'm an xxup isfj who has been dating an xxup intp for almost six months now xxmaj two months back he suddenly stopped reaching out to text me first i figured he</td>\n",
              "      <td>ISFJ</td>\n",
              "      <td>INFJ</td>\n",
              "    </tr>\n",
              "    <tr>\n",
              "      <th>4</th>\n",
              "      <td>xxbos ' i am an xxup infp and that sounds way too stereotypical xxmaj and you can become who you want to be without the need to change your type xxmaj but you sound a lot like me when i was younger i am a xxunk always struggled with that i have hormonal problems and before resolving them my mom stressed me out so much taking me to doctors who did n't do anything about it just made it worse i hadthanks a lot everyone i started drinking a lot more water when i feel like craving sweet things and i feel like it diminished a bit that crave i also try to buy more healthy food like salads xxunk in xxmaj pisces xxmaj moon in xxmaj gemini xxmaj ascendant xxmaj taurus pretty much quite a mix xxmaj but i am highly emotional and watery with almost all my planets</td>\n",
              "      <td>INFP</td>\n",
              "      <td>INFP</td>\n",
              "    </tr>\n",
              "    <tr>\n",
              "      <th>5</th>\n",
              "      <td>xxbos ' anyone wondering about xxmaj night in the xxmaj woods i did n't look through all the posts here but i was considering starting a thread on it because it 's a really good game and i think the characters xxunk for fun and since xxmaj i 'm in it xxmaj betty from xxmaj xxunk online animated series is probably esxp xxmaj she 's kind of the personification of fear so it 's a little hard to type but judging from xxunk this thread because i recently realized something xxmaj okay so xxmaj i 'm an xxmaj alphys voice actress xxmaj official one of xxmaj strelok audio playing her in a musical playing her for a comic dub series etcmy xxup entp ex wanted me to be kinky but xxmaj i 'm not xxmaj like at all xxmaj i 'm not sure if it 's because xxmaj i 'm</td>\n",
              "      <td>ENFP</td>\n",
              "      <td>ENFP</td>\n",
              "    </tr>\n",
              "    <tr>\n",
              "      <th>6</th>\n",
              "      <td>xxbos ' the problem i have is that you saw a small vocal part of atheists and used it to describe most atheists xxmaj then you compared most atheists and not the extremist part to a small group of xxunk not fully seeing your reasoning here xxmaj you 're xxunk a majority of a group by the actions of a few admittedly vocal extremists among them xxmaj to go along with your xxup xxunk reference it 's likei'm in awe of people who have faith and do n't feel the need to press it on others but instead embody it xxmaj with my family xxmaj i 've seen my grandparents nod along to enough sermons about conversions andas xxmaj i 've come home for the summer and spent more time around my xxunk family xxmaj i 've found myself frustrated with the nearconstant presence of religious sermons and radio and</td>\n",
              "      <td>INTP</td>\n",
              "      <td>ENTP</td>\n",
              "    </tr>\n",
              "    <tr>\n",
              "      <th>7</th>\n",
              "      <td>xxbos ' i really did n't like xxmaj stannis on the show especially not after agreeing to let xxmaj melisandre burn his own daughter at the fucking steak xxmaj again i do n't think it was the actor 's fault but d&amp;d 's and thebut as i was saying before this show was made for an audience of strong xxmaj xxunk users xxmaj however as an xxup isfp myself i get highly irritated by the inconsistencies the meaningless rape xxunk i agree xxup tv xxmaj robert xxmaj baratheon was a decent guy just too obnoxious and not all that bright xxmaj renly was sort of on the shallow side but i did n't think he was an idiot xxmaj just not the best xxunk xxmaj robert annoyed me xxmaj he was kind of funny but he was a loud obnoxious and brash idiotic xxup estp i liked his little brother</td>\n",
              "      <td>ISFP</td>\n",
              "      <td>ISFP</td>\n",
              "    </tr>\n",
              "    <tr>\n",
              "      <th>8</th>\n",
              "      <td>xxbos ' would like xxmaj carson to be elected but i do n't think he 'll make it pass the primaries and he really does n't have much experience as a politician xxmaj he seems like a good man but at the same time xxmaj i 'm xxunk that i need to be alone every once in a while i just need time to myself and i do n't always feel like answering the phone xxmaj it stresses me out sometimes xxmaj also i like to help people but ieh politics are gross and ugly xxmaj but i probably have a conservative leaning in most of my views i hate the government getting too involved in anythingthe only thing xxmaj i 've ever heard about my voice is that it 's soft and high pitched and i was also told that i have a sweet and pleasant sounding voiceit 's</td>\n",
              "      <td>INFJ</td>\n",
              "      <td>INFJ</td>\n",
              "    </tr>\n",
              "  </tbody>\n",
              "</table>"
            ],
            "text/plain": [
              "<IPython.core.display.HTML object>"
            ]
          },
          "metadata": {},
          "output_type": "display_data"
        }
      ],
      "source": [
        "learn_data.show_results()"
      ]
    },
    {
      "cell_type": "markdown",
      "metadata": {
        "id": "KmcFjfCp71uv"
      },
      "source": [
        "Predicting Batman's personality! The text is an excerpt from the opening monologue from the latest Batman movie"
      ]
    },
    {
      "cell_type": "code",
      "execution_count": null,
      "metadata": {
        "colab": {
          "base_uri": "https://localhost:8080/",
          "height": 17
        },
        "id": "rSa7vwxF54aH",
        "outputId": "3c87869a-3962-40c5-eb3d-24bb95780efd"
      },
      "outputs": [
        {
          "data": {
            "text/html": [
              "\n",
              "<style>\n",
              "    /* Turns off some styling */\n",
              "    progress {\n",
              "        /* gets rid of default border in Firefox and Opera. */\n",
              "        border: none;\n",
              "        /* Needs to be in here for Safari polyfill so background images work as expected. */\n",
              "        background-size: auto;\n",
              "    }\n",
              "    .progress-bar-interrupted, .progress-bar-interrupted::-webkit-progress-bar {\n",
              "        background: #F44336;\n",
              "    }\n",
              "</style>\n"
            ],
            "text/plain": [
              "<IPython.core.display.HTML object>"
            ]
          },
          "metadata": {},
          "output_type": "display_data"
        },
        {
          "data": {
            "text/html": [],
            "text/plain": [
              "<IPython.core.display.HTML object>"
            ]
          },
          "metadata": {},
          "output_type": "display_data"
        }
      ],
      "source": [
        "personality_pred = learn_data.predict(\"the city streets are crowded for the holiday even with the rain hidden in the chaos is the element waiting to strike like snakes and I'm there too watching two years of nights have turned me into a nocturnal animal I must choose my targets carefully it's a big city I can't be everywhere but they don't know where I am we have a signal now for when I'm needed when that light hits the sky it's not just a call it's a warning to them fear is a tool they think I'm hiding in the shadows but I am the shadows \")"
      ]
    },
    {
      "cell_type": "code",
      "execution_count": null,
      "metadata": {
        "colab": {
          "base_uri": "https://localhost:8080/"
        },
        "id": "XDoR-_8yCOEp",
        "outputId": "6199ccc9-bd59-44e8-eedf-df170afc2774"
      },
      "outputs": [
        {
          "data": {
            "text/plain": [
              "('INFP',\n",
              " TensorText(9),\n",
              " TensorText([7.8338e-06, 2.9012e-02, 3.0748e-07, 4.1500e-05, 5.0225e-10, 4.7580e-08,\n",
              "         2.5235e-08, 6.4461e-09, 4.9743e-02, 9.1842e-01, 3.9069e-04, 1.7030e-04,\n",
              "         1.3310e-08, 5.4167e-08, 1.5773e-06, 2.2155e-03]))"
            ]
          },
          "execution_count": 36,
          "metadata": {},
          "output_type": "execute_result"
        }
      ],
      "source": [
        "personality_pred"
      ]
    },
    {
      "cell_type": "markdown",
      "metadata": {
        "id": "QunBLDJG8A3D"
      },
      "source": [
        "Prediction Ferris Bueller's personality! This text is also an excerpt from the opening monologue in the movie"
      ]
    },
    {
      "cell_type": "code",
      "execution_count": null,
      "metadata": {
        "colab": {
          "base_uri": "https://localhost:8080/",
          "height": 17
        },
        "id": "yZCeHyjwCRmm",
        "outputId": "d80deb92-7ca6-4043-f1ac-b5474246a32a"
      },
      "outputs": [
        {
          "data": {
            "text/html": [
              "\n",
              "<style>\n",
              "    /* Turns off some styling */\n",
              "    progress {\n",
              "        /* gets rid of default border in Firefox and Opera. */\n",
              "        border: none;\n",
              "        /* Needs to be in here for Safari polyfill so background images work as expected. */\n",
              "        background-size: auto;\n",
              "    }\n",
              "    .progress-bar-interrupted, .progress-bar-interrupted::-webkit-progress-bar {\n",
              "        background: #F44336;\n",
              "    }\n",
              "</style>\n"
            ],
            "text/plain": [
              "<IPython.core.display.HTML object>"
            ]
          },
          "metadata": {},
          "output_type": "display_data"
        },
        {
          "data": {
            "text/html": [],
            "text/plain": [
              "<IPython.core.display.HTML object>"
            ]
          },
          "metadata": {},
          "output_type": "display_data"
        }
      ],
      "source": [
        "pred_2 = learn_data.predict(\"it’s getting pretty tough coming up with new illnesses if I go for ten I’m probably gonna have to barf up a lung so I’d better make this one count the key to faking out the parents is the clammy hands it’s a good non-specific symptom I’m a big believer in it you fake a stomach cramp and when you’re bent over moaning and wailing you lick your palms it’s a little childish and stupid but then so is high school I do have a test today that wasn’t bullshit it’s on European socialism I mean really what’s the point I’m not European I don’t plan on being European so who gives a crap if they’re socialists They could be fascist anarchists and it still wouldn’t change the fact that I don’t own a car \")"
      ]
    },
    {
      "cell_type": "code",
      "execution_count": null,
      "metadata": {
        "colab": {
          "base_uri": "https://localhost:8080/"
        },
        "id": "9vBykjHe7RIL",
        "outputId": "ec3d49ea-a379-4318-d0f7-65c9f5c7707c"
      },
      "outputs": [
        {
          "data": {
            "text/plain": [
              "('ENFP',\n",
              " TensorText(1),\n",
              " TensorText([6.5166e-03, 7.3162e-01, 1.3905e-04, 3.9060e-03, 2.6943e-06, 2.9573e-04,\n",
              "         9.5846e-04, 8.6021e-04, 1.0368e-02, 1.3896e-01, 7.6728e-04, 1.6737e-03,\n",
              "         2.9481e-06, 2.4342e-05, 2.2264e-05, 1.0388e-01]))"
            ]
          },
          "execution_count": 34,
          "metadata": {},
          "output_type": "execute_result"
        }
      ],
      "source": [
        "pred_2"
      ]
    },
    {
      "cell_type": "markdown",
      "metadata": {
        "id": "Ik-dGBIm_8ar"
      },
      "source": [
        "Another prediction!"
      ]
    },
    {
      "cell_type": "code",
      "execution_count": null,
      "metadata": {
        "colab": {
          "base_uri": "https://localhost:8080/",
          "height": 17
        },
        "id": "0xGfWET09yL7",
        "outputId": "c2eeab02-bd6d-4b09-c7b2-020f5faa1b12"
      },
      "outputs": [
        {
          "data": {
            "text/html": [
              "\n",
              "<style>\n",
              "    /* Turns off some styling */\n",
              "    progress {\n",
              "        /* gets rid of default border in Firefox and Opera. */\n",
              "        border: none;\n",
              "        /* Needs to be in here for Safari polyfill so background images work as expected. */\n",
              "        background-size: auto;\n",
              "    }\n",
              "    .progress-bar-interrupted, .progress-bar-interrupted::-webkit-progress-bar {\n",
              "        background: #F44336;\n",
              "    }\n",
              "</style>\n"
            ],
            "text/plain": [
              "<IPython.core.display.HTML object>"
            ]
          },
          "metadata": {},
          "output_type": "display_data"
        },
        {
          "data": {
            "text/html": [],
            "text/plain": [
              "<IPython.core.display.HTML object>"
            ]
          },
          "metadata": {},
          "output_type": "display_data"
        }
      ],
      "source": [
        "pred_3 = learn_data.predict(\"lets go out tonight and do something fun i think it would be great for us to loosen up we could really use it we could go somewhere really sophisticated or somewhere chill honestly I'd rather we just chill at home but I wanna do what you want\")"
      ]
    },
    {
      "cell_type": "code",
      "execution_count": null,
      "metadata": {
        "colab": {
          "base_uri": "https://localhost:8080/"
        },
        "id": "NY_HVoNP9649",
        "outputId": "fe2aa6c1-6473-4299-f8bd-38d019aec288"
      },
      "outputs": [
        {
          "data": {
            "text/plain": [
              "('ISTP',\n",
              " TensorText(15),\n",
              " TensorText([1.3710e-04, 4.3865e-01, 4.2858e-07, 1.4412e-04, 2.8034e-08, 7.4658e-04,\n",
              "         1.5696e-04, 5.2503e-04, 7.7977e-05, 4.1834e-02, 6.8362e-07, 3.2325e-06,\n",
              "         5.7930e-07, 1.0020e-06, 3.9102e-06, 5.1772e-01]))"
            ]
          },
          "execution_count": 66,
          "metadata": {},
          "output_type": "execute_result"
        }
      ],
      "source": [
        "pred_3"
      ]
    },
    {
      "cell_type": "markdown",
      "metadata": {
        "id": "xYOnJT_3Sq3F"
      },
      "source": [
        "#BERT\n",
        "\n",
        "Using the newer BERT model to predict MBTI types!"
      ]
    },
    {
      "cell_type": "code",
      "execution_count": 18,
      "metadata": {},
      "outputs": [
        {
          "name": "stdout",
          "output_type": "stream",
          "text": [
            "Requirement already satisfied: transformers in c:\\programdata\\anaconda3\\lib\\site-packages (4.18.0)\n",
            "Requirement already satisfied: regex!=2019.12.17 in c:\\programdata\\anaconda3\\lib\\site-packages (from transformers) (2021.8.3)\n",
            "Requirement already satisfied: numpy>=1.17 in c:\\programdata\\anaconda3\\lib\\site-packages (from transformers) (1.20.3)\n",
            "Requirement already satisfied: pyyaml>=5.1 in c:\\programdata\\anaconda3\\lib\\site-packages (from transformers) (6.0)\n",
            "Requirement already satisfied: sacremoses in c:\\programdata\\anaconda3\\lib\\site-packages (from transformers) (0.0.49)\n",
            "Requirement already satisfied: packaging>=20.0 in c:\\programdata\\anaconda3\\lib\\site-packages (from transformers) (21.0)\n",
            "Requirement already satisfied: tokenizers!=0.11.3,<0.13,>=0.11.1 in c:\\programdata\\anaconda3\\lib\\site-packages (from transformers) (0.12.1)\n",
            "Requirement already satisfied: tqdm>=4.27 in c:\\programdata\\anaconda3\\lib\\site-packages (from transformers) (4.62.3)\n",
            "Requirement already satisfied: huggingface-hub<1.0,>=0.1.0 in c:\\programdata\\anaconda3\\lib\\site-packages (from transformers) (0.5.1)\n",
            "Requirement already satisfied: requests in c:\\programdata\\anaconda3\\lib\\site-packages (from transformers) (2.26.0)\n",
            "Requirement already satisfied: filelock in c:\\programdata\\anaconda3\\lib\\site-packages (from transformers) (3.3.1)\n",
            "Requirement already satisfied: typing-extensions>=3.7.4.3 in c:\\programdata\\anaconda3\\lib\\site-packages (from huggingface-hub<1.0,>=0.1.0->transformers) (3.10.0.2)\n",
            "Requirement already satisfied: pyparsing>=2.0.2 in c:\\programdata\\anaconda3\\lib\\site-packages (from packaging>=20.0->transformers) (3.0.4)\n",
            "Requirement already satisfied: colorama in c:\\programdata\\anaconda3\\lib\\site-packages (from tqdm>=4.27->transformers) (0.4.4)\n",
            "Requirement already satisfied: idna<4,>=2.5 in c:\\programdata\\anaconda3\\lib\\site-packages (from requests->transformers) (3.2)\n",
            "Requirement already satisfied: charset-normalizer~=2.0.0 in c:\\programdata\\anaconda3\\lib\\site-packages (from requests->transformers) (2.0.4)\n",
            "Requirement already satisfied: urllib3<1.27,>=1.21.1 in c:\\programdata\\anaconda3\\lib\\site-packages (from requests->transformers) (1.26.7)\n",
            "Requirement already satisfied: certifi>=2017.4.17 in c:\\programdata\\anaconda3\\lib\\site-packages (from requests->transformers) (2021.10.8)\n",
            "Requirement already satisfied: six in c:\\programdata\\anaconda3\\lib\\site-packages (from sacremoses->transformers) (1.16.0)\n",
            "Requirement already satisfied: click in c:\\programdata\\anaconda3\\lib\\site-packages (from sacremoses->transformers) (8.0.3)\n",
            "Requirement already satisfied: joblib in c:\\programdata\\anaconda3\\lib\\site-packages (from sacremoses->transformers) (1.1.0)\n"
          ]
        }
      ],
      "source": [
        "import torch\n",
        "import random\n",
        "from torch.utils.data import TensorDataset\n",
        "from tqdm.notebook import tqdm\n",
        "from sklearn.model_selection import train_test_split\n",
        "from torch.utils.data import DataLoader, RandomSampler, SequentialSampler\n",
        "from sklearn.metrics import f1_score\n",
        "!pip install transformers\n",
        "from transformers import AdamW, get_linear_schedule_with_warmup,BertTokenizer,BertForSequenceClassification,TextClassificationPipeline"
      ]
    },
    {
      "cell_type": "code",
      "execution_count": 19,
      "metadata": {},
      "outputs": [],
      "source": [
        "device = torch.device('cuda' if torch.cuda.is_available() else 'cpu')\n",
        "data = pd.read_csv(r'mbti_cleaned_text_2.csv')"
      ]
    },
    {
      "cell_type": "code",
      "execution_count": 21,
      "metadata": {},
      "outputs": [],
      "source": [
        "# Array of all personality types & some data wrangling\n",
        "categories = data.type.unique()\n",
        "categories.tolist()\n",
        "category_indices = {}\n",
        "for index,categories in enumerate(categories):\n",
        "    category_indices[categories] = index\n",
        "data['category'] = data.type.replace(category_indices)\n",
        "\n",
        "\n",
        "# Test train split, 85 / 15\n",
        "x_train, x_test, y_train, y_test = train_test_split(data.index.values, data.category.values, test_size=0.15, random_state=20, stratify=data.category.values)\n",
        "data['data_type'] = ['not_set']*data.shape[0]\n",
        "data.loc[x_train,'data_type'] = 'train'\n",
        "data.loc[x_test,'data_type'] = 'test'"
      ]
    },
    {
      "cell_type": "code",
      "execution_count": 22,
      "metadata": {},
      "outputs": [],
      "source": [
        "# Initializing the tokenizer: this is what allows us to encode the data into tokens for BERT\n",
        "# Uses pretrained tokenizer and turns everything lowercase\n",
        "tokenizer = BertTokenizer.from_pretrained('bert-base-uncased', do_lower_case=True)\n",
        "\n",
        "# Encoding the training and testing data (takes a while)\n",
        "train_encode = tokenizer.batch_encode_plus(data[data.data_type=='train'].posts.values, add_special_tokens=True, return_attention_mask=True, max_length=256, padding='max_length', truncation=True, return_tensors='pt')\n",
        "test_encode = tokenizer.batch_encode_plus(data[data.data_type=='test'].posts.values, add_special_tokens=True, return_attention_mask=True, max_length=256, padding='max_length', truncation=True, return_tensors='pt')"
      ]
    },
    {
      "cell_type": "code",
      "execution_count": 23,
      "metadata": {},
      "outputs": [
        {
          "name": "stderr",
          "output_type": "stream",
          "text": [
            "Some weights of the model checkpoint at bert-base-uncased were not used when initializing BertForSequenceClassification: ['cls.predictions.transform.LayerNorm.bias', 'cls.predictions.transform.dense.weight', 'cls.seq_relationship.weight', 'cls.predictions.transform.dense.bias', 'cls.predictions.decoder.weight', 'cls.predictions.bias', 'cls.seq_relationship.bias', 'cls.predictions.transform.LayerNorm.weight']\n",
            "- This IS expected if you are initializing BertForSequenceClassification from the checkpoint of a model trained on another task or with another architecture (e.g. initializing a BertForSequenceClassification model from a BertForPreTraining model).\n",
            "- This IS NOT expected if you are initializing BertForSequenceClassification from the checkpoint of a model that you expect to be exactly identical (initializing a BertForSequenceClassification model from a BertForSequenceClassification model).\n",
            "Some weights of BertForSequenceClassification were not initialized from the model checkpoint at bert-base-uncased and are newly initialized: ['classifier.bias', 'classifier.weight']\n",
            "You should probably TRAIN this model on a down-stream task to be able to use it for predictions and inference.\n"
          ]
        }
      ],
      "source": [
        "# Setting up the framework to train BERT: IDs, masks, and labels -> DataLoaders & Model\n",
        "\n",
        "train_ids = train_encode['input_ids']\n",
        "train_mask = train_encode['attention_mask']\n",
        "train_labels = torch.tensor(data[data.data_type=='train'].category.values)\n",
        "\n",
        "test_ids = test_encode['input_ids']\n",
        "test_mask = test_encode['attention_mask']\n",
        "test_labels = torch.tensor(data[data.data_type=='test'].category.values)\n",
        "\n",
        "batch_size = 8\n",
        "\n",
        "train_data = TensorDataset(train_ids, train_mask, train_labels)\n",
        "test_data = TensorDataset(test_ids, test_mask, test_labels)\n",
        "train_data = DataLoader(train_data, sampler=RandomSampler(train_data), batch_size=batch_size)\n",
        "test_data = DataLoader(test_data, sampler=SequentialSampler(test_data), batch_size=batch_size)\n",
        "\n",
        "model = BertForSequenceClassification.from_pretrained(\"bert-base-uncased\", num_labels=len(category_indices), output_attentions=False, output_hidden_states=False)"
      ]
    },
    {
      "cell_type": "code",
      "execution_count": 24,
      "metadata": {},
      "outputs": [
        {
          "name": "stderr",
          "output_type": "stream",
          "text": [
            "C:\\ProgramData\\Anaconda3\\lib\\site-packages\\transformers\\optimization.py:306: FutureWarning: This implementation of AdamW is deprecated and will be removed in a future version. Use the PyTorch implementation torch.optim.AdamW instead, or set `no_deprecation_warning=True` to disable this warning\n",
            "  warnings.warn(\n"
          ]
        }
      ],
      "source": [
        "# Training Setup\n",
        "\n",
        "epochs = 10\n",
        "model.to(device)\n",
        "optimizer = AdamW(model.parameters(), lr=3e-5, eps=1e-6)\n",
        "scheduler = get_linear_schedule_with_warmup(optimizer, num_warmup_steps = 0.1, num_training_steps=len(train_data)*epochs)\n",
        "\n",
        "f1_scores = []\n",
        "f1_train_scores = []\n",
        "train_loss_history = []\n",
        "train_test_history = []\n",
        "\n",
        "seed_value = 20\n",
        "random.seed(seed_value)\n",
        "np.random.seed(seed_value)\n",
        "torch.manual_seed(seed_value)\n",
        "torch.cuda.manual_seed_all(seed_value)"
      ]
    },
    {
      "cell_type": "code",
      "execution_count": 32,
      "metadata": {},
      "outputs": [],
      "source": [
        "# Helper Functions\n",
        "\n",
        "def evaluate_model(dataloader):\n",
        "    model.eval()\n",
        "    pred = []\n",
        "    true_vals = []\n",
        "    total_loss = 0\n",
        "    for batch in dataloader:\n",
        "        # Ensures that everything moves to the GPU to make predictions work (IMPORTANT!!!)\n",
        "        batch = tuple(b.to(device) for b in batch)\n",
        "        inputs = {'input_ids': batch[0], 'attention_mask': batch[1], 'labels': batch[2]}\n",
        "        with torch.no_grad():        \n",
        "            outputs = model(**inputs)\n",
        "            \n",
        "        loss = outputs[0]\n",
        "        logits = outputs[1]\n",
        "        total_loss += loss.item()\n",
        "\n",
        "        logits = logits.detach().cpu().numpy()\n",
        "        label_ids = inputs['labels'].cpu().numpy()\n",
        "        pred.append(logits)\n",
        "        true_vals.append(label_ids)\n",
        "    \n",
        "    avg_loss = total_loss/len(dataloader) \n",
        "    \n",
        "    pred = np.concatenate(pred, axis=0)\n",
        "    true_vals = np.concatenate(true_vals, axis=0)\n",
        "            \n",
        "    return avg_loss, pred, true_vals\n",
        "\n",
        "\n",
        "def f1(preds, labels):\n",
        "    label = labels.flatten()\n",
        "    pred = np.argmax(preds, axis=1).flatten()\n",
        "    return f1_score(label, pred, average='weighted')\n",
        "\n",
        "def predict(str):\n",
        "    model.to(torch.device('cpu'))\n",
        "    pipe = TextClassificationPipeline(model=model, tokenizer=tokenizer, return_all_scores=True)\n",
        "    a = pipe(str)\n",
        "    max_score = 0.0\n",
        "    best_index = -1\n",
        "    for i in range(len(a[0])):\n",
        "        if a[0][i]['score'] > max_score:\n",
        "            max_score = a[0][i]['score']\n",
        "            best_index = i\n",
        "    \n",
        "    new_categories = data.type.unique()\n",
        "    new_categories.tolist()\n",
        "    print(new_categories[best_index])"
      ]
    },
    {
      "cell_type": "code",
      "execution_count": 27,
      "metadata": {},
      "outputs": [],
      "source": [
        "def train_loop(epochs):\n",
        "    for epoch in tqdm(range(1, epochs+1)):\n",
        "    \n",
        "        model.train()\n",
        "        \n",
        "        total_loss = 0\n",
        "\n",
        "        progress = tqdm(train_data, desc='Epoch {:1d}'.format(epoch), leave=False, disable=False)\n",
        "        for batch in progress:\n",
        "            model.zero_grad()\n",
        "            # IMPORTANT!!!\n",
        "            batch = tuple(b.to(device) for b in batch)\n",
        "            inputs = {'input_ids': batch[0], 'attention_mask': batch[1], 'labels': batch[2]}       \n",
        "            outputs = model(**inputs)\n",
        "            \n",
        "            loss = outputs[0]\n",
        "            total_loss += loss.item()\n",
        "            loss.backward()\n",
        "\n",
        "            torch.nn.utils.clip_grad_norm_(model.parameters(), 1.0)\n",
        "            optimizer.step()\n",
        "            scheduler.step()\n",
        "            progress.set_postfix({'training_loss': '{:.3f}'.format(loss.item()/len(batch))})\n",
        "            \n",
        "            \n",
        "        torch.save(model.state_dict(), ('BERT_epoch_' + str(epoch) + '.model'))\n",
        "        tqdm.write('Epoch #' + str(epoch))\n",
        "        \n",
        "        avg_loss = total_loss/len(train_data)            \n",
        "        tqdm.write('Training loss: ' + str(avg_loss))\n",
        "        \n",
        "        test_loss, predictions, true_vals = evaluate_model(test_data)\n",
        "        test_f1 = f1(predictions, true_vals)\n",
        "        f1_scores.append(test_f1)\n",
        "        tqdm.write('Test loss: ' + str(test_loss))\n",
        "\n",
        "        train_loss, predictions_train, true_vals_train = evaluate_model(train_data)\n",
        "        train_f1 = f1(predictions_train, true_vals_train)\n",
        "        f1_train_scores.append(train_f1)\n",
        "        train_test_history.append(test_loss)\n",
        "        \n",
        "        tqdm.write('F1 Test Score: ' + str(test_f1))"
      ]
    },
    {
      "cell_type": "code",
      "execution_count": 28,
      "metadata": {},
      "outputs": [
        {
          "data": {
            "application/vnd.jupyter.widget-view+json": {
              "model_id": "11b9ffc25c9143f49720dde3c6193ce9",
              "version_major": 2,
              "version_minor": 0
            },
            "text/plain": [
              "  0%|          | 0/10 [00:00<?, ?it/s]"
            ]
          },
          "metadata": {},
          "output_type": "display_data"
        },
        {
          "data": {
            "application/vnd.jupyter.widget-view+json": {
              "model_id": "96bb8f6dfcb74e35bcb9d131b7d3ea31",
              "version_major": 2,
              "version_minor": 0
            },
            "text/plain": [
              "Epoch 1:   0%|          | 0/922 [00:00<?, ?it/s]"
            ]
          },
          "metadata": {},
          "output_type": "display_data"
        },
        {
          "name": "stdout",
          "output_type": "stream",
          "text": [
            "Epoch #1\n",
            "Training loss: 2.0155106447394653\n",
            "Test loss: 1.769799702006615\n",
            "F1 Test Score: 0.41612607527318995\n"
          ]
        },
        {
          "data": {
            "application/vnd.jupyter.widget-view+json": {
              "model_id": "af8e49ad2f13442e96a027418f9e558a",
              "version_major": 2,
              "version_minor": 0
            },
            "text/plain": [
              "Epoch 2:   0%|          | 0/922 [00:00<?, ?it/s]"
            ]
          },
          "metadata": {},
          "output_type": "display_data"
        },
        {
          "name": "stdout",
          "output_type": "stream",
          "text": [
            "Epoch #2\n",
            "Training loss: 1.5685570454649191\n",
            "Test loss: 1.6450314931342938\n",
            "F1 Test Score: 0.4801546734391717\n"
          ]
        },
        {
          "data": {
            "application/vnd.jupyter.widget-view+json": {
              "model_id": "6d2e0a086d534b80bc7f92bb344488b7",
              "version_major": 2,
              "version_minor": 0
            },
            "text/plain": [
              "Epoch 3:   0%|          | 0/922 [00:00<?, ?it/s]"
            ]
          },
          "metadata": {},
          "output_type": "display_data"
        },
        {
          "name": "stdout",
          "output_type": "stream",
          "text": [
            "Epoch #3\n",
            "Training loss: 1.2505395273776996\n",
            "Test loss: 1.6533510381458727\n",
            "F1 Test Score: 0.5016604136857548\n"
          ]
        },
        {
          "data": {
            "application/vnd.jupyter.widget-view+json": {
              "model_id": "638c6807c6b244569fb4faac91b008ec",
              "version_major": 2,
              "version_minor": 0
            },
            "text/plain": [
              "Epoch 4:   0%|          | 0/922 [00:00<?, ?it/s]"
            ]
          },
          "metadata": {},
          "output_type": "display_data"
        },
        {
          "name": "stdout",
          "output_type": "stream",
          "text": [
            "Epoch #4\n",
            "Training loss: 0.918155601874414\n",
            "Test loss: 1.8716860409894605\n",
            "F1 Test Score: 0.5006590967927574\n"
          ]
        },
        {
          "data": {
            "application/vnd.jupyter.widget-view+json": {
              "model_id": "93377d577fd94958abf8a445fb732f6d",
              "version_major": 2,
              "version_minor": 0
            },
            "text/plain": [
              "Epoch 5:   0%|          | 0/922 [00:00<?, ?it/s]"
            ]
          },
          "metadata": {},
          "output_type": "display_data"
        },
        {
          "name": "stdout",
          "output_type": "stream",
          "text": [
            "Epoch #5\n",
            "Training loss: 0.646916861732747\n",
            "Test loss: 2.0869336760848576\n",
            "F1 Test Score: 0.4907568026839398\n"
          ]
        },
        {
          "data": {
            "application/vnd.jupyter.widget-view+json": {
              "model_id": "02b926de0309417180779dbed31d8af4",
              "version_major": 2,
              "version_minor": 0
            },
            "text/plain": [
              "Epoch 6:   0%|          | 0/922 [00:00<?, ?it/s]"
            ]
          },
          "metadata": {},
          "output_type": "display_data"
        },
        {
          "name": "stdout",
          "output_type": "stream",
          "text": [
            "Epoch #6\n",
            "Training loss: 0.4374246527551958\n",
            "Test loss: 2.4528690339780295\n",
            "F1 Test Score: 0.48392827120636034\n"
          ]
        },
        {
          "data": {
            "application/vnd.jupyter.widget-view+json": {
              "model_id": "91209248f33c49509b98afaeaf187629",
              "version_major": 2,
              "version_minor": 0
            },
            "text/plain": [
              "Epoch 7:   0%|          | 0/922 [00:00<?, ?it/s]"
            ]
          },
          "metadata": {},
          "output_type": "display_data"
        },
        {
          "name": "stdout",
          "output_type": "stream",
          "text": [
            "Epoch #7\n",
            "Training loss: 0.300354814688966\n",
            "Test loss: 2.796839086738832\n",
            "F1 Test Score: 0.48028863321218573\n"
          ]
        },
        {
          "data": {
            "application/vnd.jupyter.widget-view+json": {
              "model_id": "21f7207d5bc3424cb7d8b2204bfcf4f9",
              "version_major": 2,
              "version_minor": 0
            },
            "text/plain": [
              "Epoch 8:   0%|          | 0/922 [00:00<?, ?it/s]"
            ]
          },
          "metadata": {},
          "output_type": "display_data"
        },
        {
          "name": "stdout",
          "output_type": "stream",
          "text": [
            "Epoch #8\n",
            "Training loss: 0.2107216429208767\n",
            "Test loss: 3.0814850012217563\n",
            "F1 Test Score: 0.4763011881380931\n"
          ]
        },
        {
          "data": {
            "application/vnd.jupyter.widget-view+json": {
              "model_id": "6fcba049cdb04bbb884c93662697ff22",
              "version_major": 2,
              "version_minor": 0
            },
            "text/plain": [
              "Epoch 9:   0%|          | 0/922 [00:00<?, ?it/s]"
            ]
          },
          "metadata": {},
          "output_type": "display_data"
        },
        {
          "name": "stdout",
          "output_type": "stream",
          "text": [
            "Epoch #9\n",
            "Training loss: 0.15503104173606352\n",
            "Test loss: 3.1484918652867977\n",
            "F1 Test Score: 0.47035363764213883\n"
          ]
        },
        {
          "data": {
            "application/vnd.jupyter.widget-view+json": {
              "model_id": "0e8cbcd2fe0642f8876cf1761f61b06b",
              "version_major": 2,
              "version_minor": 0
            },
            "text/plain": [
              "Epoch 10:   0%|          | 0/922 [00:00<?, ?it/s]"
            ]
          },
          "metadata": {},
          "output_type": "display_data"
        },
        {
          "name": "stdout",
          "output_type": "stream",
          "text": [
            "Epoch #10\n",
            "Training loss: 0.10782617498520022\n",
            "Test loss: 3.2128277011444233\n",
            "F1 Test Score: 0.48087569470109776\n"
          ]
        }
      ],
      "source": [
        "train_loop(epochs=epochs)"
      ]
    },
    {
      "cell_type": "code",
      "execution_count": 35,
      "metadata": {},
      "outputs": [
        {
          "name": "stdout",
          "output_type": "stream",
          "text": [
            "INFP\n",
            "ENFP\n",
            "ENFP\n",
            "INFJ\n"
          ]
        }
      ],
      "source": [
        "# Predictions! Some can be off, but it seems decent.\n",
        "\n",
        "predict(\"I would like to stay inside all day.\")\n",
        "predict(\"I love going outside with my friends!\")\n",
        "predict(\"I love partying!!!\")\n",
        "predict(\"the city streets are crowded for the holiday even with the rain hidden in the chaos is the element waiting to strike like snakes and I'm there too watching two years of nights have turned me into a nocturnal animal I must choose my targets carefully it's a big city I can't be everywhere but they don't know where I am we have a signal now for when I'm needed when that light hits the sky it's not just a call it's a warning to them fear is a tool they think I'm hiding in the shadows but I am the shadows \")"
      ]
    },
    {
      "cell_type": "markdown",
      "metadata": {
        "id": "PtLGu3yxCdhW"
      },
      "source": [
        "#Issues"
      ]
    },
    {
      "cell_type": "markdown",
      "metadata": {
        "id": "BI0sl9EmWn5P"
      },
      "source": [
        "Causes for overfitting? Perhaps a skewed dataset! Some personality types were more represented than others in this dataset."
      ]
    },
    {
      "cell_type": "code",
      "execution_count": null,
      "metadata": {
        "colab": {
          "base_uri": "https://localhost:8080/",
          "height": 606
        },
        "id": "KbWPBH9OW2b9",
        "outputId": "465955aa-0e18-4f63-9a11-ce8362069561"
      },
      "outputs": [
        {
          "data": {
            "image/png": "[encoded data removed]",
            "text/plain": [
              "<Figure size 1440x720 with 1 Axes>"
            ]
          },
          "metadata": {
            "needs_background": "light"
          },
          "output_type": "display_data"
        }
      ],
      "source": [
        "plt.figure(figsize=(20,10))\n",
        "sns.countplot(x=mb.type)\n",
        "plt.xlabel('The 16 Personalities');"
      ]
    },
    {
      "cell_type": "code",
      "execution_count": null,
      "metadata": {
        "colab": {
          "base_uri": "https://localhost:8080/",
          "height": 609
        },
        "id": "kuVZVcVaW2kq",
        "outputId": "606c98aa-40c7-4796-eb70-e0935b9dc1d8"
      },
      "outputs": [
        {
          "data": {
            "image/png": "[encoded data removed]",
            "text/plain": [
              "<Figure size 1440x720 with 1 Axes>"
            ]
          },
          "metadata": {
            "needs_background": "light"
          },
          "output_type": "display_data"
        }
      ],
      "source": [
        "plt.figure(figsize=(20,10))\n",
        "sns.countplot(x=mb_I_E.type)\n",
        "plt.xlabel('Introverted vs. Extroverted');"
      ]
    },
    {
      "cell_type": "code",
      "execution_count": null,
      "metadata": {
        "colab": {
          "base_uri": "https://localhost:8080/",
          "height": 606
        },
        "id": "8iryv91qW2rY",
        "outputId": "27139b55-2227-42c2-b9d8-9a473dd57a8c"
      },
      "outputs": [
        {
          "data": {
            "image/png": "[encoded data removed]",
            "text/plain": [
              "<Figure size 1440x720 with 1 Axes>"
            ]
          },
          "metadata": {
            "needs_background": "light"
          },
          "output_type": "display_data"
        }
      ],
      "source": [
        "plt.figure(figsize=(20,10))\n",
        "sns.countplot(x=mb_N_S.type)\n",
        "plt.xlabel('Intuitive vs. Sensor');"
      ]
    },
    {
      "cell_type": "code",
      "execution_count": null,
      "metadata": {
        "colab": {
          "base_uri": "https://localhost:8080/",
          "height": 606
        },
        "id": "in5y5o8ZW2wZ",
        "outputId": "588db905-2b17-4033-9c31-8a75f08d553a"
      },
      "outputs": [
        {
          "data": {
            "image/png": "[encoded data removed]",
            "text/plain": [
              "<Figure size 1440x720 with 1 Axes>"
            ]
          },
          "metadata": {
            "needs_background": "light"
          },
          "output_type": "display_data"
        }
      ],
      "source": [
        "plt.figure(figsize=(20,10))\n",
        "sns.countplot(x=mb_F_T.type)\n",
        "plt.xlabel('Feeler vs. Thinker');"
      ]
    },
    {
      "cell_type": "code",
      "execution_count": null,
      "metadata": {
        "colab": {
          "base_uri": "https://localhost:8080/",
          "height": 606
        },
        "id": "dcC1vwpDW20g",
        "outputId": "62b43819-2263-412a-e1cf-5d98566d2596"
      },
      "outputs": [
        {
          "data": {
            "image/png": "[encoded data removed]",
            "text/plain": [
              "<Figure size 1440x720 with 1 Axes>"
            ]
          },
          "metadata": {
            "needs_background": "light"
          },
          "output_type": "display_data"
        }
      ],
      "source": [
        "plt.figure(figsize=(20,10))\n",
        "sns.countplot(x=mb_J_P.type)\n",
        "plt.xlabel('Judger vs. Perceiver');"
      ]
    }
  ],
  "metadata": {
    "accelerator": "GPU",
    "colab": {
      "collapsed_sections": [],
      "machine_shape": "hm",
      "name": "MBTI Project.ipynb",
      "provenance": []
    },
    "kernelspec": {
      "display_name": "Python 3",
      "name": "python3"
    },
    "language_info": {
      "codemirror_mode": {
        "name": "ipython",
        "version": 3
      },
      "file_extension": ".py",
      "mimetype": "text/x-python",
      "name": "python",
      "nbconvert_exporter": "python",
      "pygments_lexer": "ipython3",
      "version": "3.9.7"
    }
  },
  "nbformat": 4,
  "nbformat_minor": 0
}
